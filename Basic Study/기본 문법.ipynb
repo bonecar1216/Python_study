{
 "cells": [
  {
   "cell_type": "markdown",
   "id": "2c28e99a",
   "metadata": {},
   "source": [
    "### itertools"
   ]
  },
  {
   "cell_type": "code",
   "execution_count": 3,
   "id": "288027e9",
   "metadata": {},
   "outputs": [
    {
     "name": "stdout",
     "output_type": "stream",
     "text": [
      "[('A', 'B', 'C'), ('A', 'C', 'B'), ('B', 'A', 'C'), ('B', 'C', 'A'), ('C', 'A', 'B'), ('C', 'B', 'A')]\n"
     ]
    }
   ],
   "source": [
    "# 순열 (뽑는 순서 고려)\n",
    "from itertools import permutations\n",
    "\n",
    "data = ['A', 'B', 'C']\n",
    "\n",
    "result1 = list(permutations(data, 3)) # data내 3개 항목으로 모두 순열 구하기\n",
    "\n",
    "print(result)"
   ]
  },
  {
   "cell_type": "code",
   "execution_count": 4,
   "id": "5570715d",
   "metadata": {},
   "outputs": [
    {
     "name": "stdout",
     "output_type": "stream",
     "text": [
      "[('A', 'B'), ('A', 'C'), ('B', 'C')]\n"
     ]
    }
   ],
   "source": [
    "# 조합 (뽑는 순서 고려X)\n",
    "from itertools import combinations\n",
    "\n",
    "data2 = ['A', 'B', 'C']\n",
    "\n",
    "result2 = list(combinations(data, 2))  # 2개를 뽑는 모든 조합 구하기\n",
    "\n",
    "print(result2)"
   ]
  },
  {
   "cell_type": "code",
   "execution_count": 5,
   "id": "59587e61",
   "metadata": {},
   "outputs": [
    {
     "name": "stdout",
     "output_type": "stream",
     "text": [
      "[('A', 'A'), ('A', 'B'), ('A', 'C'), ('B', 'A'), ('B', 'B'), ('B', 'C'), ('C', 'A'), ('C', 'B'), ('C', 'C')]\n"
     ]
    }
   ],
   "source": [
    "# product (순열 & 중복 허용)\n",
    "from itertools import product\n",
    "\n",
    "data3 = ['A', 'B', 'C']\n",
    "\n",
    "result3 = list(product(data3, repeat = 2)) # 2개를 뽑는 모든 순열 구하기 (중복 허용)\n",
    "\n",
    "print(result3)"
   ]
  },
  {
   "cell_type": "code",
   "execution_count": 9,
   "id": "0c126a6d",
   "metadata": {},
   "outputs": [
    {
     "name": "stdout",
     "output_type": "stream",
     "text": [
      "[('A', 'A'), ('A', 'B'), ('A', 'C'), ('B', 'B'), ('B', 'C'), ('C', 'C')]\n"
     ]
    }
   ],
   "source": [
    "# combinations_with_replacement (조합 & 중복 허용)\n",
    "from itertools import combinations_with_replacement\n",
    "\n",
    "data4 = ['A', 'B', 'C']\n",
    "\n",
    "result4 = list(combinations_with_replacement(data4, 2))\n",
    "\n",
    "print(result4)"
   ]
  },
  {
   "cell_type": "markdown",
   "id": "ec2c2e9e",
   "metadata": {},
   "source": [
    "### heapq "
   ]
  },
  {
   "cell_type": "markdown",
   "id": "11f91f10",
   "metadata": {},
   "source": [
    "    * heapq.heappush(): 힙에 원소를 삽입\n",
    "    * heapq.heappop(): 힙에서 원소를 꺼낼 때"
   ]
  },
  {
   "cell_type": "code",
   "execution_count": 22,
   "id": "257dba2c",
   "metadata": {},
   "outputs": [
    {
     "name": "stdout",
     "output_type": "stream",
     "text": [
      "[0, 1, 2, 6, 3, 5, 4, 7, 8, 9]\n",
      "[0]\n",
      "[0, 1]\n",
      "[0, 1, 2]\n",
      "[0, 1, 2, 3]\n",
      "[0, 1, 2, 3, 4]\n",
      "[0, 1, 2, 3, 4, 5]\n",
      "[0, 1, 2, 3, 4, 5, 6]\n",
      "[0, 1, 2, 3, 4, 5, 6, 7]\n",
      "[0, 1, 2, 3, 4, 5, 6, 7, 8]\n",
      "[0, 1, 2, 3, 4, 5, 6, 7, 8, 9]\n",
      "[0, 1, 2, 3, 4, 5, 6, 7, 8, 9]\n"
     ]
    }
   ],
   "source": [
    "# 최소값부터 오름차순 정렬\n",
    "import heapq\n",
    "\n",
    "def heapsort(iterable):\n",
    "    h = []\n",
    "    result = []\n",
    "    # 모든 원소를 차례대로 힙에 삽입\n",
    "    for value in iterable:\n",
    "        heapq.heappush(h, value)\n",
    "    print(h)\n",
    "    # 힙에 삽입된 모든 원소를 차례대로 꺼내어 담기\n",
    "    for i in range(len(h)):\n",
    "        result.append(heapq.heappop(h))\n",
    "        print(result)\n",
    "    return result\n",
    "\n",
    "result5 = heapsort([1,3,5,7,9,2,4,6,8,0])\n",
    "print(result5)"
   ]
  },
  {
   "cell_type": "code",
   "execution_count": 23,
   "id": "1765f14b",
   "metadata": {},
   "outputs": [
    {
     "name": "stdout",
     "output_type": "stream",
     "text": [
      "[-9, -8, -4, -7, -5, -2, -3, -1, -6, 0]\n",
      "[9]\n",
      "[9, 8]\n",
      "[9, 8, 7]\n",
      "[9, 8, 7, 6]\n",
      "[9, 8, 7, 6, 5]\n",
      "[9, 8, 7, 6, 5, 4]\n",
      "[9, 8, 7, 6, 5, 4, 3]\n",
      "[9, 8, 7, 6, 5, 4, 3, 2]\n",
      "[9, 8, 7, 6, 5, 4, 3, 2, 1]\n",
      "[9, 8, 7, 6, 5, 4, 3, 2, 1, 0]\n",
      "[9, 8, 7, 6, 5, 4, 3, 2, 1, 0]\n"
     ]
    }
   ],
   "source": [
    "# 내림차순 정렬\n",
    "## heap max를 제공하지 않기 때문에 heap method를 변경시켜서 사용\n",
    "import heapq\n",
    "\n",
    "def heapsort2(iterable):\n",
    "    h = []\n",
    "    result = []\n",
    "    # 모든 원소를 차례대로 힙에 삽입\n",
    "    for value in iterable:\n",
    "        heapq.heappush(h, -value)\n",
    "    print(h)\n",
    "    # 힙에 삽입된 모든 원소를 차례대로 꺼내어 담기\n",
    "    for i in range(len(h)):\n",
    "        result.append(-heapq.heappop(h))  \n",
    "        print(result)\n",
    "    return result\n",
    "\n",
    "result6 = heapsort2([1,3,5,7,9,2,4,6,8,0])\n",
    "print(result6)"
   ]
  },
  {
   "cell_type": "markdown",
   "id": "9833550f",
   "metadata": {},
   "source": [
    "### bisect"
   ]
  },
  {
   "cell_type": "markdown",
   "id": "8c4e373d",
   "metadata": {},
   "source": [
    "    * bisect_left(a,x): 정렬된 순서를 유지하면서 리스트 a에 데이터 x를 삽입할 가장 왼쪽 인덱스를 찾는 메서드\n",
    "    * bisect_right(a,x): 정렬된 순서를 유지하면서 리스트 a에 데이터 x를 삽입할 가장 오른쪽 인덱스를 찾는 메서드"
   ]
  },
  {
   "cell_type": "code",
   "execution_count": 25,
   "id": "217b4a21",
   "metadata": {},
   "outputs": [
    {
     "name": "stdout",
     "output_type": "stream",
     "text": [
      "2\n",
      "4\n"
     ]
    }
   ],
   "source": [
    "from bisect import bisect_left, bisect_right\n",
    "\n",
    "a = [1, 2, 4, 4, 8]\n",
    "x = 4\n",
    "\n",
    "# 4의 왼쪽 인덱스값 2 출력\n",
    "print(bisect_left(a,x))\n",
    "# 4의 오른족 인덱스값 4 출력\n",
    "print(bisect_right(a,x))"
   ]
  },
  {
   "cell_type": "code",
   "execution_count": 26,
   "id": "e0189501",
   "metadata": {},
   "outputs": [
    {
     "name": "stdout",
     "output_type": "stream",
     "text": [
      "2\n",
      "6\n"
     ]
    }
   ],
   "source": [
    "# 정렬된 리스트에서 값이 특정 범위에 속하는 원소의 개수 구하기\n",
    "\n",
    "from bisect import bisect_left, bisect_right\n",
    "\n",
    "# 값이 [left_value, right_value]인 데이터의 개수를 반환하는 함수\n",
    "def count_by_range(a, left_value, right_value):\n",
    "    right_index = bisect_right(a, right_value)\n",
    "    left_index = bisect_left(a, left_value)\n",
    "    return right_index - left_index\n",
    "\n",
    "# 리스트 선언\n",
    "a = [1,2,3,3,3,3,4,4,8,9]\n",
    "\n",
    "# 값이 4인 데이터 개수 출력\n",
    "print(count_by_range(a, 4, 4))\n",
    "\n",
    "# 값이 [-1,3] 범위에 있는 데이터 개수 출력\n",
    "print(count_by_range(a, -1, 3))"
   ]
  },
  {
   "cell_type": "markdown",
   "id": "83d47f65",
   "metadata": {},
   "source": [
    "### collections"
   ]
  },
  {
   "cell_type": "markdown",
   "id": "3b4243ad",
   "metadata": {},
   "source": [
    "    <deque>\n",
    "    * popleft(): 첫 번째 원소를 제거할거 때\n",
    "    * pop(): 마지막 원소를 제거할 때\n",
    "    * appendleft(x): 첫 번재 인덱스에 원소 x를 삽입할 때\n",
    "    * append(x): 마지막 인덱스에 원소 x를 삽입할 때"
   ]
  },
  {
   "cell_type": "code",
   "execution_count": 27,
   "id": "d185094d",
   "metadata": {},
   "outputs": [
    {
     "name": "stdout",
     "output_type": "stream",
     "text": [
      "deque([1, 2, 3, 4, 5])\n",
      "[1, 2, 3, 4, 5]\n"
     ]
    }
   ],
   "source": [
    "from collections import deque\n",
    "\n",
    "data = deque([2,3,4])\n",
    "data.appendleft(1)\n",
    "data.append(5)\n",
    "\n",
    "print(data)\n",
    "print(list(data))   # 리스트 자료형으로 변환"
   ]
  },
  {
   "cell_type": "markdown",
   "id": "b899b37d",
   "metadata": {},
   "source": [
    "    * Counter: 등장하는 횟수를 세는 기능"
   ]
  },
  {
   "cell_type": "code",
   "execution_count": 28,
   "id": "b281e6c1",
   "metadata": {},
   "outputs": [
    {
     "name": "stdout",
     "output_type": "stream",
     "text": [
      "3\n",
      "1\n",
      "{'red': 2, 'blue': 3, 'green': 1}\n"
     ]
    }
   ],
   "source": [
    "\n",
    "from collections import Counter\n",
    "\n",
    "counter = Counter(['red', 'blue', 'red', 'green', 'blue', 'blue'])\n",
    "\n",
    "print(counter['blue'])\n",
    "print(counter['green'])\n",
    "print(dict(counter))"
   ]
  },
  {
   "cell_type": "markdown",
   "id": "9d41d985",
   "metadata": {},
   "source": [
    "### math"
   ]
  },
  {
   "cell_type": "code",
   "execution_count": 30,
   "id": "31fba439",
   "metadata": {},
   "outputs": [
    {
     "name": "stdout",
     "output_type": "stream",
     "text": [
      "120\n"
     ]
    }
   ],
   "source": [
    "import math\n",
    "\n",
    "# factorial\n",
    "print(math.factorial(5))"
   ]
  },
  {
   "cell_type": "code",
   "execution_count": 31,
   "id": "859ba193",
   "metadata": {},
   "outputs": [
    {
     "name": "stdout",
     "output_type": "stream",
     "text": [
      "21\n"
     ]
    }
   ],
   "source": [
    "# 최대공약수\n",
    "print(math.gcd(21,42))"
   ]
  },
  {
   "cell_type": "code",
   "execution_count": 32,
   "id": "162642a0",
   "metadata": {},
   "outputs": [
    {
     "name": "stdout",
     "output_type": "stream",
     "text": [
      "30\n"
     ]
    }
   ],
   "source": [
    "# 최소공배수\n",
    "print(math.lcm(3,5,6))"
   ]
  },
  {
   "cell_type": "code",
   "execution_count": 33,
   "id": "ee2f80b1",
   "metadata": {},
   "outputs": [
    {
     "name": "stdout",
     "output_type": "stream",
     "text": [
      "3.141592653589793\n"
     ]
    }
   ],
   "source": [
    "# pi 출력\n",
    "print(math.pi)"
   ]
  },
  {
   "cell_type": "code",
   "execution_count": 34,
   "id": "add98bdc",
   "metadata": {},
   "outputs": [
    {
     "name": "stdout",
     "output_type": "stream",
     "text": [
      "2.718281828459045\n"
     ]
    }
   ],
   "source": [
    "# 자연상수 e cnffur\n",
    "print(math.e)"
   ]
  }
 ],
 "metadata": {
  "kernelspec": {
   "display_name": "Python 3 (ipykernel)",
   "language": "python",
   "name": "python3"
  },
  "language_info": {
   "codemirror_mode": {
    "name": "ipython",
    "version": 3
   },
   "file_extension": ".py",
   "mimetype": "text/x-python",
   "name": "python",
   "nbconvert_exporter": "python",
   "pygments_lexer": "ipython3",
   "version": "3.9.13"
  }
 },
 "nbformat": 4,
 "nbformat_minor": 5
}
