{
 "cells": [
  {
   "attachments": {},
   "cell_type": "markdown",
   "metadata": {},
   "source": [
    "## 문제\n",
    "    동빈이는 두 개의 배열 A와 B를 가지고 있다. 두 배열은 N개의 원소로 구성되어 있으며, 배열의 원소는\n",
    "    모두 자연수이다\n",
    "\n",
    "    동빈이는 최대 K 번의 바꿔치기 연산을 수행할 수 있는데, 바꿔치기 연산이란 배열 A에 있는 원소 하나와\n",
    "    배열 B에 있는 원소 하나를 골라서 두 원소를 서로 바꾸는 것을 말한다\n",
    "\n",
    "    동빈이의 최종 목표는 배열 A의 모든 원소의 합이 최대가 되도록 하는 것이며, 여러분은 동빈이를 도와야한다\n",
    "\n",
    "    N, K, 그리고 배열 A와 B의 정보가 주어졌을 때, 최대 K 번의 바꿔치기 연산을 수행하여 만들 수 있는\n",
    "    배열 A의 모든 원소의 합의 최댓값을 출력하는 프로그램을 작성하라\n",
    "\n",
    "    예를 들어 N = 5, K = 3이고, 배열 A와 B가 다음과 같다고 해보자\n",
    "\n",
    "    배열 A = [1, 2, 5, 4, 3]\n",
    "\n",
    "    배열 B = [5, 5, 6, 6, 5]\n",
    "    이 경우, 다음과 같이 세 번의 연산을 수행할 수 있다\n",
    "\n",
    "    연산 1) 배열 A의 원소 '1'과 배열 B의 원소 '6'을 바꾸기\n",
    "\n",
    "    연산 2) 배열 A의 원소 '2'와 배열 B의 원소 '6'을 바꾸기\n",
    "\n",
    "    연산 3) 배열 A의 원소 '3'과 배열 B의 원소 '5'를 바꾸기\n",
    "    세 번의 연산 이후 배열 A와 배열 B의 상태는 다음과 같이 구성될 것이다\n",
    "\n",
    "    배열 A = [6, 6, 5, 4, 5]\n",
    "\n",
    "    배열 B = [3, 5, 1, 2, 5]\n",
    "    이때 배열 A의 모든 원소의 합은 26이 되며, 이보다 더 합을 크게 만들 수는 없다\n",
    "\n",
    "## 입력\n",
    "    첫 번째 줄: N, K 가 공백으로 구분되어 입력 (1 <= N <= 100,000, 0 <= K <= N)\n",
    "    두 번째 줄: 배열 A의 원소들이 공백으로 구분되어 입력 (원소 a < 10,000,000인 자연수)\n",
    "    세 번째 줄: 배열 B의 원소들이 공백으로 구분되어 입력 (원소 b < 10,000,000인 자연수)\n",
    "\n",
    "## 출력\n",
    "    최대 K번 바꿔치기 연산을 수행해서 가장 최대의 합을 갖는 A의 모든 원소 값의 합을 출력"
   ]
  },
  {
   "attachments": {},
   "cell_type": "markdown",
   "metadata": {},
   "source": [
    "## 예제 (입력/출력)\n",
    "    5 3\n",
    "    1 2 5 4 3\n",
    "    5 5 6 6 5\n",
    "    /\n",
    "    26"
   ]
  },
  {
   "cell_type": "code",
   "execution_count": 1,
   "metadata": {},
   "outputs": [
    {
     "name": "stdout",
     "output_type": "stream",
     "text": [
      "26\n"
     ]
    }
   ],
   "source": [
    "n,k = map(int,input().split())\n",
    "\n",
    "a = list(map(int,input().split()))\n",
    "b = list(map(int,input().split()))\n",
    "\n",
    "# a의 모든 원소 값이 최대가 되기 위해서는 a의 작은 값들을 b의 큰 값들로 치환해주면 됨.\n",
    "## a는 오름차순 정렬, b는 내림차순 정렬\n",
    "a.sort()\n",
    "b.sort(reverse=True)\n",
    "\n",
    "for i in range(k):\n",
    "    if a[i] < b[i]:\n",
    "        a[i],b[i] = b[i],a[i]\n",
    "    else:\n",
    "        break\n",
    "\n",
    "print(sum(a))"
   ]
  }
 ],
 "metadata": {
  "kernelspec": {
   "display_name": "base",
   "language": "python",
   "name": "python3"
  },
  "language_info": {
   "codemirror_mode": {
    "name": "ipython",
    "version": 3
   },
   "file_extension": ".py",
   "mimetype": "text/x-python",
   "name": "python",
   "nbconvert_exporter": "python",
   "pygments_lexer": "ipython3",
   "version": "3.10.4"
  },
  "orig_nbformat": 4,
  "vscode": {
   "interpreter": {
    "hash": "c5e7ae27de7e676b977196ac8e997f52ed2b06660c7c04fca6a938abe3eb249e"
   }
  }
 },
 "nbformat": 4,
 "nbformat_minor": 2
}
