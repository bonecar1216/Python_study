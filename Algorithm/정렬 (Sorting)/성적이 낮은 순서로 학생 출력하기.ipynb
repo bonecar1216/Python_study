{
 "cells": [
  {
   "attachments": {},
   "cell_type": "markdown",
   "metadata": {},
   "source": [
    "## 문제\n",
    "    N명의 학생 정보가 있다. 학생 정보는 학생의 이름과 학생의 성적으로 구분된다. 각 학생의 이름과 성적 정보가 주어졌을 때 성적이 낮은 순서대로 학생의 이름을 출력하는 프로그램을 작성하시오.\n",
    "\n",
    "## 입력 조건\n",
    "    첫 번째 줄에 학생의 수 N이 입력된다.(1 <= N <= 100,000)\n",
    "    두 번째 줄부터 N + 1번째 줄에는 학생의 이름을 나타내는 문자열 A와 학생의 성적을 나타내는 정수 B가 공백으로 구분되어 입력된다. 문자열 A의 길이와 학생의 성적은 100 이하의 자연수이다.\n",
    "\n",
    "## 출력 조건\n",
    "    모든 학생의 이름을 성적이 낮은 순서대로 출력한다. 성적이 동일한 학생들의 순서는 자유롭게 출력해도 괜찮다.\n"
   ]
  },
  {
   "cell_type": "markdown",
   "metadata": {},
   "source": [
    "## 입력 예시\n",
    "    2\n",
    "    홍길동 95\n",
    "    이순신 77\n",
    "\n",
    "## 출력 예시\n",
    "    이순신 홍길동"
   ]
  },
  {
   "cell_type": "code",
   "execution_count": 4,
   "metadata": {},
   "outputs": [
    {
     "name": "stdout",
     "output_type": "stream",
     "text": [
      "<class 'list'>\n",
      "<class 'list'>\n",
      "이순신 홍길동 "
     ]
    }
   ],
   "source": [
    "# n을 입력 받기\n",
    "n = int(input())\n",
    "\n",
    "# n명의 학생 정보를 입력받아 리스트에 저장\n",
    "array = []\n",
    "for i in range(n):\n",
    "    input_data = input().split() # 리스트형 자료\n",
    "    # 이름은 문자열 그대로, 점수는 정수형으로 변환하여 저장\n",
    "    array.append((input_data[0], int(input_data[1])))\n",
    "    \n",
    "# 키(key)를 이용하여, 점수를 기준으로 정렬\n",
    "array = sorted(array, key = lambda student: student[1])\n",
    "\n",
    "# 정렬이 수행된 결과를 출력\n",
    "for student in array:\n",
    "    print(student[0], end = ' ')"
   ]
  }
 ],
 "metadata": {
  "kernelspec": {
   "display_name": "base",
   "language": "python",
   "name": "python3"
  },
  "language_info": {
   "codemirror_mode": {
    "name": "ipython",
    "version": 3
   },
   "file_extension": ".py",
   "mimetype": "text/x-python",
   "name": "python",
   "nbconvert_exporter": "python",
   "pygments_lexer": "ipython3",
   "version": "3.10.4"
  },
  "orig_nbformat": 4,
  "vscode": {
   "interpreter": {
    "hash": "c5e7ae27de7e676b977196ac8e997f52ed2b06660c7c04fca6a938abe3eb249e"
   }
  }
 },
 "nbformat": 4,
 "nbformat_minor": 2
}
