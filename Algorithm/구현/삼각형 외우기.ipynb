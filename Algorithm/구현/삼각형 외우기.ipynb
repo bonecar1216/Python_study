{
 "cells": [
  {
   "attachments": {},
   "cell_type": "markdown",
   "metadata": {},
   "source": [
    "## 문제\n",
    "    창영이는 삼각형의 종류를 잘 구분하지 못한다. 따라서 프로그램을 이용해 이를 외우려고 한다.\n",
    "\n",
    "    삼각형의 세 각을 입력받은 다음, \n",
    "\n",
    "    세 각의 크기가 모두 60이면, Equilateral\n",
    "    세 각의 합이 180이고, 두 각이 같은 경우에는 Isosceles\n",
    "    세 각의 합이 180이고, 같은 각이 없는 경우에는 Scalene\n",
    "    세 각의 합이 180이 아닌 경우에는 Error\n",
    "    를 출력하는 프로그램을 작성하시오.\n",
    "\n",
    "## 입력\n",
    "    총 3개의 줄에 걸쳐 삼각형의 각의 크기가 주어진다. 모든 정수는 0보다 크고, 180보다 작다.\n",
    "\n",
    "## 출력\n",
    "    문제의 설명에 따라 Equilateral, Isosceles, Scalene, Error 중 하나를 출력한다.\n",
    "\n",
    "    https://www.acmicpc.net/problem/10101"
   ]
  },
  {
   "attachments": {},
   "cell_type": "markdown",
   "metadata": {},
   "source": [
    "## 예제 (입력/출력)\n",
    "    60\n",
    "    70\n",
    "    50\n",
    "    / Scalene"
   ]
  },
  {
   "cell_type": "code",
   "execution_count": 2,
   "metadata": {},
   "outputs": [
    {
     "name": "stdout",
     "output_type": "stream",
     "text": [
      "Scalene\n"
     ]
    }
   ],
   "source": [
    "a = int(input())\n",
    "b = int(input())\n",
    "c = int(input())\n",
    "\n",
    "if a == b == c == 60:\n",
    "    print('Equilateral')\n",
    "\n",
    "elif a+b+c == 180:\n",
    "    if a == b or a == c or b == c: # 세 개의 각이 모두 같은 경우는 처음 조건에 해당함.\n",
    "        print('Isosceles')\n",
    "    else:\n",
    "        print('Scalene')\n",
    "    \n",
    "else:\n",
    "    print('Error')\n",
    "\n"
   ]
  }
 ],
 "metadata": {
  "kernelspec": {
   "display_name": "base",
   "language": "python",
   "name": "python3"
  },
  "language_info": {
   "codemirror_mode": {
    "name": "ipython",
    "version": 3
   },
   "file_extension": ".py",
   "mimetype": "text/x-python",
   "name": "python",
   "nbconvert_exporter": "python",
   "pygments_lexer": "ipython3",
   "version": "3.10.4"
  },
  "orig_nbformat": 4
 },
 "nbformat": 4,
 "nbformat_minor": 2
}
