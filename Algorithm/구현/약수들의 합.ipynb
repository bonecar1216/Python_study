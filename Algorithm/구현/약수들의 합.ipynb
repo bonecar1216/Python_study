{
 "cells": [
  {
   "attachments": {},
   "cell_type": "markdown",
   "metadata": {},
   "source": [
    "## 문제\n",
    "    어떤 숫자 n이 자신을 제외한 모든 약수들의 합과 같으면, 그 수를 완전수라고 한다.\n",
    "\n",
    "    예를 들어 6은 6 = 1 + 2 + 3 으로 완전수이다.\n",
    "\n",
    "    n이 완전수인지 아닌지 판단해주는 프로그램을 작성하라.\n",
    "\n",
    "## 입력\n",
    "    입력은 테스트 케이스마다 한 줄 간격으로 n이 주어진다. (2 < n < 100,000)\n",
    "\n",
    "    입력의 마지막엔 -1이 주어진다.\n",
    "\n",
    "## 출력\n",
    "    테스트케이스 마다 한줄에 하나씩 출력해야 한다.\n",
    "\n",
    "    n이 완전수라면, n을 n이 아닌 약수들의 합으로 나타내어 출력한다(예제 출력 참고).\n",
    "\n",
    "    이때, 약수들은 오름차순으로 나열해야 한다.\n",
    "\n",
    "    n이 완전수가 아니라면 n is NOT perfect. 를 출력한다.\n",
    "\n",
    "    https://www.acmicpc.net/problem/9506"
   ]
  },
  {
   "attachments": {},
   "cell_type": "markdown",
   "metadata": {},
   "source": [
    "## 예제 (입력/출력)\n",
    "    6\n",
    "    12\n",
    "    28\n",
    "    -1\n",
    "    /\n",
    "    6 = 1 + 2 + 3\n",
    "    12 is NOT perfect.\n",
    "    28 = 1 + 2 + 4 + 7 + 14"
   ]
  },
  {
   "cell_type": "code",
   "execution_count": 12,
   "metadata": {},
   "outputs": [
    {
     "name": "stdout",
     "output_type": "stream",
     "text": [
      "6 = 1 + 2 + 3 \n",
      "12 is NOT perfect.\n",
      "28 = 1 + 2 + 4 + 7 + 14 \n"
     ]
    }
   ],
   "source": [
    "while True:\n",
    "    n = int(input())\n",
    "    if n == -1:\n",
    "        break\n",
    "    \n",
    "    divisor = []\n",
    "    divisor_sum = 0\n",
    "    for i in range(1, n):\n",
    "        if n%i == 0:\n",
    "            divisor.append(i)\n",
    "            divisor_sum += i\n",
    "    \n",
    "    if divisor_sum == n:\n",
    "        print(str(n), '=' , end =' ')\n",
    "        for i in range(len(divisor)):\n",
    "            print(str(divisor[i]) , end =' ')\n",
    "            if i == len(divisor) - 1:\n",
    "                break\n",
    "            print('+' , end =' ')\n",
    "        print()\n",
    "\n",
    "    else:\n",
    "        print(f'{n} is NOT perfect.')            "
   ]
  }
 ],
 "metadata": {
  "kernelspec": {
   "display_name": "base",
   "language": "python",
   "name": "python3"
  },
  "language_info": {
   "codemirror_mode": {
    "name": "ipython",
    "version": 3
   },
   "file_extension": ".py",
   "mimetype": "text/x-python",
   "name": "python",
   "nbconvert_exporter": "python",
   "pygments_lexer": "ipython3",
   "version": "3.10.4"
  },
  "orig_nbformat": 4
 },
 "nbformat": 4,
 "nbformat_minor": 2
}
