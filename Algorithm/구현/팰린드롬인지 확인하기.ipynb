{
 "cells": [
  {
   "attachments": {},
   "cell_type": "markdown",
   "metadata": {},
   "source": [
    "## 문제\n",
    "    알파벳 소문자로만 이루어진 단어가 주어진다. 이때, 이 단어가 팰린드롬인지 아닌지 확인하는 프로그램을 작성하시오.\n",
    "\n",
    "    팰린드롬이란 앞으로 읽을 때와 거꾸로 읽을 때 똑같은 단어를 말한다. \n",
    "\n",
    "    level, noon은 팰린드롬이고, baekjoon, online, judge는 팰린드롬이 아니다.\n",
    "\n",
    "## 입력\n",
    "    첫째 줄에 단어가 주어진다. 단어의 길이는 1보다 크거나 같고, 100보다 작거나 같으며, 알파벳 소문자로만 이루어져 있다.\n",
    "\n",
    "## 출력\n",
    "    첫째 줄에 팰린드롬이면 1, 아니면 0을 출력한다.\n",
    "\n",
    "    https://www.acmicpc.net/problem/10988"
   ]
  },
  {
   "attachments": {},
   "cell_type": "markdown",
   "metadata": {},
   "source": [
    "## 예제 1(입력/출력)\n",
    "    level / 1\n",
    "## 예제 2(입력/출력)\n",
    "    baekjoon / 0"
   ]
  },
  {
   "cell_type": "code",
   "execution_count": 5,
   "metadata": {},
   "outputs": [
    {
     "name": "stdout",
     "output_type": "stream",
     "text": [
      "1\n"
     ]
    }
   ],
   "source": [
    "s = input()\n",
    "\n",
    "# 문자열 길이가 짝수인 경우, 문자열을 절반으로 쪼개서 비교\n",
    "# 앞쪽 문자열을 front에, 뒤쪽 문자열을 back에 저장\n",
    "if len(s)%2==0:\n",
    "    front = s[:len(s)//2]\n",
    "    back = s[len(s)//2:]\n",
    "# 문자열 길이가 홀수인 경우, 문자열 중심을 제외하고 절반으로 쪼개서 비교\n",
    "# 앞쪽 문자열을 front에, 뒤쪽 문자열을 back에 저장\n",
    "else:\n",
    "    front = s[:len(s)//2]\n",
    "    back = s[len(s)//2+1:]\n",
    "\n",
    "# 앞쪽 문자열과 뒤쪽 문자열의 역순을 비교\n",
    "if front == back[::-1]:\n",
    "    print(1)\n",
    "else:\n",
    "    print(0)"
   ]
  },
  {
   "cell_type": "code",
   "execution_count": 6,
   "metadata": {},
   "outputs": [
    {
     "name": "stdout",
     "output_type": "stream",
     "text": [
      "0\n"
     ]
    }
   ],
   "source": [
    "s = input()\n",
    "\n",
    "# 문자열 길이가 짝수인 경우, 문자열을 절반으로 쪼개서 비교\n",
    "# 앞쪽 문자열을 front에, 뒤쪽 문자열을 back에 저장\n",
    "if len(s)%2==0:\n",
    "    front = s[:len(s)//2]\n",
    "    back = s[len(s)//2:]\n",
    "# 문자열 길이가 홀수인 경우, 문자열 중심을 제외하고 절반으로 쪼개서 비교\n",
    "# 앞쪽 문자열을 front에, 뒤쪽 문자열을 back에 저장\n",
    "else:\n",
    "    front = s[:len(s)//2]\n",
    "    back = s[len(s)//2+1:]\n",
    "\n",
    "# 앞쪽 문자열과 뒤쪽 문자열의 역순을 비교\n",
    "if front == back[::-1]:\n",
    "    print(1)\n",
    "else:\n",
    "    print(0)"
   ]
  }
 ],
 "metadata": {
  "kernelspec": {
   "display_name": "Python 3",
   "language": "python",
   "name": "python3"
  },
  "language_info": {
   "codemirror_mode": {
    "name": "ipython",
    "version": 3
   },
   "file_extension": ".py",
   "mimetype": "text/x-python",
   "name": "python",
   "nbconvert_exporter": "python",
   "pygments_lexer": "ipython3",
   "version": "3.9.6"
  },
  "orig_nbformat": 4
 },
 "nbformat": 4,
 "nbformat_minor": 2
}
