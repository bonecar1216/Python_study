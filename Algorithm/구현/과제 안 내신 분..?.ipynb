{
 "cells": [
  {
   "attachments": {},
   "cell_type": "markdown",
   "metadata": {},
   "source": [
    "## 문제\n",
    "    X대학 M교수님은 프로그래밍 수업을 맡고 있다. 교실엔 학생이 30명이 있는데, 학생 명부엔 각 학생별로 1번부터 30번까지 출석번호가 붙어 있다.\n",
    "\n",
    "    교수님이 내준 특별과제를 28명이 제출했는데, 그 중에서 제출 안 한 학생 2명의 출석번호를 구하는 프로그램을 작성하시오.\n",
    "\n",
    "## 입력\n",
    "    입력은 총 28줄로 각 제출자(학생)의 출석번호 n(1 ≤ n ≤ 30)가 한 줄에 하나씩 주어진다. 출석번호에 중복은 없다.\n",
    "\n",
    "## 출력\n",
    "    출력은 2줄이다. 1번째 줄엔 제출하지 않은 학생의 출석번호 중 가장 작은 것을 출력하고, 2번째 줄에선 그 다음 출석번호를 출력한다.\n",
    "\n",
    "    https://www.acmicpc.net/problem/5597"
   ]
  },
  {
   "attachments": {},
   "cell_type": "markdown",
   "metadata": {},
   "source": [
    "## 예제 1(입력/출력)\n",
    "    3\n",
    "    1\n",
    "    4\n",
    "    5\n",
    "    7\n",
    "    9\n",
    "    6\n",
    "    10\n",
    "    11\n",
    "    12\n",
    "    13\n",
    "    14\n",
    "    15\n",
    "    16\n",
    "    17\n",
    "    18\n",
    "    19\n",
    "    20\n",
    "    21\n",
    "    22\n",
    "    23\n",
    "    24\n",
    "    25\n",
    "    26\n",
    "    27\n",
    "    28\n",
    "    29\n",
    "    30\n",
    "    / \n",
    "    2 \n",
    "    8\n",
    "## 예제 2(입력/출력)\n",
    "    9\n",
    "    30\n",
    "    6\n",
    "    12\n",
    "    10\n",
    "    20\n",
    "    21\n",
    "    11\n",
    "    7\n",
    "    5\n",
    "    28\n",
    "    4\n",
    "    18\n",
    "    29\n",
    "    17\n",
    "    19\n",
    "    27\n",
    "    13\n",
    "    16\n",
    "    26\n",
    "    14\n",
    "    23\n",
    "    22\n",
    "    15\n",
    "    3\n",
    "    1\n",
    "    24\n",
    "    25\n",
    "    / \n",
    "    2 \n",
    "    8"
   ]
  },
  {
   "cell_type": "code",
   "execution_count": 4,
   "metadata": {},
   "outputs": [
    {
     "name": "stdout",
     "output_type": "stream",
     "text": [
      "2\n",
      "8\n"
     ]
    }
   ],
   "source": [
    "student_list = [False] * (31)\n",
    "\n",
    "for _ in range(28):\n",
    "    i = int(input())\n",
    "    student_list[i] = True\n",
    "ans = []\n",
    "for j in range(1,len(student_list)):\n",
    "    if not student_list[j]:\n",
    "        ans.append(j)\n",
    "\n",
    "ans.sort()\n",
    "print(ans[0])\n",
    "print(ans[1])"
   ]
  },
  {
   "cell_type": "code",
   "execution_count": 5,
   "metadata": {},
   "outputs": [
    {
     "name": "stdout",
     "output_type": "stream",
     "text": [
      "2\n",
      "8\n"
     ]
    }
   ],
   "source": [
    "student_list = [False] * (31)\n",
    "\n",
    "for _ in range(28):\n",
    "    i = int(input())\n",
    "    student_list[i] = True\n",
    "ans = []\n",
    "for j in range(1,len(student_list)):\n",
    "    if not student_list[j]:\n",
    "        ans.append(j)\n",
    "\n",
    "ans.sort()\n",
    "print(ans[0])\n",
    "print(ans[1])"
   ]
  }
 ],
 "metadata": {
  "kernelspec": {
   "display_name": "base",
   "language": "python",
   "name": "python3"
  },
  "language_info": {
   "codemirror_mode": {
    "name": "ipython",
    "version": 3
   },
   "file_extension": ".py",
   "mimetype": "text/x-python",
   "name": "python",
   "nbconvert_exporter": "python",
   "pygments_lexer": "ipython3",
   "version": "3.10.4"
  },
  "orig_nbformat": 4,
  "vscode": {
   "interpreter": {
    "hash": "c5e7ae27de7e676b977196ac8e997f52ed2b06660c7c04fca6a938abe3eb249e"
   }
  }
 },
 "nbformat": 4,
 "nbformat_minor": 2
}
