{
 "cells": [
  {
   "cell_type": "markdown",
   "id": "3a50aebe",
   "metadata": {},
   "source": [
    "## 문제>\n",
    "    정수 N이 입력되면 00시 00분 00초부터 N시 59분 59초까지의 모든 시각 중에서 3이 하나라도 포함되는 모든 경우의 수를 구하는 프로그램을 작성하시오\n",
    "\n",
    "## 입력 예시>\n",
    "    5\n",
    "\n",
    "## 출력 예시>\n",
    "    11475\n"
   ]
  },
  {
   "cell_type": "markdown",
   "id": "3e99869e",
   "metadata": {},
   "source": [
    "## 예제 (입력/출력)\n",
    "5  /   11475"
   ]
  },
  {
   "cell_type": "code",
   "execution_count": 2,
   "id": "17ab45bc",
   "metadata": {
    "scrolled": true
   },
   "outputs": [
    {
     "name": "stdout",
     "output_type": "stream",
     "text": [
      "5\n",
      "11475\n"
     ]
    }
   ],
   "source": [
    "N = int(input())\n",
    "\n",
    "cnt = 0\n",
    "for h in range(N+1):\n",
    "    for m in range(60):\n",
    "        for s in range(60):\n",
    "            # 시간, 분, 초를 모두 문자형으로 바꿔서 다 합친 후, '3'이 포함된 경우 카운트를 1 증가시킴.\n",
    "            if '3' in str(h)+str(m)+str(s):\n",
    "                cnt += 1\n",
    "\n",
    "print(cnt)"
   ]
  }
 ],
 "metadata": {
  "kernelspec": {
   "display_name": "Python 3 (ipykernel)",
   "language": "python",
   "name": "python3"
  },
  "language_info": {
   "codemirror_mode": {
    "name": "ipython",
    "version": 3
   },
   "file_extension": ".py",
   "mimetype": "text/x-python",
   "name": "python",
   "nbconvert_exporter": "python",
   "pygments_lexer": "ipython3",
   "version": "3.9.13"
  }
 },
 "nbformat": 4,
 "nbformat_minor": 5
}
