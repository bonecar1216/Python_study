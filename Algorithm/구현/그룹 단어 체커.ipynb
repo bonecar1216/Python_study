{
 "cells": [
  {
   "attachments": {},
   "cell_type": "markdown",
   "metadata": {},
   "source": [
    "## 문제\n",
    "    그룹 단어란 단어에 존재하는 모든 문자에 대해서, 각 문자가 연속해서 나타나는 경우만을 말한다. 예를 들면, ccazzzzbb는 c, a, z, b가 모두 연속해서 나타나고, kin도 k, i, n이 연속해서 나타나기 때문에 그룹 단어이지만, aabbbccb는 b가 떨어져서 나타나기 때문에 그룹 단어가 아니다.\n",
    "\n",
    "    단어 N개를 입력으로 받아 그룹 단어의 개수를 출력하는 프로그램을 작성하시오.\n",
    "\n",
    "## 입력\n",
    "    첫째 줄에 단어의 개수 N이 들어온다. N은 100보다 작거나 같은 자연수이다. 둘째 줄부터 N개의 줄에 단어가 들어온다. 단어는 알파벳 소문자로만 되어있고 중복되지 않으며, 길이는 최대 100이다.\n",
    "\n",
    "## 출력\n",
    "    첫째 줄에 그룹 단어의 개수를 출력한다.\n",
    "\n",
    "    https://www.acmicpc.net/problem/1316"
   ]
  },
  {
   "attachments": {},
   "cell_type": "markdown",
   "metadata": {},
   "source": [
    "## 예제 1(입력/출력)\n",
    "    3\n",
    "    happy\n",
    "    new\n",
    "    year\n",
    "    / 3\n",
    "## 예제 2(입력/출력)\n",
    "    4\n",
    "    aba\n",
    "    abab\n",
    "    abcabc\n",
    "    a\n",
    "    / 1\n",
    "## 예제 3(입력/출력)\n",
    "    5\n",
    "    ab\n",
    "    aa\n",
    "    aca\n",
    "    ba\n",
    "    bb\n",
    "    / 4\n",
    "## 예제 4(입력/출력)\n",
    "    2\n",
    "    yzyzy\n",
    "    zyzyz\n",
    "    / 0\n",
    "## 예제 5(입력/출력)\n",
    "    1\n",
    "    z\n",
    "    / 1"
   ]
  },
  {
   "cell_type": "code",
   "execution_count": 15,
   "metadata": {},
   "outputs": [
    {
     "name": "stdout",
     "output_type": "stream",
     "text": [
      "3\n"
     ]
    }
   ],
   "source": [
    "n = int(input())\n",
    "\n",
    "def word_checker(word):\n",
    "\n",
    "    alphabet = ''\n",
    "    alphabet_list = []\n",
    "    result = True\n",
    "    cnt = 0\n",
    "    # 단어에서 순차적으로 알파벳 추출\n",
    "    for w in word:\n",
    "        # 단어에서 추출된 알파벳이 이전과 다를 경우 (알파벳이 바뀐 경우)\n",
    "        if alphabet != w:  \n",
    "            # 바뀐 알파벳을 리스트에 저장하기 위한 판별 과정\n",
    "            ## 알파벳이 기존 리스트에 없을 경우에만 저장\n",
    "            if w not in alphabet_list:\n",
    "                alphabet_list.append(w)\n",
    "                alphabet = w\n",
    "            ## 알파벳이 기존 리스트에 있는 경우에는 result값을 False로 출력하고 반복문 탈출\n",
    "            else:\n",
    "                result = False\n",
    "                break\n",
    "    # result가 True인 경우(반복문이 break없이 수행된 경우)에만 cnt값 1을 출력        \n",
    "    if result:\n",
    "        cnt = 1\n",
    "    \n",
    "    return cnt\n",
    "\n",
    "cnt = 0\n",
    "for _ in range(n):\n",
    "    cnt += word_checker(input())\n",
    "    \n",
    "print(cnt)"
   ]
  },
  {
   "cell_type": "code",
   "execution_count": 16,
   "metadata": {},
   "outputs": [
    {
     "name": "stdout",
     "output_type": "stream",
     "text": [
      "1\n"
     ]
    }
   ],
   "source": [
    "n = int(input())\n",
    "\n",
    "cnt = 0\n",
    "for _ in range(n):\n",
    "    cnt += word_checker(input())\n",
    "    \n",
    "print(cnt)"
   ]
  },
  {
   "cell_type": "code",
   "execution_count": 17,
   "metadata": {},
   "outputs": [
    {
     "name": "stdout",
     "output_type": "stream",
     "text": [
      "4\n"
     ]
    }
   ],
   "source": [
    "n = int(input())\n",
    "\n",
    "cnt = 0\n",
    "for _ in range(n):\n",
    "    cnt += word_checker(input())\n",
    "    \n",
    "print(cnt)"
   ]
  },
  {
   "cell_type": "code",
   "execution_count": 18,
   "metadata": {},
   "outputs": [
    {
     "name": "stdout",
     "output_type": "stream",
     "text": [
      "0\n"
     ]
    }
   ],
   "source": [
    "n = int(input())\n",
    "\n",
    "cnt = 0\n",
    "for _ in range(n):\n",
    "    cnt += word_checker(input())\n",
    "    \n",
    "print(cnt)"
   ]
  },
  {
   "cell_type": "code",
   "execution_count": 19,
   "metadata": {},
   "outputs": [
    {
     "name": "stdout",
     "output_type": "stream",
     "text": [
      "1\n"
     ]
    }
   ],
   "source": [
    "n = int(input())\n",
    "\n",
    "cnt = 0\n",
    "for _ in range(n):\n",
    "    cnt += word_checker(input())\n",
    "    \n",
    "print(cnt)"
   ]
  }
 ],
 "metadata": {
  "kernelspec": {
   "display_name": "base",
   "language": "python",
   "name": "python3"
  },
  "language_info": {
   "codemirror_mode": {
    "name": "ipython",
    "version": 3
   },
   "file_extension": ".py",
   "mimetype": "text/x-python",
   "name": "python",
   "nbconvert_exporter": "python",
   "pygments_lexer": "ipython3",
   "version": "3.10.4"
  },
  "orig_nbformat": 4
 },
 "nbformat": 4,
 "nbformat_minor": 2
}
