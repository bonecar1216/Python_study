{
 "cells": [
  {
   "attachments": {},
   "cell_type": "markdown",
   "metadata": {},
   "source": [
    "## 문제\n",
    "    알파벳 대소문자로 된 단어가 주어지면, 이 단어에서 가장 많이 사용된 알파벳이 무엇인지 알아내는 프로그램을 작성하시오. 단, 대문자와 소문자를 구분하지 않는다.\n",
    "\n",
    "## 입력\n",
    "    첫째 줄에 알파벳 대소문자로 이루어진 단어가 주어진다. 주어지는 단어의 길이는 1,000,000을 넘지 않는다.\n",
    "\n",
    "## 출력\n",
    "    첫째 줄에 이 단어에서 가장 많이 사용된 알파벳을 대문자로 출력한다. 단, 가장 많이 사용된 알파벳이 여러 개 존재하는 경우에는 ?를 출력한다.\n",
    "\n",
    "    https://www.acmicpc.net/problem/1157"
   ]
  },
  {
   "attachments": {},
   "cell_type": "markdown",
   "metadata": {},
   "source": [
    "## 예제 1(입력/출력)\n",
    "    Mississipi / ?\n",
    "## 예제 2(입력/출력)\n",
    "    zZa / Z\n",
    "## 예제 3(입력/출력)\n",
    "    z / Z\n",
    "## 예제 4(입력/출력)\n",
    "    baaa / A"
   ]
  },
  {
   "cell_type": "code",
   "execution_count": 11,
   "metadata": {},
   "outputs": [
    {
     "name": "stdout",
     "output_type": "stream",
     "text": [
      "?\n"
     ]
    }
   ],
   "source": [
    "s = input()\n",
    "s = s.upper()   # 단어 내 알파벳을 모두 대문자로 변경\n",
    "\n",
    "word_dict = {}  # 빈 딕셔너리 생성\n",
    "# 딕셔너리 내에 단어에 포함되는 각 알파벳의 개수를 카운팅\n",
    "for a in s:\n",
    "    # 딕셔너리 내에 해당 알파벳이 없을 경우, 추가하면서 카운팅 1\n",
    "    if a not in word_dict.keys():\n",
    "        word_dict[a] = 1\n",
    "    # 딕셔너리 내에 해당 알파벳이 있을 경우, 카운팅 1 추가\n",
    "    else:\n",
    "        word_dict[a] += 1\n",
    "\n",
    "# 최대 카운팅 값\n",
    "max_cnt = max(word_dict.values())\n",
    "# 최대 값을 갖는 알파벳을 리스트에 저장\n",
    "max_cnt_list = [k for k,v in word_dict.items() if v == max_cnt]\n",
    "# 리스트 길이가 1인 경우에는 알파벳 출력, 리스트 길이가 2이상인 경우에는 ? 출력\n",
    "if len(max_cnt_list) == 1:\n",
    "    print(*max_cnt_list)\n",
    "else:\n",
    "    print('?')   "
   ]
  },
  {
   "cell_type": "code",
   "execution_count": 12,
   "metadata": {},
   "outputs": [
    {
     "name": "stdout",
     "output_type": "stream",
     "text": [
      "Z\n"
     ]
    }
   ],
   "source": [
    "s = input()\n",
    "s = s.upper()   # 단어 내 알파벳을 모두 대문자로 변경\n",
    "\n",
    "word_dict = {}  # 빈 딕셔너리 생성\n",
    "# 딕셔너리 내에 단어에 포함되는 각 알파벳의 개수를 카운팅\n",
    "for a in s:\n",
    "    # 딕셔너리 내에 해당 알파벳이 없을 경우, 추가하면서 카운팅 1\n",
    "    if a not in word_dict.keys():\n",
    "        word_dict[a] = 1\n",
    "    # 딕셔너리 내에 해당 알파벳이 있을 경우, 카운팅 1 추가\n",
    "    else:\n",
    "        word_dict[a] += 1\n",
    "\n",
    "# 최대 카운팅 값\n",
    "max_cnt = max(word_dict.values())\n",
    "# 최대 값을 갖는 알파벳을 리스트에 저장\n",
    "max_cnt_list = [k for k,v in word_dict.items() if v == max_cnt]\n",
    "# 리스트 길이가 1인 경우에는 알파벳 출력, 리스트 길이가 2이상인 경우에는 ? 출력\n",
    "if len(max_cnt_list) == 1:\n",
    "    print(*max_cnt_list)\n",
    "else:\n",
    "    print('?')   "
   ]
  },
  {
   "cell_type": "code",
   "execution_count": 13,
   "metadata": {},
   "outputs": [
    {
     "name": "stdout",
     "output_type": "stream",
     "text": [
      "Z\n"
     ]
    }
   ],
   "source": [
    "s = input()\n",
    "s = s.upper()   # 단어 내 알파벳을 모두 대문자로 변경\n",
    "\n",
    "word_dict = {}  # 빈 딕셔너리 생성\n",
    "# 딕셔너리 내에 단어에 포함되는 각 알파벳의 개수를 카운팅\n",
    "for a in s:\n",
    "    # 딕셔너리 내에 해당 알파벳이 없을 경우, 추가하면서 카운팅 1\n",
    "    if a not in word_dict.keys():\n",
    "        word_dict[a] = 1\n",
    "    # 딕셔너리 내에 해당 알파벳이 있을 경우, 카운팅 1 추가\n",
    "    else:\n",
    "        word_dict[a] += 1\n",
    "\n",
    "# 최대 카운팅 값\n",
    "max_cnt = max(word_dict.values())\n",
    "# 최대 값을 갖는 알파벳을 리스트에 저장\n",
    "max_cnt_list = [k for k,v in word_dict.items() if v == max_cnt]\n",
    "# 리스트 길이가 1인 경우에는 알파벳 출력, 리스트 길이가 2이상인 경우에는 ? 출력\n",
    "if len(max_cnt_list) == 1:\n",
    "    print(*max_cnt_list)\n",
    "else:\n",
    "    print('?')   "
   ]
  },
  {
   "cell_type": "code",
   "execution_count": 14,
   "metadata": {},
   "outputs": [
    {
     "name": "stdout",
     "output_type": "stream",
     "text": [
      "A\n"
     ]
    }
   ],
   "source": [
    "s = input()\n",
    "s = s.upper()   # 단어 내 알파벳을 모두 대문자로 변경\n",
    "\n",
    "word_dict = {}  # 빈 딕셔너리 생성\n",
    "# 딕셔너리 내에 단어에 포함되는 각 알파벳의 개수를 카운팅\n",
    "for a in s:\n",
    "    # 딕셔너리 내에 해당 알파벳이 없을 경우, 추가하면서 카운팅 1\n",
    "    if a not in word_dict.keys():\n",
    "        word_dict[a] = 1\n",
    "    # 딕셔너리 내에 해당 알파벳이 있을 경우, 카운팅 1 추가\n",
    "    else:\n",
    "        word_dict[a] += 1\n",
    "\n",
    "# 최대 카운팅 값\n",
    "max_cnt = max(word_dict.values())\n",
    "# 최대 값을 갖는 알파벳을 리스트에 저장\n",
    "max_cnt_list = [k for k,v in word_dict.items() if v == max_cnt]\n",
    "# 리스트 길이가 1인 경우에는 알파벳 출력, 리스트 길이가 2이상인 경우에는 ? 출력\n",
    "if len(max_cnt_list) == 1:\n",
    "    print(*max_cnt_list)\n",
    "else:\n",
    "    print('?')   "
   ]
  }
 ],
 "metadata": {
  "kernelspec": {
   "display_name": "Python 3",
   "language": "python",
   "name": "python3"
  },
  "language_info": {
   "codemirror_mode": {
    "name": "ipython",
    "version": 3
   },
   "file_extension": ".py",
   "mimetype": "text/x-python",
   "name": "python",
   "nbconvert_exporter": "python",
   "pygments_lexer": "ipython3",
   "version": "3.9.6"
  },
  "orig_nbformat": 4
 },
 "nbformat": 4,
 "nbformat_minor": 2
}
