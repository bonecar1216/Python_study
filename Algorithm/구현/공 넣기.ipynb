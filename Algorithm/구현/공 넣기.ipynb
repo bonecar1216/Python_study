{
 "cells": [
  {
   "attachments": {},
   "cell_type": "markdown",
   "metadata": {},
   "source": [
    "## 문제\n",
    "    도현이는 바구니를 총 N개 가지고 있고, 각각의 바구니에는 1번부터 N번까지 번호가 매겨져 있다. 또, 1번부터 N번까지 번호가 적혀있는 공을 매우 많이 가지고 있다. 가장 처음 바구니에는 공이 들어있지 않으며, 바구니에는 공을 1개만 넣을 수 있다.\n",
    "\n",
    "    도현이는 앞으로 M번 공을 넣으려고 한다. 도현이는 한 번 공을 넣을 때, 공을 넣을 바구니 범위를 정하고, 정한 바구니에 모두 같은 번호가 적혀있는 공을 넣는다. 만약, 바구니에 공이 이미 있는 경우에는 들어있는 공을 빼고, 새로 공을 넣는다. 공을 넣을 바구니는 연속되어 있어야 한다.\n",
    "\n",
    "    공을 어떻게 넣을지가 주어졌을 때, M번 공을 넣은 이후에 각 바구니에 어떤 공이 들어 있는지 구하는 프로그램을 작성하시오.\n",
    "\n",
    "## 입력\n",
    "    첫째 줄에 N (1 ≤ N ≤ 100)과 M (1 ≤ M ≤ 100)이 주어진다.\n",
    "\n",
    "    둘째 줄부터 M개의 줄에 걸쳐서 공을 넣는 방법이 주어진다. 각 방법은 세 정수 i j k로 이루어져 있으며, i번 바구니부터 j번 바구니까지에 k번 번호가 적혀져 있는 공을 넣는다는 뜻이다. 예를 들어, 2 5 6은 2번 바구니부터 5번 바구니까지에 6번 공을 넣는다는 뜻이다. (1 ≤ i ≤ j ≤ N, 1 ≤ k ≤ N)\n",
    "\n",
    "    도현이는 입력으로 주어진 순서대로 공을 넣는다.\n",
    "\n",
    "## 출력\n",
    "    1번 바구니부터 N번 바구니에 들어있는 공의 번호를 공백으로 구분해 출력한다. 공이 들어있지 않은 바구니는 0을 출력한다.\n",
    "\n",
    "    https://www.acmicpc.net/problem/10810"
   ]
  },
  {
   "attachments": {},
   "cell_type": "markdown",
   "metadata": {},
   "source": [
    "## 예제 (입력/출력)\n",
    "    5 4\n",
    "    1 2 3\n",
    "    3 4 4\n",
    "    1 4 1\n",
    "    2 2 2\n",
    "    / 1 2 1 1 0"
   ]
  },
  {
   "cell_type": "code",
   "execution_count": 6,
   "metadata": {},
   "outputs": [
    {
     "name": "stdout",
     "output_type": "stream",
     "text": [
      "1 2 1 1 0\n"
     ]
    }
   ],
   "source": [
    "n, m = map(int,input().split())\n",
    "\n",
    "basket = [0] * (n+1)\n",
    "\n",
    "for _ in range(m):\n",
    "    i,j,k = map(int,input().split())\n",
    "    for a in range(i,j+1):\n",
    "        basket[a] = k\n",
    "\n",
    "print(*basket[1:])"
   ]
  }
 ],
 "metadata": {
  "kernelspec": {
   "display_name": "base",
   "language": "python",
   "name": "python3"
  },
  "language_info": {
   "codemirror_mode": {
    "name": "ipython",
    "version": 3
   },
   "file_extension": ".py",
   "mimetype": "text/x-python",
   "name": "python",
   "nbconvert_exporter": "python",
   "pygments_lexer": "ipython3",
   "version": "3.10.4"
  },
  "orig_nbformat": 4,
  "vscode": {
   "interpreter": {
    "hash": "c5e7ae27de7e676b977196ac8e997f52ed2b06660c7c04fca6a938abe3eb249e"
   }
  }
 },
 "nbformat": 4,
 "nbformat_minor": 2
}
