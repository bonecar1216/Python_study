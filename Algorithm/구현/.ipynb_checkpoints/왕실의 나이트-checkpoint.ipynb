{
 "cells": [
  {
   "cell_type": "markdown",
   "id": "1e7b9135",
   "metadata": {},
   "source": [
    "## 문제>\n",
    "    행복 왕국의 왕실 정원은 체스판과 같은 8 × 8 좌표 평면이다. 왕실 정원의 특정한 한 칸에 나이트가 서있다.\n",
    "    나이트는 매우 충성스러운 신하로서 매일 무술을 연마한다\n",
    "    나이트는 말을 타고 있기 때문에 이동을 할 때는 L자 형태로만 이동할 수 있으며 정원 밖으로는 나갈 수 없다\n",
    "    나이트는 특정 위치에서 다음과 같은 2가지 경우로 이동할 수 있다\n",
    "\n",
    "    수평으로 두 칸 이동한 뒤에 수직으로 한 칸 이동하기\n",
    "    수직으로 두 칸 이동한 뒤에 수평으로 한 칸 이동하기\n",
    "\n",
    "    이처럼 8 × 8 좌표 평면상에서 나이트의 위치가 주어졌을 때 나이트가 이동할 수 있는 경우의 수를 출력하는\n",
    "    프로그램을 작성하라. 왕실의 정원에서 행 위치를 표현할 때는 1부터 8로 표현하며, 열 위치를 표현할 때는\n",
    "    a 부터 h로 표현한다\n",
    "    \n",
    "    c2에 있을 때 이동할 수 있는 경우의 수는 6가지이다\n",
    "    a1에 있을 때 이동할 수 있는 경우의 수는 2가지이다\n",
    "\n",
    "## 입력>\n",
    "    첫째 줄에 8x8 좌표 평면상에서 현재 나이트가 위치한 곳의 좌표를 나타내는 두 문자로 구성된 문자열이 입력된다. 입력 문자는 a1 처럼 열과 행으로 이뤄진다.\n",
    "\n",
    "## 출력>\n",
    "    첫째 줄에 나이트가 이동할 수 있는 경우의 수를 출력하시오."
   ]
  },
  {
   "cell_type": "markdown",
   "id": "d8bd20bb",
   "metadata": {},
   "source": [
    "## 예제 (입력/출력)\n",
    "a1   /    2"
   ]
  },
  {
   "cell_type": "code",
   "execution_count": 2,
   "id": "d86feb71",
   "metadata": {},
   "outputs": [],
   "source": [
    "# 좌표로 생각하면 8가지의 방법으로 이동할 수 있음\n",
    "## (1,2) (2,1) (2,-1) (1,-2) (-1,-2) (-2,-1) (-2, 1) (-1, 2)\n",
    "## 시작 위치에서 각 값을 더해서 이동하는 좌표값을 계산 -> 체스판을 벗어나는 경우를 제외하고 카운트\n",
    "## a,b,c,d,e,f,g,h는 숫자로 변경 (아스키 코드 사용)"
   ]
  },
  {
   "cell_type": "code",
   "execution_count": 5,
   "id": "f125eeae",
   "metadata": {},
   "outputs": [
    {
     "name": "stdout",
     "output_type": "stream",
     "text": [
      "a1\n",
      "2\n"
     ]
    }
   ],
   "source": [
    "start_pt = input()\n",
    "\n",
    "# 입력된 위치를 좌표값으로 변경\n",
    "## 영어 부분을 아스키 코드로 변환한 후에 숫자로 변경해줌 (a -> 1, b -> 2)\n",
    "x = ord(start_pt[0]) - ord('a') + 1\n",
    "y = int(start_pt[1])\n",
    "\n",
    "# 좌표 이동 경우의 수\n",
    "dx = [1,2,2,1,-1,-2,-2,-1]\n",
    "dy = [2,1,-1,-2,-2,-1,1,2]\n",
    "\n",
    "cnt = 0\n",
    "for i in range(8):\n",
    "    nx = x + dx[i]\n",
    "    ny = y + dy[i]\n",
    "    \n",
    "    # 체스판 내에 있는 경우만 카운트해줌.\n",
    "    if nx > 0 and nx < 9 and ny > 0 and ny < 9:\n",
    "        cnt += 1\n",
    "\n",
    "print(cnt)"
   ]
  }
 ],
 "metadata": {
  "kernelspec": {
   "display_name": "Python 3 (ipykernel)",
   "language": "python",
   "name": "python3"
  },
  "language_info": {
   "codemirror_mode": {
    "name": "ipython",
    "version": 3
   },
   "file_extension": ".py",
   "mimetype": "text/x-python",
   "name": "python",
   "nbconvert_exporter": "python",
   "pygments_lexer": "ipython3",
   "version": "3.9.13"
  }
 },
 "nbformat": 4,
 "nbformat_minor": 5
}
