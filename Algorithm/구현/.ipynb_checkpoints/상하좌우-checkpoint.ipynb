{
 "cells": [
  {
   "cell_type": "markdown",
   "id": "67540f9e",
   "metadata": {},
   "source": [
    "## 문제>\n",
    "     여행가 A는 N x N 크기의 정사각형 공간 위에 서 있다. 이 공간은 1 x 1 크기의 정사각형으로 나누어져 있다. 가장 왼쪽 위 좌표는 (1, 1)이며, 가장 오른쪽 아래 좌표는 (N, N)에 해당한다. 여행가 A는 상, 하, 좌, 우 방향으로 이동할 수 있으며, 시작 좌표는 항상 (1, 1)이다. 우리 앞에는 여행가 A가 이동할 계획이 적힌 계획서가 놓여있다.\n",
    "     계획서에는 하나의 줄에 띄어쓰기를 기준으로 하여 L, R, U, D 중 하나의 문자가 반복적으로 적혀있다. 각 문자의 의미는 다음과 같다.\n",
    "\n",
    "    L : 왼쪽으로 한 칸 이동\n",
    "    R : 오른쪽으로 한 칸 이동\n",
    "    U : 위로 한 칸 이동\n",
    "    D : 아래로 한 칸 이동\n",
    "      이때 여행가 A가 N x N 크기의 정사각형 공간을 벗어나는 움직임은 무시된다.\n",
    "    계획서가 주어졌을 때 여행가 A가 최종적으로 도착할 지점의 좌표를 출력하는 프로그램을 작성하시오\n",
    "\n",
    "## 입력 조건>\n",
    "    첫째 줄에 공간의 크기를 나타내는 N이 주어진다. (1 <= N <= 100)\n",
    "    둘째 줄에 여행가 A가 이동할 계획서 내용이 주어진다.\n",
    "    (1 <= 이동 횟수 <= 100)\n",
    "## 출력 조건>\n",
    "    첫째 줄에 여행가 A가 최종적으로 도착할 지점의 좌표(X, Y)를 공백으로 구분하여 출력한다."
   ]
  },
  {
   "cell_type": "markdown",
   "id": "81ad6d14",
   "metadata": {},
   "source": [
    "## 예제 (입력/출력)\n",
    "    5\n",
    "    R R R U D D\n",
    "    / 3 4"
   ]
  },
  {
   "cell_type": "code",
   "execution_count": 15,
   "id": "da5850da",
   "metadata": {},
   "outputs": [
    {
     "name": "stdout",
     "output_type": "stream",
     "text": [
      "5\n",
      "R R R U D D\n",
      "3 4\n"
     ]
    }
   ],
   "source": [
    "N = int(input())\n",
    "A = list(input().split())\n",
    "\n",
    "dx = {'L': 0, 'R': 0, 'U': -1, 'D': 1}\n",
    "dy = {'L': -1, 'R': 1, 'U': 0, 'D': 0}\n",
    "\n",
    "\n",
    "# 초기값\n",
    "x = 1\n",
    "y = 1\n",
    "for a in A:\n",
    "    nx = x + dx[a]\n",
    "    ny = y + dy[a]\n",
    "\n",
    "    # 이동 후 좌표값을 벗어날 경우, 이전 계산 무효화\n",
    "    if nx < 1 or nx > N or ny < 1 or ny > N:\n",
    "        continue\n",
    "\n",
    "    x, y = nx, ny\n",
    "\n",
    "print(x, y)"
   ]
  }
 ],
 "metadata": {
  "kernelspec": {
   "display_name": "Python 3 (ipykernel)",
   "language": "python",
   "name": "python3"
  },
  "language_info": {
   "codemirror_mode": {
    "name": "ipython",
    "version": 3
   },
   "file_extension": ".py",
   "mimetype": "text/x-python",
   "name": "python",
   "nbconvert_exporter": "python",
   "pygments_lexer": "ipython3",
   "version": "3.9.13"
  }
 },
 "nbformat": 4,
 "nbformat_minor": 5
}
