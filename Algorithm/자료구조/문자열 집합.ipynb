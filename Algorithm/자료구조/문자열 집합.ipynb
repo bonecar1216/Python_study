{
 "cells": [
  {
   "attachments": {},
   "cell_type": "markdown",
   "metadata": {},
   "source": [
    "## 문제\n",
    "    총 N개의 문자열로 이루어진 집합 S가 주어진다.\n",
    "\n",
    "    입력으로 주어지는 M개의 문자열 중에서 집합 S에 포함되어 있는 것이 총 몇 개인지 구하는 프로그램을 작성하시오.\n",
    "\n",
    "## 입력\n",
    "    첫째 줄에 문자열의 개수 N과 M (1 ≤ N ≤ 10,000, 1 ≤ M ≤ 10,000)이 주어진다. \n",
    "\n",
    "    다음 N개의 줄에는 집합 S에 포함되어 있는 문자열들이 주어진다.\n",
    "\n",
    "    다음 M개의 줄에는 검사해야 하는 문자열들이 주어진다.\n",
    "\n",
    "    입력으로 주어지는 문자열은 알파벳 소문자로만 이루어져 있으며, 길이는 500을 넘지 않는다. 집합 S에 같은 문자열이 여러 번 주어지는 경우는 없다.\n",
    "\n",
    "## 출력\n",
    "    첫째 줄에 M개의 문자열 중에 총 몇 개가 집합 S에 포함되어 있는지 출력한다.\n",
    "\n",
    "    https://www.acmicpc.net/problem/14425"
   ]
  },
  {
   "attachments": {},
   "cell_type": "markdown",
   "metadata": {},
   "source": [
    "## 예제 (입력/출력)\n",
    "    5 11\n",
    "    baekjoononlinejudge\n",
    "    startlink\n",
    "    codeplus\n",
    "    sundaycoding\n",
    "    codingsh\n",
    "    baekjoon\n",
    "    codeplus\n",
    "    codeminus\n",
    "    startlink\n",
    "    starlink\n",
    "    sundaycoding\n",
    "    codingsh\n",
    "    codinghs\n",
    "    sondaycoding\n",
    "    startrink\n",
    "    icerink\n",
    "    / 4"
   ]
  },
  {
   "cell_type": "code",
   "execution_count": 1,
   "metadata": {},
   "outputs": [
    {
     "name": "stdout",
     "output_type": "stream",
     "text": [
      "4\n"
     ]
    }
   ],
   "source": [
    "n, m = map(int,input().split())\n",
    "\n",
    "word_dict = {}\n",
    "for _ in range(n):\n",
    "    word = input()\n",
    "    word_dict[word]=0\n",
    "    \n",
    "res = 0\n",
    "for _ in range(m):\n",
    "    word_ans = input()\n",
    "    if word_ans in word_dict:\n",
    "        res += 1\n",
    "\n",
    "print(res)"
   ]
  }
 ],
 "metadata": {
  "kernelspec": {
   "display_name": "base",
   "language": "python",
   "name": "python3"
  },
  "language_info": {
   "codemirror_mode": {
    "name": "ipython",
    "version": 3
   },
   "file_extension": ".py",
   "mimetype": "text/x-python",
   "name": "python",
   "nbconvert_exporter": "python",
   "pygments_lexer": "ipython3",
   "version": "3.10.4"
  },
  "orig_nbformat": 4
 },
 "nbformat": 4,
 "nbformat_minor": 2
}
