{
 "cells": [
  {
   "cell_type": "markdown",
   "id": "d562c216",
   "metadata": {},
   "source": [
    "## 문제>\n",
    "    N개의 정수 A[1], A[2], …, A[N]이 주어져 있을 때, 이 안에 X라는 정수가 존재하는지 알아내는 프로그램을 작성하시오.\n",
    "\n",
    "## 입력>\n",
    "    첫째 줄에 자연수 N(1 ≤ N ≤ 100,000)이 주어진다. 다음 줄에는 N개의 정수 A[1], A[2], …, A[N]이 주어진다. 다음 줄에는 M(1 ≤ M ≤ 100,000)이 주어진다. 다음 줄에는 M개의 수들이 주어지는데, 이 수들이 A안에 존재하는지 알아내면 된다. 모든 정수의 범위는 -231 보다 크거나 같고 231보다 작다.\n",
    "\n",
    "## 출력>\n",
    "    M개의 줄에 답을 출력한다. 존재하면 1을, 존재하지 않으면 0을 출력한다."
   ]
  },
  {
   "cell_type": "markdown",
   "id": "d5478b1c",
   "metadata": {},
   "source": [
    "## 예제1\n",
    "### 입력\n",
    "    5\n",
    "    4 1 5 2 3\n",
    "    5\n",
    "    1 3 7 9 5\n",
    "### 출력\n",
    "    1\n",
    "    1\n",
    "    0\n",
    "    0\n",
    "    1"
   ]
  },
  {
   "cell_type": "code",
   "execution_count": 16,
   "id": "72e62ac3",
   "metadata": {},
   "outputs": [
    {
     "name": "stdout",
     "output_type": "stream",
     "text": [
      "5\n",
      "4 1 5 2 3\n",
      "5\n",
      "1 3 7 9 5\n",
      "1\n",
      "1\n",
      "0\n",
      "0\n",
      "1\n"
     ]
    }
   ],
   "source": [
    "N = int(input())\n",
    "A = set(map(int, input().split()))\n",
    "M = int(input())\n",
    "B = list(map(int, input().split()))\n",
    "\n",
    "for b in B: \n",
    "    print(1) if b in A else print(0)"
   ]
  }
 ],
 "metadata": {
  "kernelspec": {
   "display_name": "Python 3 (ipykernel)",
   "language": "python",
   "name": "python3"
  },
  "language_info": {
   "codemirror_mode": {
    "name": "ipython",
    "version": 3
   },
   "file_extension": ".py",
   "mimetype": "text/x-python",
   "name": "python",
   "nbconvert_exporter": "python",
   "pygments_lexer": "ipython3",
   "version": "3.9.13"
  }
 },
 "nbformat": 4,
 "nbformat_minor": 5
}
