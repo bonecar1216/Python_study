{
 "cells": [
  {
   "cell_type": "markdown",
   "id": "c86c00e0",
   "metadata": {},
   "source": [
    "## 문제>\n",
    "    N개의 수가 주어졌을 때, 이를 오름차순으로 정렬하는 프로그램을 작성하시오.\n",
    "\n",
    "## 입력>\n",
    "    첫째 줄에 수의 개수 N(1 ≤ N ≤ 1,000)이 주어진다. 둘째 줄부터 N개의 줄에는 수가 주어진다. 이 수는 절댓값이 1,000보다 작거나 같은 정수이다. 수는 중복되지 않는다.\n",
    "\n",
    "## 출력>\n",
    "    첫째 줄부터 N개의 줄에 오름차순으로 정렬한 결과를 한 줄에 하나씩 출력한다."
   ]
  },
  {
   "cell_type": "markdown",
   "id": "c9ada923",
   "metadata": {},
   "source": [
    "## 예제 1\n",
    "### 입력\n",
    "    5\n",
    "    \n",
    "    5\n",
    "    2\n",
    "    3\n",
    "    4\n",
    "    1\n",
    "### 출력\n",
    "    1\n",
    "    2\n",
    "    3\n",
    "    4\n",
    "    5"
   ]
  },
  {
   "cell_type": "code",
   "execution_count": 16,
   "id": "1193c90e",
   "metadata": {},
   "outputs": [
    {
     "name": "stdout",
     "output_type": "stream",
     "text": [
      "입력\n",
      "5\n",
      "5\n",
      "5\n",
      "1\n",
      "1\n",
      "2\n",
      "출력\n",
      "1\n",
      "1\n",
      "2\n",
      "5\n",
      "5\n"
     ]
    }
   ],
   "source": [
    "print('입력')\n",
    "N = int(input())\n",
    "A = []\n",
    "for i in range(N):\n",
    "    a = int(input())\n",
    "    A.append(a)\n",
    "\n",
    "print('출력')\n",
    "i = 0\n",
    "while i != N:\n",
    "    for a in range(i+1,N):\n",
    "        if A[i] > A[a]:\n",
    "            tmp = A[i]\n",
    "            A[i] = A[a]\n",
    "            A[a] = tmp\n",
    "\n",
    "    print(A[i])\n",
    "    i += 1"
   ]
  },
  {
   "cell_type": "code",
   "execution_count": null,
   "id": "c253f0e1",
   "metadata": {},
   "outputs": [],
   "source": []
  },
  {
   "cell_type": "code",
   "execution_count": null,
   "id": "50bac231",
   "metadata": {},
   "outputs": [],
   "source": []
  }
 ],
 "metadata": {
  "kernelspec": {
   "display_name": "Python 3 (ipykernel)",
   "language": "python",
   "name": "python3"
  },
  "language_info": {
   "codemirror_mode": {
    "name": "ipython",
    "version": 3
   },
   "file_extension": ".py",
   "mimetype": "text/x-python",
   "name": "python",
   "nbconvert_exporter": "python",
   "pygments_lexer": "ipython3",
   "version": "3.9.13"
  }
 },
 "nbformat": 4,
 "nbformat_minor": 5
}
