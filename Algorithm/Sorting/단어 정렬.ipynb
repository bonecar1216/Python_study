{
 "cells": [
  {
   "attachments": {},
   "cell_type": "markdown",
   "metadata": {},
   "source": [
    "## 문제\n",
    "    알파벳 소문자로 이루어진 N개의 단어가 들어오면 아래와 같은 조건에 따라 정렬하는 프로그램을 작성하시오.\n",
    "\n",
    "    길이가 짧은 것부터\n",
    "    길이가 같으면 사전 순으로\n",
    "    단, 중복된 단어는 하나만 남기고 제거해야 한다.\n",
    "\n",
    "## 입력\n",
    "    첫째 줄에 단어의 개수 N이 주어진다. (1 ≤ N ≤ 20,000) 둘째 줄부터 N개의 줄에 걸쳐 알파벳 소문자로 이루어진 단어가 한 줄에 하나씩 주어진다. 주어지는 문자열의 길이는 50을 넘지 않는다.\n",
    "\n",
    "## 출력 \n",
    "    조건에 따라 정렬하여 단어들을 출력한다.\n",
    "\n",
    "    https://www.acmicpc.net/problem/1181"
   ]
  },
  {
   "attachments": {},
   "cell_type": "markdown",
   "metadata": {},
   "source": [
    "## 예제 (입력/출력)\n",
    "    13\n",
    "    but\n",
    "    i\n",
    "    wont\n",
    "    hesitate\n",
    "    no\n",
    "    more\n",
    "    no\n",
    "    more\n",
    "    it\n",
    "    cannot\n",
    "    wait\n",
    "    im\n",
    "    yours\n",
    "    / \n",
    "    i\n",
    "    im\n",
    "    it\n",
    "    no\n",
    "    but\n",
    "    more\n",
    "    wait\n",
    "    wont\n",
    "    yours\n",
    "    cannot\n",
    "    hesitate"
   ]
  },
  {
   "cell_type": "code",
   "execution_count": 1,
   "metadata": {},
   "outputs": [
    {
     "name": "stdout",
     "output_type": "stream",
     "text": [
      "i\n",
      "im\n",
      "it\n",
      "no\n",
      "but\n",
      "more\n",
      "wait\n",
      "wont\n",
      "yours\n",
      "cannot\n",
      "hesitate\n"
     ]
    }
   ],
   "source": [
    "n = int(input())\n",
    "\n",
    "\n",
    "word_list = []\n",
    "word_count_list = []\n",
    "\n",
    "for _ in range(n):\n",
    "    word = input()\n",
    "    if word not in word_list:\n",
    "        word_list.append(word)\n",
    "        word_count_list.append((len(word), word))\n",
    "        \n",
    "word_count_list = sorted(word_count_list)\n",
    "\n",
    "for len, word in word_count_list:\n",
    "    print(word)"
   ]
  },
  {
   "cell_type": "code",
   "execution_count": 2,
   "metadata": {},
   "outputs": [
    {
     "name": "stdout",
     "output_type": "stream",
     "text": [
      "[(1, 'i'), (2, 'im'), (2, 'it'), (2, 'no'), (3, 'but'), (4, 'more'), (4, 'wait'), (4, 'wont'), (5, 'yours'), (6, 'cannot'), (8, 'hesitate')]\n"
     ]
    }
   ],
   "source": [
    "print(word_count_list)"
   ]
  },
  {
   "attachments": {},
   "cell_type": "markdown",
   "metadata": {},
   "source": [
    "    * word_count_list를 (단어 길이, 단어)로 구성하고 sorted 함수를 쓰면, 단어 길이에 우선적으로 정렬하면서도 단어의 사전 순으로 정렬되었음.\n",
    "      정확한 과정에 대해 알아볼 필요 있음."
   ]
  }
 ],
 "metadata": {
  "kernelspec": {
   "display_name": "base",
   "language": "python",
   "name": "python3"
  },
  "language_info": {
   "codemirror_mode": {
    "name": "ipython",
    "version": 3
   },
   "file_extension": ".py",
   "mimetype": "text/x-python",
   "name": "python",
   "nbconvert_exporter": "python",
   "pygments_lexer": "ipython3",
   "version": "3.10.4"
  },
  "orig_nbformat": 4,
  "vscode": {
   "interpreter": {
    "hash": "c5e7ae27de7e676b977196ac8e997f52ed2b06660c7c04fca6a938abe3eb249e"
   }
  }
 },
 "nbformat": 4,
 "nbformat_minor": 2
}
