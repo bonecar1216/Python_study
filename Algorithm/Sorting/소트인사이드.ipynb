{
 "cells": [
  {
   "cell_type": "markdown",
   "id": "8e28eed0",
   "metadata": {},
   "source": [
    "## 문제>\n",
    "    배열을 정렬하는 것은 쉽다. 수가 주어지면, 그 수의 각 자리수를 내림차순으로 정렬해보자.\n",
    "\n",
    "## 입력>\n",
    "    첫째 줄에 정렬하려고 하는 수 N이 주어진다. N은 1,000,000,000보다 작거나 같은 자연수이다.\n",
    "\n",
    "## 출력>\n",
    "    첫째 줄에 자리수를 내림차순으로 정렬한 수를 출력한다."
   ]
  },
  {
   "cell_type": "markdown",
   "id": "0689db53",
   "metadata": {},
   "source": [
    "## 예제1 (입력/출력)\n",
    "2143 / 4321\n",
    "## 예제2 (입력/출력)\n",
    "999998999 / 999999998\n",
    "## 예제3 (입력/출력)\n",
    "61423 / 64321\n",
    "## 예제4 (입력/출력)\n",
    "500613009 / 965310000"
   ]
  },
  {
   "cell_type": "code",
   "execution_count": 9,
   "id": "bdc13e73",
   "metadata": {},
   "outputs": [
    {
     "name": "stdout",
     "output_type": "stream",
     "text": [
      "2143\n",
      "4321\n"
     ]
    }
   ],
   "source": [
    "S = input()\n",
    "\n",
    "def sort_str(S):\n",
    "    A = []\n",
    "    for s in S:\n",
    "        A.append(int(s))\n",
    "    A.sort(reverse = True)\n",
    "    ans = ''\n",
    "    for s in A:\n",
    "        ans += str(s)\n",
    "    return ans\n",
    "    \n",
    "print(sort_str(S))"
   ]
  },
  {
   "cell_type": "code",
   "execution_count": 10,
   "id": "0869adf9",
   "metadata": {},
   "outputs": [
    {
     "name": "stdout",
     "output_type": "stream",
     "text": [
      "999998999\n",
      "999999998\n"
     ]
    }
   ],
   "source": [
    "S = input()\n",
    "\n",
    "print(sort_str(S))"
   ]
  },
  {
   "cell_type": "code",
   "execution_count": 11,
   "id": "7daaab3a",
   "metadata": {},
   "outputs": [
    {
     "name": "stdout",
     "output_type": "stream",
     "text": [
      "61423\n",
      "64321\n"
     ]
    }
   ],
   "source": [
    "S = input()\n",
    "\n",
    "print(sort_str(S))"
   ]
  },
  {
   "cell_type": "code",
   "execution_count": 12,
   "id": "99ad1859",
   "metadata": {},
   "outputs": [
    {
     "name": "stdout",
     "output_type": "stream",
     "text": [
      "500613009\n",
      "965310000\n"
     ]
    }
   ],
   "source": [
    "S = input()\n",
    "\n",
    "print(sort_str(S))"
   ]
  }
 ],
 "metadata": {
  "kernelspec": {
   "display_name": "Python 3 (ipykernel)",
   "language": "python",
   "name": "python3"
  },
  "language_info": {
   "codemirror_mode": {
    "name": "ipython",
    "version": 3
   },
   "file_extension": ".py",
   "mimetype": "text/x-python",
   "name": "python",
   "nbconvert_exporter": "python",
   "pygments_lexer": "ipython3",
   "version": "3.9.13"
  }
 },
 "nbformat": 4,
 "nbformat_minor": 5
}
