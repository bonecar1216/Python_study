{
 "cells": [
  {
   "attachments": {},
   "cell_type": "markdown",
   "metadata": {},
   "source": [
    "## 문제\n",
    "    하나의 수열에는 다양한 수가 존재한다. 이러한 수는 크기에 상관없이 나열되어 있다. 이 수를 큰 수부터 작은 수의 순서로 정렬해야 한다. 수열을 내림차순으로 정렬하는 프로그램을 만드시오.\n",
    "\n",
    "## 입력 조건\n",
    "    첫째 줄에 수열에 속해 있는 수의 개수 N이 주어진다.(1 <= N <= 500)\n",
    "    둘째 줄부터 N + 1번째 줄까지 N개의 수가 입력된다.\n",
    "    수의 범위는 1 이상 100,000 이하의 자연수이다.\n",
    "\n",
    "## 출력 조건\n",
    "    입력으로 주어진 수열이 내림차순으로 정렬된 결과를 공백으로 구분하여 출력한다."
   ]
  },
  {
   "attachments": {},
   "cell_type": "markdown",
   "metadata": {},
   "source": [
    "## 예제 (입력/출력)\n",
    "    3\n",
    "    15\n",
    "    27\n",
    "    12\n",
    "    / 27 15 12"
   ]
  },
  {
   "cell_type": "code",
   "execution_count": 3,
   "metadata": {},
   "outputs": [
    {
     "name": "stdout",
     "output_type": "stream",
     "text": [
      "[27, 15, 12]\n"
     ]
    }
   ],
   "source": [
    "# 선택 정렬\n",
    "n = int(input())\n",
    "\n",
    "array = []\n",
    "for _ in range(n):\n",
    "    array.append(int(input()))\n",
    "    \n",
    "for i in range(len(array)):\n",
    "    max_index = i\n",
    "    for j in range(i+1,len(array)):  # i+1부터 가장 작은 값들을 찾으면서 index값을 갱신함. 끝가지 for문을 돌게되면 최소값의 index를 찾을 수 있음.\n",
    "        if array[max_index] < array[j]:\n",
    "            max_index = j\n",
    "    array[max_index], array[i] = array[i], array[max_index]\n",
    "    \n",
    "print(array)"
   ]
  },
  {
   "cell_type": "code",
   "execution_count": 4,
   "metadata": {},
   "outputs": [
    {
     "name": "stdout",
     "output_type": "stream",
     "text": [
      "[27, 15, 12]\n"
     ]
    }
   ],
   "source": [
    "# 삽입 정렬\n",
    "n = int(input())\n",
    "\n",
    "array = []\n",
    "for _ in range(n):\n",
    "    array.append(int(input()))\n",
    "    \n",
    "for i in range(1,len(array)):\n",
    "    for j in range(i,0,-1):  \n",
    "        if array[j] > array[j-1]: # 한 칸씩 왼쪽으로 이동\n",
    "            array[j], array[j-1] = array[j-1], array[j]\n",
    "        else:\n",
    "            break\n",
    "\n",
    "print(array)"
   ]
  },
  {
   "cell_type": "code",
   "execution_count": 6,
   "metadata": {},
   "outputs": [
    {
     "name": "stdout",
     "output_type": "stream",
     "text": [
      "[27, 15, 12]\n"
     ]
    }
   ],
   "source": [
    "# 퀵 정렬\n",
    "n = int(input())\n",
    "\n",
    "array = []\n",
    "for _ in range(n):\n",
    "    array.append(int(input()))\n",
    "    \n",
    "def qucik_sort(array):\n",
    "    if len(array) <= 1:\n",
    "        return array\n",
    "    \n",
    "    pivot = array[0]\n",
    "    tail = array[1:]\n",
    "    \n",
    "    left_side = [x for x in tail if x > pivot]\n",
    "    right_side = [x for x in tail if x <= pivot]\n",
    "    \n",
    "    return qucik_sort(left_side) + [pivot] + qucik_sort(right_side)\n",
    "\n",
    "print(qucik_sort(array))"
   ]
  },
  {
   "cell_type": "code",
   "execution_count": 7,
   "metadata": {},
   "outputs": [
    {
     "name": "stdout",
     "output_type": "stream",
     "text": [
      "27 15 12 "
     ]
    }
   ],
   "source": [
    "# 계수 정렬\n",
    "n = int(input())\n",
    "\n",
    "array = []\n",
    "for _ in range(n):\n",
    "    array.append(int(input()))\n",
    "    \n",
    "count = [0] * (max(array) + 1)\n",
    "\n",
    "for i in array:\n",
    "    count[i] += 1\n",
    "\n",
    "for i in range(len(count)-1,-1,-1):\n",
    "    \n",
    "    for j in range(count[i]):\n",
    "        print(i, end = ' ')"
   ]
  }
 ],
 "metadata": {
  "kernelspec": {
   "display_name": "base",
   "language": "python",
   "name": "python3"
  },
  "language_info": {
   "codemirror_mode": {
    "name": "ipython",
    "version": 3
   },
   "file_extension": ".py",
   "mimetype": "text/x-python",
   "name": "python",
   "nbconvert_exporter": "python",
   "pygments_lexer": "ipython3",
   "version": "3.10.4"
  },
  "orig_nbformat": 4,
  "vscode": {
   "interpreter": {
    "hash": "c5e7ae27de7e676b977196ac8e997f52ed2b06660c7c04fca6a938abe3eb249e"
   }
  }
 },
 "nbformat": 4,
 "nbformat_minor": 2
}
