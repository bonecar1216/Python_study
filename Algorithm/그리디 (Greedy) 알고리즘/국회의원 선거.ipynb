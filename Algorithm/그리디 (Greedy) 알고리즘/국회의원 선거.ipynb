{
 "cells": [
  {
   "cell_type": "markdown",
   "id": "16b41d5b",
   "metadata": {},
   "source": [
    "## 문제>\n",
    "    다솜이는 사람의 마음을 읽을 수 있는 기계를 가지고 있다. 다솜이는 이 기계를 이용해서 2008년 4월 9일 국회의원 선거를 조작하려고 한다.\n",
    "\n",
    "    다솜이의 기계는 각 사람들이 누구를 찍을 지 미리 읽을 수 있다. 어떤 사람이 누구를 찍을 지 정했으면, 반드시 선거때 그 사람을 찍는다.\n",
    "\n",
    "    현재 형택구에 나온 국회의원 후보는 N명이다. 다솜이는 이 기계를 이용해서 그 마을의 주민 M명의 마음을 모두 읽었다.\n",
    "\n",
    "    다솜이는 기호 1번이다. 다솜이는 사람들의 마음을 읽어서 자신을 찍지 않으려는 사람을 돈으로 매수해서 국회의원에 당선이 되게 하려고 한다. 다른 모든 사람의 득표수 보다 많은 득표수를 가질 때, 그 사람이 국회의원에 당선된다.\n",
    "\n",
    "    예를 들어서, 마음을 읽은 결과 기호 1번이 5표, 기호 2번이 7표, 기호 3번이 7표 라고 한다면, 다솜이는 2번 후보를 찍으려고 하던 사람 1명과, 3번 후보를 찍으려고 하던 사람 1명을 돈으로 매수하면, 국회의원에 당선이 된다.\n",
    "\n",
    "    돈으로 매수한 사람은 반드시 다솜이를 찍는다고 가정한다.\n",
    "\n",
    "    다솜이가 매수해야하는 사람의 최솟값을 출력하는 프로그램을 작성하시오.\n",
    "\n",
    "## 입력>\n",
    "    첫째 줄에 후보의 수 N이 주어진다. 둘째 줄부터 차례대로 기호 1번을 찍으려고 하는 사람의 수, 기호 2번을 찍으려고 하는 수, 이렇게 총 N개의 줄에 걸쳐 입력이 들어온다. N은 50보다 작거나 같은 자연수이고, 득표수는 100보다 작거나 같은 자연수이다.\n",
    "    \n",
    "## 출력>\n",
    "    첫째 줄에 다솜이가 매수해야 하는 사람의 최솟값을 출력한다.\n",
    "    \n",
    "    https://www.acmicpc.net/problem/1417"
   ]
  },
  {
   "cell_type": "markdown",
   "id": "d0eaca56",
   "metadata": {},
   "source": [
    "## 예제 1(입력/출력)\n",
    "    3\n",
    "    5\n",
    "    7\n",
    "    7\n",
    "    /2\n",
    "## 예제 2(입력/출력)\n",
    "    4\n",
    "    10\n",
    "    10\n",
    "    10\n",
    "    10\n",
    "    / 1\n",
    "## 예제 3(입력/출력)\n",
    "    1\n",
    "    1\n",
    "    / 0\n",
    "## 예제 4(입력/출력)\n",
    "    5\n",
    "    5\n",
    "    10\n",
    "    7\n",
    "    3\n",
    "    8\n",
    "    / 4"
   ]
  },
  {
   "cell_type": "code",
   "execution_count": 8,
   "id": "4c8572de",
   "metadata": {},
   "outputs": [
    {
     "name": "stdout",
     "output_type": "stream",
     "text": [
      "3\n",
      "5\n",
      "5\n",
      "7\n",
      "2\n"
     ]
    }
   ],
   "source": [
    "n = int(input())\n",
    "\n",
    "cnt = 0\n",
    "cand_1st = int(input())\n",
    "cand = []\n",
    "for _ in range(n-1):\n",
    "    cand.append(int(input()))\n",
    "\n",
    "if n == 1:\n",
    "    pass\n",
    "else: \n",
    "    while cand_1st <= max(cand):\n",
    "        cand[cand.index(max(cand))] -= 1\n",
    "        cand_1st += 1\n",
    "        cnt += 1\n",
    "        \n",
    "print(cnt)"
   ]
  },
  {
   "cell_type": "code",
   "execution_count": 9,
   "id": "3cb16a35",
   "metadata": {
    "scrolled": true
   },
   "outputs": [
    {
     "name": "stdout",
     "output_type": "stream",
     "text": [
      "4\n",
      "10\n",
      "10\n",
      "10\n",
      "10\n",
      "1\n"
     ]
    }
   ],
   "source": [
    "n = int(input())\n",
    "\n",
    "cnt = 0\n",
    "cand_1st = int(input())\n",
    "cand = []\n",
    "for _ in range(n-1):\n",
    "    cand.append(int(input()))\n",
    "\n",
    "if n == 1:\n",
    "    pass\n",
    "else: \n",
    "    while cand_1st <= max(cand):\n",
    "        cand[cand.index(max(cand))] -= 1\n",
    "        cand_1st += 1\n",
    "        cnt += 1\n",
    "        \n",
    "print(cnt)"
   ]
  },
  {
   "cell_type": "code",
   "execution_count": 10,
   "id": "9ad7a49d",
   "metadata": {},
   "outputs": [
    {
     "name": "stdout",
     "output_type": "stream",
     "text": [
      "1\n",
      "1\n",
      "0\n"
     ]
    }
   ],
   "source": [
    "n = int(input())\n",
    "\n",
    "cnt = 0\n",
    "cand_1st = int(input())\n",
    "cand = []\n",
    "for _ in range(n-1):\n",
    "    cand.append(int(input()))\n",
    "\n",
    "if n == 1:\n",
    "    pass\n",
    "else: \n",
    "    while cand_1st <= max(cand):\n",
    "        cand[cand.index(max(cand))] -= 1\n",
    "        cand_1st += 1\n",
    "        cnt += 1\n",
    "        \n",
    "print(cnt)"
   ]
  },
  {
   "cell_type": "code",
   "execution_count": 11,
   "id": "01d11de3",
   "metadata": {},
   "outputs": [
    {
     "name": "stdout",
     "output_type": "stream",
     "text": [
      "5\n",
      "5\n",
      "10\n",
      "7\n",
      "3\n",
      "8\n",
      "4\n"
     ]
    }
   ],
   "source": [
    "n = int(input())\n",
    "\n",
    "cnt = 0\n",
    "cand_1st = int(input())\n",
    "cand = []\n",
    "for _ in range(n-1):\n",
    "    cand.append(int(input()))\n",
    "\n",
    "if n == 1:\n",
    "    pass\n",
    "else: \n",
    "    while cand_1st <= max(cand):\n",
    "        cand[cand.index(max(cand))] -= 1\n",
    "        cand_1st += 1\n",
    "        cnt += 1\n",
    "        \n",
    "print(cnt)"
   ]
  }
 ],
 "metadata": {
  "kernelspec": {
   "display_name": "Python 3 (ipykernel)",
   "language": "python",
   "name": "python3"
  },
  "language_info": {
   "codemirror_mode": {
    "name": "ipython",
    "version": 3
   },
   "file_extension": ".py",
   "mimetype": "text/x-python",
   "name": "python",
   "nbconvert_exporter": "python",
   "pygments_lexer": "ipython3",
   "version": "3.9.13"
  }
 },
 "nbformat": 4,
 "nbformat_minor": 5
}
