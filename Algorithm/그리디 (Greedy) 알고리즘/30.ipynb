{
 "cells": [
  {
   "cell_type": "markdown",
   "id": "ad335851",
   "metadata": {},
   "source": [
    "## 문제>\n",
    "    어느 날, 미르코는 우연히 길거리에서 양수 N을 보았다. 미르코는 30이란 수를 존경하기 때문에, 그는 길거리에서 찾은 수에 포함된 숫자들을 섞어 30의 배수가 되는 가장 큰 수를 만들고 싶어한다.\n",
    "\n",
    "    미르코를 도와 그가 만들고 싶어하는 수를 계산하는 프로그램을 작성하라.\n",
    "\n",
    "## 입력>\n",
    "    N을 입력받는다. N는 최대 105개의 숫자로 구성되어 있으며, 0으로 시작하지 않는다.\n",
    "\n",
    "## 출력>\n",
    "    미르코가 만들고 싶어하는 수가 존재한다면 그 수를 출력하라. 그 수가 존재하지 않는다면, -1을 출력하라.\n",
    "    \n",
    "    https://www.acmicpc.net/problem/10610"
   ]
  },
  {
   "cell_type": "markdown",
   "id": "91f6e718",
   "metadata": {},
   "source": [
    "## 예제1(입력/출력)\n",
    "30 / 30\n",
    "## 예제2(입력/출력)\n",
    "102  /  210\n",
    "## 예제3(입력/출력)\n",
    "2931  /  -1\n",
    "## 예제4(입력/출력)\n",
    "80875542  /  88755420"
   ]
  },
  {
   "cell_type": "code",
   "execution_count": 36,
   "id": "c8e2875e",
   "metadata": {},
   "outputs": [],
   "source": [
    "# 입력 받은 숫자를 내림차순으로 정렬함.\n",
    "# 1의 자리에는 무조건 0이 와야함. 일의 자리가 0이 아닌 경우에는 -1 출력\n",
    "# 1의 자리를 제외한 모든 수의 합이 3의 배수인 경우에는 숫자를 내림차순, 모든 수의 합이 3의 배수가 아닌 경우 -1 출력"
   ]
  },
  {
   "cell_type": "code",
   "execution_count": 38,
   "id": "34b47c45",
   "metadata": {},
   "outputs": [
    {
     "name": "stdout",
     "output_type": "stream",
     "text": [
      "30\n",
      "30\n"
     ]
    }
   ],
   "source": [
    "from itertools import permutations\n",
    "\n",
    "n = input()\n",
    "\n",
    "def find_num(n):\n",
    "    # 문자열을 정수형으로 변환하면서 리스트로 저장\n",
    "    n_list = [int(i) for i in n]\n",
    "    # 리스트 내 숫자를 정렬\n",
    "    n_list.sort(reverse = True)\n",
    "    \n",
    "    # 30의 배수가 되려면 1의 자리는 0이 와야함. 만약 숫자 내 0이 없다면 -1을 출력해야함\n",
    "    if n_list[-1] != 0:\n",
    "        return -1\n",
    "    # 1의 자리수를 제외한 모든 값의 합이 3의 배수가 아니면 -1을 출력해야함\n",
    "    elif sum(n_list[:-1])%3 != 0:\n",
    "        return -1\n",
    "    else:\n",
    "        return int(''.join(map(str,n_list)))\n",
    "\n",
    "print(find_num(n))"
   ]
  },
  {
   "cell_type": "code",
   "execution_count": 39,
   "id": "a16e3464",
   "metadata": {},
   "outputs": [
    {
     "name": "stdout",
     "output_type": "stream",
     "text": [
      "102\n",
      "210\n"
     ]
    }
   ],
   "source": [
    "n = input()\n",
    "\n",
    "print(find_num(n))"
   ]
  },
  {
   "cell_type": "code",
   "execution_count": 40,
   "id": "17b16fe0",
   "metadata": {},
   "outputs": [
    {
     "name": "stdout",
     "output_type": "stream",
     "text": [
      "2931\n",
      "-1\n"
     ]
    }
   ],
   "source": [
    "n = input()\n",
    "\n",
    "print(find_num(n))"
   ]
  },
  {
   "cell_type": "code",
   "execution_count": 41,
   "id": "a4d5ae20",
   "metadata": {},
   "outputs": [
    {
     "name": "stdout",
     "output_type": "stream",
     "text": [
      "80875542\n",
      "88755420\n"
     ]
    }
   ],
   "source": [
    "n = input()\n",
    "\n",
    "print(find_num(n))"
   ]
  }
 ],
 "metadata": {
  "kernelspec": {
   "display_name": "Python 3 (ipykernel)",
   "language": "python",
   "name": "python3"
  },
  "language_info": {
   "codemirror_mode": {
    "name": "ipython",
    "version": 3
   },
   "file_extension": ".py",
   "mimetype": "text/x-python",
   "name": "python",
   "nbconvert_exporter": "python",
   "pygments_lexer": "ipython3",
   "version": "3.9.13"
  }
 },
 "nbformat": 4,
 "nbformat_minor": 5
}
