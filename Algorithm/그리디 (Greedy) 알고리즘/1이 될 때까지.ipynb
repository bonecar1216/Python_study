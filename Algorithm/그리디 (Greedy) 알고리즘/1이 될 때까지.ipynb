{
 "cells": [
  {
   "cell_type": "markdown",
   "id": "81a96707",
   "metadata": {},
   "source": [
    "## 문제>\n",
    "    어떠한 수 N이 1이 될 때까지 다음의 두 과정 중 하나를 반복적으로 선택하여 수행하려고 한다. 단, 두 번째 연산은 N이 K로 나누어떨어질 때만 선택할 수 있다.\n",
    "    1. N에서 1을 뺀다.\n",
    "    2. N을 K로 나눈다.\n",
    "\n",
    "    예를 들어 N이 17, K가 4라고 가정하자. 이때 1번의 과정을 한 번 수행하면 N이 16이 된다. 이후에 2번의 과정을 두 번 수행하면 N은 1이 된다. 결과적으로 이 경우 전체 과정을 실행한 횟수는 3이 된다. 이는 N을 1로 만드는 최소 횟수이다.\n",
    "    \n",
    "    N과 K가 주어질 때 N이 1이 될 때까지 1번 혹은 2번의 과정을 수행해야 하는 최소 횟수를 구하는 프로그램을 작성하시오.\n",
    "\n",
    "## 입력 조건>\n",
    "    첫째 줄에 N(2≤N≤100,000)과 K(2≤ K ≤ 100,000)가 공백으로 구분되며 각각 자연수로 주어진다. 이때 입력으로 주어지는 N은 항상 K보다 크거나 같다.\n",
    " \n",
    "## 출력 조건>\n",
    "    첫째 줄에 N이 1이 될 때까지 1번 혹은 2번의 과정을 수행해야 하는 횟수를 최솟값을 출력한다."
   ]
  },
  {
   "cell_type": "markdown",
   "id": "ba505f52",
   "metadata": {},
   "source": [
    "## 예제 (입력/출력)\n",
    "    25 5 / 2"
   ]
  },
  {
   "cell_type": "code",
   "execution_count": 6,
   "id": "06c77fb7",
   "metadata": {},
   "outputs": [
    {
     "name": "stdout",
     "output_type": "stream",
     "text": [
      "25 5\n",
      "2\n"
     ]
    }
   ],
   "source": [
    "N, K = map(int,input().split())\n",
    "\n",
    "ans = 0\n",
    "while N != 1:\n",
    "    if N%K == 0:\n",
    "        N //= K\n",
    "        ans += 1\n",
    "    else:\n",
    "        N -= 1\n",
    "        ans += 1\n",
    "\n",
    "print(ans)"
   ]
  }
 ],
 "metadata": {
  "kernelspec": {
   "display_name": "Python 3 (ipykernel)",
   "language": "python",
   "name": "python3"
  },
  "language_info": {
   "codemirror_mode": {
    "name": "ipython",
    "version": 3
   },
   "file_extension": ".py",
   "mimetype": "text/x-python",
   "name": "python",
   "nbconvert_exporter": "python",
   "pygments_lexer": "ipython3",
   "version": "3.9.13"
  }
 },
 "nbformat": 4,
 "nbformat_minor": 5
}
