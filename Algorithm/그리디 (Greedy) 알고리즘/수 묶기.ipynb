{
 "cells": [
  {
   "attachments": {},
   "cell_type": "markdown",
   "metadata": {},
   "source": [
    "## 문제\n",
    "    길이가 N인 수열이 주어졌을 때, 그 수열의 합을 구하려고 한다. 하지만, 그냥 그 수열의 합을 모두 더해서 구하는 것이 아니라, 수열의 두 수를 묶으려고 한다. 어떤 수를 묶으려고 할 때, 위치에 상관없이 묶을 수 있다. 하지만, 같은 위치에 있는 수(자기 자신)를 묶는 것은 불가능하다. 그리고 어떤 수를 묶게 되면, 수열의 합을 구할 때 묶은 수는 서로 곱한 후에 더한다.\n",
    "\n",
    "    예를 들면, 어떤 수열이 {0, 1, 2, 4, 3, 5}일 때, 그냥 이 수열의 합을 구하면 0+1+2+4+3+5 = 15이다. 하지만, 2와 3을 묶고, 4와 5를 묶게 되면, 0+1+(2*3)+(4*5) = 27이 되어 최대가 된다.\n",
    "\n",
    "    수열의 모든 수는 단 한번만 묶거나, 아니면 묶지 않아야한다.\n",
    "\n",
    "    수열이 주어졌을 때, 수열의 각 수를 적절히 묶었을 때, 그 합이 최대가 되게 하는 프로그램을 작성하시오.\n",
    "\n",
    "## 입력\n",
    "    첫째 줄에 수열의 크기 N이 주어진다. N은 50보다 작은 자연수이다. 둘째 줄부터 N개의 줄에 수열의 각 수가 주어진다. 수열의 수는 -1,000보다 크거나 같고, 1,000보다 작거나 같은 정수이다.\n",
    "\n",
    "## 출력\n",
    "    수를 합이 최대가 나오게 묶었을 때 합을 출력한다. 정답은 항상 231보다 작다.\n",
    "\n",
    "    https://www.acmicpc.net/problem/1744"
   ]
  },
  {
   "attachments": {},
   "cell_type": "markdown",
   "metadata": {},
   "source": [
    "## 예제 1(입력/출력)\n",
    "    4\n",
    "    -1\n",
    "    2\n",
    "    1\n",
    "    3\n",
    "    / 6\n",
    "## 예제 2(입력/출력)\n",
    "    6\n",
    "    0\n",
    "    1\n",
    "    2\n",
    "    4\n",
    "    3\n",
    "    5\n",
    "    / 27\n",
    "## 예제 3(입력/출력)\n",
    "    1\n",
    "    -1\n",
    "    / -1\n",
    "## 예제 4(입력/출력)\n",
    "    3\n",
    "    -1\n",
    "    0\n",
    "    1\n",
    "    / 1\n",
    "## 예제 5(입력/출력)\n",
    "    2\n",
    "    1\n",
    "    1\n",
    "    / 2"
   ]
  },
  {
   "cell_type": "code",
   "execution_count": 28,
   "metadata": {},
   "outputs": [
    {
     "name": "stdout",
     "output_type": "stream",
     "text": [
      "6\n"
     ]
    }
   ],
   "source": [
    "n = int(input())\n",
    "\n",
    "positive_list = []\n",
    "negative_list = []\n",
    "res = 0\n",
    "for _ in range(n):\n",
    "    a = int(input())\n",
    "    if a > 1:\n",
    "        positive_list.append(a)\n",
    "    elif a == 1:\n",
    "        res += 1\n",
    "    else:\n",
    "        negative_list.append(a)\n",
    "\n",
    "def max_sum(positive_list, negative_list):\n",
    "\n",
    "    positive_list.sort(reverse = True)\n",
    "    negative_list.sort()\n",
    "    \n",
    "    global res\n",
    "    \n",
    "    if len(positive_list)%2 == 1:\n",
    "        res += positive_list[-1]\n",
    "        len_num_positive = len(positive_list)-1\n",
    "    else: \n",
    "        len_num_positive = len(positive_list)\n",
    "\n",
    "    for i in range(0,len_num_positive,2):\n",
    "        res += positive_list[i] * positive_list[i+1]\n",
    "\n",
    "\n",
    "    if len(negative_list)%2 == 1:\n",
    "        res += negative_list[-1]\n",
    "        len_num_negative = len(negative_list)-1\n",
    "    else: \n",
    "        len_num_negative = len(negative_list)\n",
    "    \n",
    "    for i in range(0,len_num_negative,2):\n",
    "        res += negative_list[i] * negative_list[i+1]\n",
    "\n",
    "    return res\n",
    "    \n",
    "print(max_sum(positive_list, negative_list))"
   ]
  },
  {
   "cell_type": "code",
   "execution_count": 29,
   "metadata": {},
   "outputs": [
    {
     "name": "stdout",
     "output_type": "stream",
     "text": [
      "27\n"
     ]
    }
   ],
   "source": [
    "n = int(input())\n",
    "\n",
    "positive_list = []\n",
    "negative_list = []\n",
    "res = 0\n",
    "for _ in range(n):\n",
    "    a = int(input())\n",
    "    if a > 1:\n",
    "        positive_list.append(a)\n",
    "    elif a == 1:\n",
    "        res += 1\n",
    "    else:\n",
    "        negative_list.append(a)\n",
    "        \n",
    "print(max_sum(positive_list, negative_list))"
   ]
  },
  {
   "cell_type": "code",
   "execution_count": 30,
   "metadata": {},
   "outputs": [
    {
     "name": "stdout",
     "output_type": "stream",
     "text": [
      "-1\n"
     ]
    }
   ],
   "source": [
    "n = int(input())\n",
    "\n",
    "positive_list = []\n",
    "negative_list = []\n",
    "res = 0\n",
    "for _ in range(n):\n",
    "    a = int(input())\n",
    "    if a > 1:\n",
    "        positive_list.append(a)\n",
    "    elif a == 1:\n",
    "        res += 1\n",
    "    else:\n",
    "        negative_list.append(a)\n",
    "    \n",
    "print(max_sum(positive_list, negative_list))"
   ]
  },
  {
   "cell_type": "code",
   "execution_count": 31,
   "metadata": {},
   "outputs": [
    {
     "name": "stdout",
     "output_type": "stream",
     "text": [
      "1\n"
     ]
    }
   ],
   "source": [
    "n = int(input())\n",
    "\n",
    "positive_list = []\n",
    "negative_list = []\n",
    "res = 0\n",
    "for _ in range(n):\n",
    "    a = int(input())\n",
    "    if a > 1:\n",
    "        positive_list.append(a)\n",
    "    elif a == 1:\n",
    "        res += 1\n",
    "    else:\n",
    "        negative_list.append(a)\n",
    "    \n",
    "print(max_sum(positive_list, negative_list))"
   ]
  },
  {
   "cell_type": "code",
   "execution_count": 32,
   "metadata": {},
   "outputs": [
    {
     "name": "stdout",
     "output_type": "stream",
     "text": [
      "2\n"
     ]
    }
   ],
   "source": [
    "n = int(input())\n",
    "\n",
    "positive_list = []\n",
    "negative_list = []\n",
    "res = 0\n",
    "for _ in range(n):\n",
    "    a = int(input())\n",
    "    if a > 1:\n",
    "        positive_list.append(a)\n",
    "    elif a == 1:\n",
    "        res += 1\n",
    "    else:\n",
    "        negative_list.append(a)\n",
    "    \n",
    "print(max_sum(positive_list, negative_list))"
   ]
  }
 ],
 "metadata": {
  "kernelspec": {
   "display_name": "base",
   "language": "python",
   "name": "python3"
  },
  "language_info": {
   "codemirror_mode": {
    "name": "ipython",
    "version": 3
   },
   "file_extension": ".py",
   "mimetype": "text/x-python",
   "name": "python",
   "nbconvert_exporter": "python",
   "pygments_lexer": "ipython3",
   "version": "3.9.13"
  },
  "orig_nbformat": 4,
  "vscode": {
   "interpreter": {
    "hash": "c5e7ae27de7e676b977196ac8e997f52ed2b06660c7c04fca6a938abe3eb249e"
   }
  }
 },
 "nbformat": 4,
 "nbformat_minor": 2
}
