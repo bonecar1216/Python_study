{
 "cells": [
  {
   "cell_type": "markdown",
   "id": "f3b4a5de",
   "metadata": {},
   "source": [
    "## 문제>\n",
    "    정수 A를 B로 바꾸려고 한다. 가능한 연산은 다음과 같은 두 가지이다.\n",
    "\n",
    "    2를 곱한다.\n",
    "    1을 수의 가장 오른쪽에 추가한다. \n",
    "    A를 B로 바꾸는데 필요한 연산의 최솟값을 구해보자.\n",
    "\n",
    "## 입력>\n",
    "    첫째 줄에 A, B (1 ≤ A < B ≤ 109)가 주어진다.\n",
    "\n",
    "## 출력>\n",
    "    A를 B로 바꾸는데 필요한 연산의 최솟값에 1을 더한 값을 출력한다. 만들 수 없는 경우에는 -1을 출력한다.\n",
    "    \n",
    "    https://www.acmicpc.net/problem/16953"
   ]
  },
  {
   "cell_type": "markdown",
   "id": "cb7eb3c4",
   "metadata": {},
   "source": [
    "## 예제1(입력/출력)\n",
    "    2 162 / 5\n",
    "    (2 → 4 → 8 → 81 → 162)\n",
    "## 예제2(입력/출력)\n",
    "    4 42 / -1\n",
    "## 예제3(입력/출력)\n",
    "    100 40021 / 5\n",
    "    (100 → 200 → 2001 → 4002 → 40021)"
   ]
  },
  {
   "cell_type": "code",
   "execution_count": 12,
   "id": "87c463d5",
   "metadata": {},
   "outputs": [
    {
     "name": "stdout",
     "output_type": "stream",
     "text": [
      "2 162\n",
      "5\n"
     ]
    }
   ],
   "source": [
    "a, b = map(int,input().split())\n",
    "\n",
    "def find_cnt(a,b):\n",
    "    cnt = 1\n",
    "    while b!=a:\n",
    "        temp = b\n",
    "        if b%10 == 1:\n",
    "            b //= 10\n",
    "        elif b%2 == 0:\n",
    "            b //= 2\n",
    "        cnt += 1\n",
    "        \n",
    "        if b==temp:\n",
    "            cnt = -1\n",
    "            break\n",
    "    return cnt\n",
    "\n",
    "print(find_cnt(a,b))"
   ]
  },
  {
   "cell_type": "code",
   "execution_count": 13,
   "id": "45e036d4",
   "metadata": {},
   "outputs": [
    {
     "name": "stdout",
     "output_type": "stream",
     "text": [
      "4 42\n",
      "-1\n"
     ]
    }
   ],
   "source": [
    "a, b = map(int,input().split())\n",
    "\n",
    "print(find_cnt(a,b))"
   ]
  },
  {
   "cell_type": "code",
   "execution_count": 14,
   "id": "a94a5519",
   "metadata": {},
   "outputs": [
    {
     "name": "stdout",
     "output_type": "stream",
     "text": [
      "100 40021\n",
      "5\n"
     ]
    }
   ],
   "source": [
    "a, b = map(int,input().split())\n",
    "\n",
    "print(find_cnt(a,b))"
   ]
  },
  {
   "cell_type": "code",
   "execution_count": null,
   "id": "d45760c5",
   "metadata": {},
   "outputs": [],
   "source": []
  }
 ],
 "metadata": {
  "kernelspec": {
   "display_name": "Python 3 (ipykernel)",
   "language": "python",
   "name": "python3"
  },
  "language_info": {
   "codemirror_mode": {
    "name": "ipython",
    "version": 3
   },
   "file_extension": ".py",
   "mimetype": "text/x-python",
   "name": "python",
   "nbconvert_exporter": "python",
   "pygments_lexer": "ipython3",
   "version": "3.9.13"
  }
 },
 "nbformat": 4,
 "nbformat_minor": 5
}
