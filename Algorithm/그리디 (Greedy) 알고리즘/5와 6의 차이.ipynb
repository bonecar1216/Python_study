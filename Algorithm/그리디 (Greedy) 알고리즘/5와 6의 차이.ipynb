{
 "cells": [
  {
   "cell_type": "markdown",
   "id": "7768cad5",
   "metadata": {},
   "source": [
    "## 문제>\n",
    "    상근이는 2863번에서 표를 너무 열심히 돌린 나머지 5와 6을 헷갈리기 시작했다.\n",
    "\n",
    "    상근이가 숫자 5를 볼 때, 5로 볼 때도 있지만, 6으로 잘못 볼 수도 있고, 6을 볼 때는, 6으로 볼 때도 있지만, 5로 잘못 볼 수도 있다.\n",
    "\n",
    "    두 수 A와 B가 주어졌을 때, 상근이는 이 두 수를 더하려고 한다. 이때, 상근이가 구할 수 있는 두 수의 가능한 합 중, 최솟값과 최댓값을 구해 출력하는 프로그램을 작성하시오.\n",
    "\n",
    "## 입력>\n",
    "    첫째 줄에 두 정수 A와 B가 주어진다. (1 <= A,B <= 1,000,000)\n",
    "\n",
    "## 출력>\n",
    "    첫째 줄에 상근이가 구할 수 있는 두 수의 합 중 최솟값과 최댓값을 출력한다.\n",
    "    \n",
    "    https://www.acmicpc.net/problem/2864"
   ]
  },
  {
   "cell_type": "markdown",
   "id": "48d7d605",
   "metadata": {},
   "source": [
    "## 예제1(입력/출력)\n",
    "    11 25\n",
    "    / 36 37\n",
    "## 예제2(입력/출력)\n",
    "    1430 4862\n",
    "    / 6282 6292\n",
    "## 예제3(입력/출력)\n",
    "    16796 58786\n",
    "    / 74580 85582"
   ]
  },
  {
   "cell_type": "code",
   "execution_count": 4,
   "id": "c4bd7485",
   "metadata": {},
   "outputs": [
    {
     "name": "stdout",
     "output_type": "stream",
     "text": [
      "11 25\n",
      "36 37\n"
     ]
    }
   ],
   "source": [
    "a, b = input().split()\n",
    "\n",
    "a_min = int(a.replace('6','5'))\n",
    "b_min = int(b.replace('6','5'))\n",
    "a_max = int(a.replace('5','6'))\n",
    "b_max = int(b.replace('5','6'))\n",
    "\n",
    "print(a_min+b_min, a_max+b_max)"
   ]
  },
  {
   "cell_type": "code",
   "execution_count": 5,
   "id": "43703a68",
   "metadata": {},
   "outputs": [
    {
     "name": "stdout",
     "output_type": "stream",
     "text": [
      "1430 4862\n",
      "6282 6292\n"
     ]
    }
   ],
   "source": [
    "a, b = input().split()\n",
    "\n",
    "a_min = int(a.replace('6','5'))\n",
    "b_min = int(b.replace('6','5'))\n",
    "a_max = int(a.replace('5','6'))\n",
    "b_max = int(b.replace('5','6'))\n",
    "\n",
    "print(a_min+b_min, a_max+b_max)"
   ]
  },
  {
   "cell_type": "code",
   "execution_count": 6,
   "id": "3fd0550a",
   "metadata": {},
   "outputs": [
    {
     "name": "stdout",
     "output_type": "stream",
     "text": [
      "16796 58786\n",
      "74580 85582\n"
     ]
    }
   ],
   "source": [
    "a, b = input().split()\n",
    "\n",
    "a_min = int(a.replace('6','5'))\n",
    "b_min = int(b.replace('6','5'))\n",
    "a_max = int(a.replace('5','6'))\n",
    "b_max = int(b.replace('5','6'))\n",
    "\n",
    "print(a_min+b_min, a_max+b_max)"
   ]
  }
 ],
 "metadata": {
  "kernelspec": {
   "display_name": "Python 3 (ipykernel)",
   "language": "python",
   "name": "python3"
  },
  "language_info": {
   "codemirror_mode": {
    "name": "ipython",
    "version": 3
   },
   "file_extension": ".py",
   "mimetype": "text/x-python",
   "name": "python",
   "nbconvert_exporter": "python",
   "pygments_lexer": "ipython3",
   "version": "3.9.13"
  }
 },
 "nbformat": 4,
 "nbformat_minor": 5
}
