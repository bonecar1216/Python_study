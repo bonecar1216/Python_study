{
 "cells": [
  {
   "cell_type": "markdown",
   "id": "aeb07c9f",
   "metadata": {},
   "source": [
    "## 문제>\n",
    "    영학이는 딸기우유, 초코우유, 바나나우유를 좋아한다.\n",
    "\n",
    "    입맛이 매우 까다로운 영학이는 자신만의 우유를 마시는 규칙이 있다.\n",
    "\n",
    "    맨 처음에는 딸기우유를 한 팩 마신다.\n",
    "    딸기우유를 한 팩 마신 후에는 초코우유를 한 팩 마신다.\n",
    "    초코우유를 한 팩 마신 후에는 바나나우유를 한 팩 마신다.\n",
    "    바나나우유를 한 팩 마신 후에는 딸기우유를 한 팩 마신다. \n",
    "    영학이는 우유 축제가 열리고 있는 우유거리에 왔다. 우유 거리에는 우유 가게들이 일렬로 늘어서 있다.\n",
    "    \n",
    "    영학이는 우유 거리의 시작부터 끝까지 걸으면서 우유를 사먹고자 한다.\n",
    "    \n",
    "    각각의 우유 가게는 딸기, 초코, 바나나 중 한 종류의 우유만을 취급한다.\n",
    "    \n",
    "    각각의 우유 가게 앞에서, 영학이는 우유를 사마시거나, 사마시지 않는다.\n",
    "    \n",
    "    우유거리에는 사람이 많기 때문에 한 번 지나친 우유 가게에는 다시 갈 수 없다.\n",
    "        \n",
    "    영학이가 마실 수 있는 우유의 최대 개수를 구하여라.\n",
    "\n",
    "## 입력>\n",
    "    첫째 줄에 우유 가게의 수 N이 주어진다. (1 ≤ N ≤ 1000)\n",
    "\n",
    "    둘째 줄에는 우유 가게 정보가 우유 거리의 시작부터 끝까지 순서대로 N개의 정수로 주어진다.\n",
    "\n",
    "    0은 딸기우유만을 파는 가게, 1은 초코우유만을 파는 가게, 2는 바나나우유만을 파는 가게를 뜻하며, 0, 1, 2 외의 정수는 주어지지 않는다.\n",
    "\n",
    "## 출력>\n",
    "    영학이가 마실 수 있는 우유의 최대 개수를 출력하시오.\n",
    "    \n",
    "    https://www.acmicpc.net/problem/14720"
   ]
  },
  {
   "cell_type": "markdown",
   "id": "4eada53b",
   "metadata": {},
   "source": [
    "## 예제 (입력/출력)\n",
    "    7\n",
    "    0 1 2 0 1 2 0\n",
    "    / 7"
   ]
  },
  {
   "cell_type": "code",
   "execution_count": 14,
   "id": "df940109",
   "metadata": {},
   "outputs": [
    {
     "name": "stdout",
     "output_type": "stream",
     "text": [
      "7\n",
      "0 1 2 0 1 2 0\n",
      "7\n"
     ]
    }
   ],
   "source": [
    "n = int(input())\n",
    "\n",
    "stores = input().split()\n",
    "\n",
    "s = '012'\n",
    "cnt = 0\n",
    "i = stores.index('0')\n",
    "while i < len(stores):\n",
    "    s_1 = s[0]\n",
    "    if s_1 == stores[i]:\n",
    "        cnt += 1\n",
    "        s = s[1:] + s_1\n",
    "    i += 1\n",
    "    \n",
    "print(cnt)"
   ]
  }
 ],
 "metadata": {
  "kernelspec": {
   "display_name": "Python 3 (ipykernel)",
   "language": "python",
   "name": "python3"
  },
  "language_info": {
   "codemirror_mode": {
    "name": "ipython",
    "version": 3
   },
   "file_extension": ".py",
   "mimetype": "text/x-python",
   "name": "python",
   "nbconvert_exporter": "python",
   "pygments_lexer": "ipython3",
   "version": "3.9.13"
  }
 },
 "nbformat": 4,
 "nbformat_minor": 5
}
