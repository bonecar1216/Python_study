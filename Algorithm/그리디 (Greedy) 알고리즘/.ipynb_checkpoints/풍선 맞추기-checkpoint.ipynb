{
 "cells": [
  {
   "cell_type": "markdown",
   "id": "89d89a0f",
   "metadata": {},
   "source": [
    "## 문제>\n",
    "    큰 방에 N개의 풍선이 떠있다. 풍선들은 왼쪽부터 오른쪽까지 일렬로 있다. 진솔이는 화살 가지고 노는 것과 사냥 연습하는 것을 좋아한다. 진솔이는 화살을 왼쪽에서 오른쪽으로 쏜다. 높이는 임의로 선택한다. 화살은 선택된 높이 H에서 풍선을 마주칠 때까지 왼쪽에서 오른쪽으로 이동한다. 화살이 풍선을 마주치는 순간, 풍선은 터지고 사라진다. 화살은 계속해서 가던길을 가는데 높이는 1 줄어든다. 그러므로 만약 화살이 높이 H에서 이동 중이었다면 풍선을 터트린 후에는 높이가 H-1이 된다.\n",
    "\n",
    "    우리의 목표는 모든 풍선을 터트리되 가능한한 적은 화살을 사용하는 것이다.\n",
    "\n",
    "## 입력>\n",
    "    첫 번째 줄에는 정수 N(1 ≤ N ≤ 1 000 000)이 들어온다.\n",
    "\n",
    "    두 번째 줄에는 배열 Hi가 N개 들어온다.\n",
    "\n",
    "    각각의 Hi(1 ≤ Hi ≤ 1 000 000)는 i번째 풍선의 높이에 해당하며 왼쪽에서 오른쪽으로 나열되는 순서이다.\n",
    "\n",
    "## 출력>\n",
    "    첫 번째 줄 한줄에 최소한 필요한 화살의 개수를 출력한다.\n",
    "    \n",
    "    https://www.acmicpc.net/problem/11509"
   ]
  },
  {
   "cell_type": "markdown",
   "id": "5e30d74f",
   "metadata": {},
   "source": [
    "## 예제 1(입력/출력)\n",
    "    5\n",
    "    2 1 5 4 3\n",
    "    / 2\n",
    "## 예제 2(입력/출력)\n",
    "    5\n",
    "    1 2 3 4 5\n",
    "    / 5\n",
    "## 예제 3(입력/출력)\n",
    "    5\n",
    "    4 5 2 1 4\n",
    "    / 3"
   ]
  },
  {
   "cell_type": "code",
   "execution_count": 1,
   "id": "8654a4c1",
   "metadata": {},
   "outputs": [
    {
     "name": "stdout",
     "output_type": "stream",
     "text": [
      "5\n",
      "2 1 5 4 3\n",
      "2\n"
     ]
    }
   ],
   "source": [
    "n = int(input())\n",
    "\n",
    "h = list(map(int,input().split()))\n",
    "\n",
    "cnt = 1\n",
    "for i in range(1,n):\n",
    "    if h[i-1] <= h[i]:\n",
    "        cnt += 1\n",
    "print(cnt)"
   ]
  },
  {
   "cell_type": "code",
   "execution_count": 2,
   "id": "02c1dcc2",
   "metadata": {},
   "outputs": [
    {
     "name": "stdout",
     "output_type": "stream",
     "text": [
      "5\n",
      "1 2 3 4 5\n",
      "5\n"
     ]
    }
   ],
   "source": [
    "n = int(input())\n",
    "\n",
    "h = list(map(int,input().split()))\n",
    "\n",
    "cnt = 1\n",
    "for i in range(1,n):\n",
    "    if h[i-1] <= h[i]:\n",
    "        cnt += 1\n",
    "print(cnt)"
   ]
  },
  {
   "cell_type": "code",
   "execution_count": 3,
   "id": "cc38eaba",
   "metadata": {},
   "outputs": [
    {
     "name": "stdout",
     "output_type": "stream",
     "text": [
      "5\n",
      "4 5 2 1 4\n",
      "3\n"
     ]
    }
   ],
   "source": [
    "n = int(input())\n",
    "\n",
    "h = list(map(int,input().split()))\n",
    "\n",
    "cnt = 1\n",
    "for i in range(1,n):\n",
    "    if h[i-1] <= h[i]:\n",
    "        cnt += 1\n",
    "print(cnt)"
   ]
  }
 ],
 "metadata": {
  "kernelspec": {
   "display_name": "Python 3 (ipykernel)",
   "language": "python",
   "name": "python3"
  },
  "language_info": {
   "codemirror_mode": {
    "name": "ipython",
    "version": 3
   },
   "file_extension": ".py",
   "mimetype": "text/x-python",
   "name": "python",
   "nbconvert_exporter": "python",
   "pygments_lexer": "ipython3",
   "version": "3.9.13"
  }
 },
 "nbformat": 4,
 "nbformat_minor": 5
}
