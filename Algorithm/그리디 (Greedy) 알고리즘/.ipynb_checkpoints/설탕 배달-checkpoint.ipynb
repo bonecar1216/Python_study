{
 "cells": [
  {
   "cell_type": "markdown",
   "id": "590fd51c",
   "metadata": {},
   "source": [
    "## 문제>\n",
    "    상근이는 요즘 설탕공장에서 설탕을 배달하고 있다. 상근이는 지금 사탕가게에 설탕을 정확하게 N킬로그램을 배달해야 한다. 설탕공장에서 만드는 설탕은 봉지에 담겨져 있다. 봉지는 3킬로그램 봉지와 5킬로그램 봉지가 있다.\n",
    "    상근이는 귀찮기 때문에, 최대한 적은 봉지를 들고 가려고 한다. 예를 들어, 18킬로그램 설탕을 배달해야 할 때, 3킬로그램 봉지 6개를 가져가도 되지만, 5킬로그램 3개와 3킬로그램 1개를 배달하면, 더 적은 개수의 봉지를 배달할 수 있다.\n",
    "    상근이가 설탕을 정확하게 N킬로그램 배달해야 할 때, 봉지 몇 개를 가져가면 되는지 그 수를 구하는 프로그램을 작성하시오.\n",
    "\n",
    "## 입력>\n",
    "    첫째 줄에 N이 주어진다. (3 ≤ N ≤ 5000)\n",
    "\n",
    "## 출력>\n",
    "    상근이가 배달하는 봉지의 최소 개수를 출력한다. 만약, 정확하게 N킬로그램을 만들 수 없다면 -1을 출력한다."
   ]
  },
  {
   "cell_type": "markdown",
   "id": "3c6aef80",
   "metadata": {},
   "source": [
    "## 예제1 (입력/출력)\n",
    "18   /   4\n",
    "## 예제2 (입력/출력)\n",
    "4    /  -1\n",
    "## 예제3 (입력/출력)\n",
    "6    /   2\n",
    "## 예제4 (입력/출력)\n",
    "9   /   3\n",
    "## 예제5 (입력/출력)\n",
    "11  /  3"
   ]
  },
  {
   "cell_type": "code",
   "execution_count": 9,
   "id": "cc067ab2",
   "metadata": {},
   "outputs": [
    {
     "name": "stdout",
     "output_type": "stream",
     "text": [
      "18\n",
      "4\n"
     ]
    }
   ],
   "source": [
    "N = int(input())\n",
    "\n",
    "\n",
    "def find_minN(N):\n",
    "    INF = 1000000\n",
    "    ans = INF\n",
    "\n",
    "    for i in range(N//5,-1,-1):\n",
    "        # loop를 한 번 돌고 나서 값을 초기화\n",
    "        num = N\n",
    "        cnt = 0\n",
    "\n",
    "        # 5 * i를 제외한 값을 num값으로 바꾸고, i값을 count값에 반영\n",
    "        num -= 5 * i\n",
    "        cnt += i\n",
    "\n",
    "        # 5 * i를 제외한 값을 3으로 나눈 몫과 나머지를 계산\n",
    "        # 몫은 count에 저장\n",
    "        a, b = divmod(num,3)\n",
    "        cnt += a\n",
    "\n",
    "        # 나머지 값이 0인 경우에만 count값을 ans에 저장하는데, 기존 ans보다 작을 경우에만 저장\n",
    "        if b == 0:\n",
    "            if cnt < ans:\n",
    "                ans = cnt\n",
    "\n",
    "    # 모든 경우에서 정확하게 값이 떨어지는 경우를 못찾은 경우, -1값을 return\n",
    "    # 아닌 경우에는 ans값을 return\n",
    "    if ans == INF:\n",
    "        return -1\n",
    "    else:\n",
    "        return ans   \n",
    "\n",
    "print(find_minN(N))"
   ]
  },
  {
   "cell_type": "code",
   "execution_count": 10,
   "id": "7234b67f",
   "metadata": {},
   "outputs": [
    {
     "name": "stdout",
     "output_type": "stream",
     "text": [
      "4\n",
      "-1\n"
     ]
    }
   ],
   "source": [
    "N = int(input())\n",
    "print(find_minN(N))"
   ]
  },
  {
   "cell_type": "code",
   "execution_count": 11,
   "id": "f525607f",
   "metadata": {
    "scrolled": false
   },
   "outputs": [
    {
     "name": "stdout",
     "output_type": "stream",
     "text": [
      "6\n",
      "2\n"
     ]
    }
   ],
   "source": [
    "N = int(input())\n",
    "print(find_minN(N))"
   ]
  },
  {
   "cell_type": "code",
   "execution_count": 12,
   "id": "a7fa144e",
   "metadata": {},
   "outputs": [
    {
     "name": "stdout",
     "output_type": "stream",
     "text": [
      "9\n",
      "3\n"
     ]
    }
   ],
   "source": [
    "N = int(input())\n",
    "print(find_minN(N))"
   ]
  },
  {
   "cell_type": "code",
   "execution_count": 13,
   "id": "f8561c2e",
   "metadata": {},
   "outputs": [
    {
     "name": "stdout",
     "output_type": "stream",
     "text": [
      "11\n",
      "3\n"
     ]
    }
   ],
   "source": [
    "N = int(input())\n",
    "print(find_minN(N))"
   ]
  }
 ],
 "metadata": {
  "kernelspec": {
   "display_name": "Python 3 (ipykernel)",
   "language": "python",
   "name": "python3"
  },
  "language_info": {
   "codemirror_mode": {
    "name": "ipython",
    "version": 3
   },
   "file_extension": ".py",
   "mimetype": "text/x-python",
   "name": "python",
   "nbconvert_exporter": "python",
   "pygments_lexer": "ipython3",
   "version": "3.9.13"
  }
 },
 "nbformat": 4,
 "nbformat_minor": 5
}
