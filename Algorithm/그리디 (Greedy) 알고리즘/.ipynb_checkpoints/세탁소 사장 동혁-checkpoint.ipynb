{
 "cells": [
  {
   "cell_type": "markdown",
   "id": "864287ef",
   "metadata": {},
   "source": [
    "## 문제>\n",
    "    미국으로 유학간 동혁이는 세탁소를 운영하고 있다. 동혁이는 최근에 아르바이트로 고등학생 리암을 채용했다.\n",
    "\n",
    "    동혁이는 리암에게 실망했다.\n",
    "\n",
    "    리암은 거스름돈을 주는 것을 자꾸 실수한다.\n",
    "\n",
    "    심지어 $0.5달러를 줘야하는 경우에 거스름돈으로 $5달러를 주는것이다!\n",
    "\n",
    "    어쩔수 없이 뛰어난 코딩 실력을 발휘해 리암을 도와주는 프로그램을 작성하려고 하지만, 디아블로를 하느라 코딩할 시간이 없어서 이 문제를 읽고 있는 여러분이 대신 해주어야 한다.\n",
    "\n",
    "    거스름돈의 액수가 주어지면 리암이 줘야할 쿼터(Quarter, $0.25)의 개수, 다임(Dime, $0.10)의 개수, 니켈(Nickel, $0.05)의 개수, 페니(Penny, $0.01)의 개수를 구하는 프로그램을 작성하시오. 거스름돈은 항상 $5.00 이하이고, 손님이 받는 동전의 개수를 최소로 하려고 한다. 예를 들어, $1.24를 거슬러 주어야 한다면, 손님은 4쿼터, 2다임, 0니켈, 4페니를 받게 된다.\n",
    "\n",
    "## 입력>\n",
    "    첫째 줄에 테스트 케이스의 개수 T가 주어진다. 각 테스트 케이스는 거스름돈 C를 나타내는 정수 하나로 이루어져 있다. C의 단위는 센트이다. (1달러 = 100센트) (1<=C<=500)\n",
    "\n",
    "## 출력>\n",
    "    각 테스트케이스에 대해 필요한 쿼터의 개수, 다임의 개수, 니켈의 개수, 페니의 개수를 공백으로 구분하여 출력한다.\n",
    "    \n",
    "    https://www.acmicpc.net/problem/2720"
   ]
  },
  {
   "cell_type": "markdown",
   "id": "fb3ae432",
   "metadata": {},
   "source": [
    "## 예제 (입력/출력)\n",
    "    3\n",
    "    124\n",
    "    25\n",
    "    194\n",
    "    /\n",
    "    4 2 0 4\n",
    "    1 0 0 0\n",
    "    7 1 1 4"
   ]
  },
  {
   "cell_type": "code",
   "execution_count": 10,
   "id": "ccef256e",
   "metadata": {},
   "outputs": [
    {
     "name": "stdout",
     "output_type": "stream",
     "text": [
      "3\n",
      "124\n",
      "4 2 0 4\n",
      "25\n",
      "1 0 0 0\n",
      "194\n",
      "7 1 1 4\n"
     ]
    }
   ],
   "source": [
    "t = int(input())\n",
    "\n",
    "money = [0.25, 0.1, 0.05, 0.01]\n",
    "\n",
    "for _ in range(t):\n",
    "    c = int(input())\n",
    "    result = []\n",
    "    for i in range(4):\n",
    "        result.append(int(c//(money[i]*100)))\n",
    "        c %= (money[i]*100)\n",
    "    print(result[0], result[1], result[2], result[3])"
   ]
  }
 ],
 "metadata": {
  "kernelspec": {
   "display_name": "Python 3 (ipykernel)",
   "language": "python",
   "name": "python3"
  },
  "language_info": {
   "codemirror_mode": {
    "name": "ipython",
    "version": 3
   },
   "file_extension": ".py",
   "mimetype": "text/x-python",
   "name": "python",
   "nbconvert_exporter": "python",
   "pygments_lexer": "ipython3",
   "version": "3.9.13"
  }
 },
 "nbformat": 4,
 "nbformat_minor": 5
}
