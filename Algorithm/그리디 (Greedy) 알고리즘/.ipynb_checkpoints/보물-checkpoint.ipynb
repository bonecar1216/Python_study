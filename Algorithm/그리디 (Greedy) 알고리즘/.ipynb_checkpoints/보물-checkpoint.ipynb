{
 "cells": [
  {
   "cell_type": "markdown",
   "id": "f873b937",
   "metadata": {},
   "source": [
    "## 문제>\n",
    "    옛날 옛적에 수학이 항상 큰 골칫거리였던 나라가 있었다. 이 나라의 국왕 김지민은 다음과 같은 문제를 내고 큰 상금을 걸었다.\n",
    "    길이가 N인 정수 배열 A와 B가 있다. 다음과 같이 함수 S를 정의하자.\n",
    "    S = A[0] × B[0] + ... + A[N-1] × B[N-1]\n",
    "    S의 값을 가장 작게 만들기 위해 A의 수를 재배열하자. 단, B에 있는 수는 재배열하면 안 된다.\n",
    "    S의 최솟값을 출력하는 프로그램을 작성하시오.\n",
    "\n",
    "## 입력>\n",
    "    첫째 줄에 N이 주어진다. 둘째 줄에는 A에 있는 N개의 수가 순서대로 주어지고, 셋째 줄에는 B에 있는 수가 순서대로 주어진다. N은 50보다 작거나 같은 자연수이고, A와 B의 각 원소는 100보다 작거나 같은 음이 아닌 정수이다.\n",
    "\n",
    "## 출력>\n",
    "    첫째 줄에 S의 최솟값을 출력한다."
   ]
  },
  {
   "cell_type": "markdown",
   "id": "bdec23bf",
   "metadata": {},
   "source": [
    "## 예제1 (입력/출력)\n",
    "    5\n",
    "    1 1 1 6 0\n",
    "    2 7 8 3 1\n",
    "    /18\n",
    "## 예제2 (입력/출력)\n",
    "    3\n",
    "    1 1 3\n",
    "    10 30 20\n",
    "    /80\n",
    "## 예제3 (입력/출력)\n",
    "    9\n",
    "    5 15 100 31 39 0 0 3 26\n",
    "    11 12 13 2 3 4 5 9 1\n",
    "    /528"
   ]
  },
  {
   "cell_type": "code",
   "execution_count": 33,
   "id": "33ec1209",
   "metadata": {},
   "outputs": [
    {
     "name": "stdout",
     "output_type": "stream",
     "text": [
      "5\n",
      "1 1 1 6 0\n",
      "2 7 8 3 1\n",
      "18\n"
     ]
    }
   ],
   "source": [
    "N = int(input())\n",
    "A = list(map(int,input().split(' ')))\n",
    "B = list(map(int,input().split(' ')))\n",
    "\n",
    "def find_min(A,B):\n",
    "    X = sorted(A, reverse = True)\n",
    "    Y = sorted(B)\n",
    "    S = 0\n",
    "    for i in range(N):\n",
    "        S += X[i]*Y[i]\n",
    "    return S\n",
    "\n",
    "print(find_min(A,B))"
   ]
  },
  {
   "cell_type": "code",
   "execution_count": 34,
   "id": "05c0b8be",
   "metadata": {},
   "outputs": [
    {
     "name": "stdout",
     "output_type": "stream",
     "text": [
      "3\n",
      "1 1 3\n",
      "10 30 20\n",
      "80\n"
     ]
    }
   ],
   "source": [
    "N = int(input())\n",
    "A = list(map(int,input().split(' ')))\n",
    "B = list(map(int,input().split(' ')))\n",
    "\n",
    "print(find_min(A,B))"
   ]
  },
  {
   "cell_type": "code",
   "execution_count": 35,
   "id": "c037f5b7",
   "metadata": {},
   "outputs": [
    {
     "name": "stdout",
     "output_type": "stream",
     "text": [
      "9\n",
      "5 15 100 31 39 0 0 3 26\n",
      "11 12 13 2 3 4 5 9 1\n",
      "528\n"
     ]
    }
   ],
   "source": [
    "N = int(input())\n",
    "A = list(map(int,input().split(' ')))\n",
    "B = list(map(int,input().split(' ')))\n",
    "\n",
    "print(find_min(A,B))"
   ]
  }
 ],
 "metadata": {
  "kernelspec": {
   "display_name": "Python 3 (ipykernel)",
   "language": "python",
   "name": "python3"
  },
  "language_info": {
   "codemirror_mode": {
    "name": "ipython",
    "version": 3
   },
   "file_extension": ".py",
   "mimetype": "text/x-python",
   "name": "python",
   "nbconvert_exporter": "python",
   "pygments_lexer": "ipython3",
   "version": "3.9.13"
  }
 },
 "nbformat": 4,
 "nbformat_minor": 5
}
