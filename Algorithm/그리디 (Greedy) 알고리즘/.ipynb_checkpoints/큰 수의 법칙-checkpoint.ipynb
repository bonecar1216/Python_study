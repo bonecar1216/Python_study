{
 "cells": [
  {
   "cell_type": "markdown",
   "id": "f32f3010",
   "metadata": {},
   "source": [
    "## 문제>\n",
    "    철수의 큰 수의 법칙은 다양한 수로 이루어진 배열이 있을 때 주어진 수들을 M번 더하여 가장 큰 수를 만드는 법칙이다.\n",
    "    단, 배열의 특정 인덱스(번호)에 해당하는 수가 연속해서 K번을 초과하여 더해질 수 없는 것이 이 법칙의 특징이다.\n",
    "\n",
    "    예를 들어 순서대로 2,4,5,4,6으로 이루어진 배열이 있을 때 M이 8이고, K가 3이라고 가정하자.\n",
    "    이 경우 특정한 인덱스의 수가 연속해서 세 번까지만 더해질 수 있으므로 큰 수의 법칙에 따른 결과는 6+6+6+5+6+6+6+5 인 46이 된다.\n",
    "\n",
    "    단, 서로 다른 인덱스에 해당하는 수가 같은 경우에도 서로 다른 것으로 간주한다. 예를 들어 순서대로 3,4,3,4,3으로 이루어진 배열이 있을 때 M이 7이고, K가 2라고 가정하자. 이 경우 두 번째 원소에 해당하는 4와 네 번째 원소에 해당하는 4를 번갈아 두 번씩 더하는 것이 가능하다. 결과적으로 4+4+4+4+4+4+4 인 28이 도출된다.\n",
    "\n",
    "    배열의 크기 N, 숫자가 더해지는 횟수 M, 그리고 K가 주어질 때 철수의 큰 수의 법칙에 따른 결과를 출력하시오.\n",
    "\n",
    "## 입력 조건>\n",
    "    첫째 줄에 N(2 ≤ N ≤ 1,000), M(1≤M≤10,000), K(1≤K≤10,000)의 자연수가 주어지며, 각 자연수는 공백으로 구분한다.\n",
    "    둘째 줄에 N개의 자연수가 주어진다. 각 자연수는 공백으로 구분한다. 단, 각각의 자연수는 1 이상 10,000 이하의 수로 주어진다.\n",
    "    입력으로 주어지는 K는 항상 M보다 작거나 같다.\n",
    "## 출력 조건>\n",
    "    첫째 줄에 철수의 큰 수의 법칙에 따라 더해진 답을 출력한다.\n"
   ]
  },
  {
   "cell_type": "markdown",
   "id": "408a144f",
   "metadata": {},
   "source": [
    "## 예제\n",
    "### 입력\n",
    "    5 8 3\n",
    "    2 4 5 4 6\n",
    "### 출력\n",
    "    46"
   ]
  },
  {
   "cell_type": "code",
   "execution_count": 8,
   "id": "dee1135d",
   "metadata": {},
   "outputs": [
    {
     "name": "stdout",
     "output_type": "stream",
     "text": [
      "5 8 3\n",
      "2 4 5 4 6\n",
      "6 5\n",
      "46\n"
     ]
    }
   ],
   "source": [
    "N,M,K = map(int,input().split())\n",
    "A = list(map(int,input().split()))\n",
    "\n",
    "A = sorted(A)\n",
    "\n",
    "# 가장 큰 수\n",
    "first = A[-1]\n",
    "# 두 번째로 큰수\n",
    "second = A[-2]\n",
    "\n",
    "# 숫자 세트는 K개의 가장 큰 수와 1개의 그 다음 큰 수로 이루어짐 (K+1)\n",
    "cnt = (M//(K+1)) * K\n",
    "cnt += M%(K+1)\n",
    "\n",
    "# 숫자 합 계산\n",
    "result = 0\n",
    "# 가장 큰 수 더하기\n",
    "result = cnt * first\n",
    "# 두 번재 큰 수 더하기\n",
    "result += (M - cnt) * second\n",
    "\n",
    "print(result)"
   ]
  },
  {
   "cell_type": "code",
   "execution_count": 9,
   "id": "0d57606e",
   "metadata": {
    "scrolled": true
   },
   "outputs": [
    {
     "name": "stdout",
     "output_type": "stream",
     "text": [
      "5 8 3\n",
      "2 4 5 4 6\n",
      "46\n"
     ]
    }
   ],
   "source": [
    "N,M,K = map(int,input().split())\n",
    "A = list(map(int,input().split()))\n",
    "\n",
    "A = sorted(A)\n",
    "\n",
    "# 가장 큰 수\n",
    "first = A[-1]\n",
    "# 두 번째로 큰수\n",
    "second = A[-2]\n",
    "\n",
    "result2 = 0\n",
    "while True:\n",
    "    for i in range(K):\n",
    "        if M == 0:\n",
    "            break\n",
    "        result2 += first\n",
    "        M -= 1\n",
    "        \n",
    "    if M == 0:\n",
    "        break\n",
    "    result2 += second\n",
    "    M -= 1\n",
    "\n",
    "print(result2)"
   ]
  },
  {
   "cell_type": "markdown",
   "id": "4184b48c",
   "metadata": {},
   "source": [
    "    * 두 코딩 모두 정답이 되지만, 두 번째 코딩의 경우에는 더하는 숫자의 갯수가 많아지면 연산량이 많아져서 시간 초과됨."
   ]
  }
 ],
 "metadata": {
  "kernelspec": {
   "display_name": "Python 3 (ipykernel)",
   "language": "python",
   "name": "python3"
  },
  "language_info": {
   "codemirror_mode": {
    "name": "ipython",
    "version": 3
   },
   "file_extension": ".py",
   "mimetype": "text/x-python",
   "name": "python",
   "nbconvert_exporter": "python",
   "pygments_lexer": "ipython3",
   "version": "3.9.13"
  }
 },
 "nbformat": 4,
 "nbformat_minor": 5
}
