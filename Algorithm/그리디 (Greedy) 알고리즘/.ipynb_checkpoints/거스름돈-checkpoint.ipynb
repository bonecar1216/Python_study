{
 "cells": [
  {
   "cell_type": "markdown",
   "id": "aa3946dc",
   "metadata": {},
   "source": [
    "## 문제>\n",
    "    타로는 자주 JOI잡화점에서 물건을 산다. JOI잡화점에는 잔돈으로 500엔, 100엔, 50엔, 10엔, 5엔, 1엔이 충분히 있고, 언제나 거스름돈 개수가 가장 적게 잔돈을 준다. 타로가 JOI잡화점에서 물건을 사고 카운터에서 1000엔 지폐를 한장 냈을 때, 받을 잔돈에 포함된 잔돈의 개수를 구하는 프로그램을 작성하시오.\n",
    "\n",
    "## 입력>\n",
    "    입력은 한줄로 이루어져있고, 타로가 지불할 돈(1 이상 1000미만의 정수) 1개가 쓰여져있다.\n",
    "\n",
    "## 출력>\n",
    "    제출할 출력 파일은 1행으로만 되어 있다. 잔돈에 포함된 매수를 출력하시오."
   ]
  },
  {
   "cell_type": "markdown",
   "id": "8130d1d9",
   "metadata": {},
   "source": [
    "## 예제1 (입력/출력)\n",
    "380  /  4\n",
    "## 예제2 (입력/출력)\n",
    "1  /  15"
   ]
  },
  {
   "cell_type": "code",
   "execution_count": 3,
   "id": "74ea4690",
   "metadata": {},
   "outputs": [
    {
     "name": "stdout",
     "output_type": "stream",
     "text": [
      "380\n",
      "4\n"
     ]
    }
   ],
   "source": [
    "N = int(input())\n",
    "\n",
    "def count_change(N):\n",
    "    money = [500, 100, 50, 10, 5, 1]\n",
    "    cnt = 0\n",
    "    \n",
    "    # 잔돈\n",
    "    change = 1000 - N\n",
    "    \n",
    "    for m in money:\n",
    "        cnt += change//m\n",
    "        change = change%m\n",
    "    return cnt\n",
    "\n",
    "print(count_change(N))"
   ]
  },
  {
   "cell_type": "code",
   "execution_count": 4,
   "id": "bba27dee",
   "metadata": {},
   "outputs": [
    {
     "name": "stdout",
     "output_type": "stream",
     "text": [
      "1\n",
      "15\n"
     ]
    }
   ],
   "source": [
    "N = int(input())\n",
    "\n",
    "print(count_change(N))"
   ]
  }
 ],
 "metadata": {
  "kernelspec": {
   "display_name": "Python 3 (ipykernel)",
   "language": "python",
   "name": "python3"
  },
  "language_info": {
   "codemirror_mode": {
    "name": "ipython",
    "version": 3
   },
   "file_extension": ".py",
   "mimetype": "text/x-python",
   "name": "python",
   "nbconvert_exporter": "python",
   "pygments_lexer": "ipython3",
   "version": "3.9.13"
  }
 },
 "nbformat": 4,
 "nbformat_minor": 5
}
