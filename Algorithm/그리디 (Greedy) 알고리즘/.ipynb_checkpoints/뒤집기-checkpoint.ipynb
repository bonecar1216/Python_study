{
 "cells": [
  {
   "cell_type": "markdown",
   "id": "896866ac",
   "metadata": {},
   "source": [
    "## 문제>\n",
    "    다솜이는 0과 1로만 이루어진 문자열 S를 가지고 있다. 다솜이는 이 문자열 S에 있는 모든 숫자를 전부 같게 만들려고 한다. 다솜이가 할 수 있는 행동은 S에서 연속된 하나 이상의 숫자를 잡고 모두 뒤집는 것이다. 뒤집는 것은 1을 0으로, 0을 1로 바꾸는 것을 의미한다.\n",
    "\n",
    "    예를 들어 S=0001100 일 때,\n",
    "\n",
    "    전체를 뒤집으면 1110011이 된다.\n",
    "    4번째 문자부터 5번째 문자까지 뒤집으면 1111111이 되어서 2번 만에 모두 같은 숫자로 만들 수 있다.\n",
    "    하지만, 처음부터 4번째 문자부터 5번째 문자까지 문자를 뒤집으면 한 번에 0000000이 되어서 1번 만에 모두 같은 숫자로 만들 수 있다.\n",
    "\n",
    "    문자열 S가 주어졌을 때, 다솜이가 해야하는 행동의 최소 횟수를 출력하시오.\n",
    "\n",
    "## 입력>\n",
    "    첫째 줄에 문자열 S가 주어진다. S의 길이는 100만보다 작다.\n",
    "\n",
    "## 출력>\n",
    "    첫째 줄에 다솜이가 해야하는 행동의 최소 횟수를 출력한다.\n",
    "    \n",
    "    https://www.acmicpc.net/problem/1439"
   ]
  },
  {
   "cell_type": "markdown",
   "id": "74b4da5d",
   "metadata": {},
   "source": [
    "## 예제1 (입력/출력)\n",
    "0001100  /  1\n",
    "## 예제2 (입력/출력)\n",
    "11111   /   0\n",
    "## 예제3 (입력/출력)\n",
    "00000001   /   1\n",
    "## 예제4 (입력/출력)\n",
    "11001100110011000001   /   4\n",
    "## 예제5 (입력/출력)\n",
    "11101101   /   2"
   ]
  },
  {
   "cell_type": "code",
   "execution_count": 12,
   "id": "97423616",
   "metadata": {},
   "outputs": [
    {
     "name": "stdout",
     "output_type": "stream",
     "text": [
      "0001100\n",
      "1\n"
     ]
    }
   ],
   "source": [
    "S = input()\n",
    "\n",
    "def min_cnt(S):\n",
    "    # 문자열을 구성하는 숫자가 1종류인 경우, 0을 출력\n",
    "    if len(set(S)) == 1:\n",
    "        return 0\n",
    "\n",
    "    # 문자열을 구성하는 숫자가 2종류인 경우\n",
    "    else:\n",
    "\n",
    "    # 0과 1 그룹의 수를 카운팅해서 딕셔너리로 저장 => 최소 뒤집기 횟수 = 최소 그룹의 수\n",
    "        S_dict = {S[0]: 1}\n",
    "        front = S[0]\n",
    "        for s in S:\n",
    "            if front == s:\n",
    "                continue\n",
    "            else:\n",
    "                if s not in S_dict:\n",
    "                    S_dict[s] = 1\n",
    "                else: \n",
    "                    S_dict[s] += 1\n",
    "                front = s\n",
    "        return min(S_dict.values())\n",
    "\n",
    "print(min_cnt(S))"
   ]
  },
  {
   "cell_type": "code",
   "execution_count": 13,
   "id": "679d4ced",
   "metadata": {},
   "outputs": [
    {
     "name": "stdout",
     "output_type": "stream",
     "text": [
      "11111\n",
      "0\n"
     ]
    }
   ],
   "source": [
    "S = input()\n",
    "\n",
    "print(min_cnt(S))"
   ]
  },
  {
   "cell_type": "code",
   "execution_count": 14,
   "id": "26cfb3a7",
   "metadata": {},
   "outputs": [
    {
     "name": "stdout",
     "output_type": "stream",
     "text": [
      "00000001\n",
      "1\n"
     ]
    }
   ],
   "source": [
    "S = input()\n",
    "\n",
    "print(min_cnt(S))"
   ]
  },
  {
   "cell_type": "code",
   "execution_count": 15,
   "id": "257cec46",
   "metadata": {},
   "outputs": [
    {
     "name": "stdout",
     "output_type": "stream",
     "text": [
      "11001100110011000001\n",
      "4\n"
     ]
    }
   ],
   "source": [
    "S = input()\n",
    "\n",
    "print(min_cnt(S))"
   ]
  },
  {
   "cell_type": "code",
   "execution_count": 16,
   "id": "58bf7db2",
   "metadata": {},
   "outputs": [
    {
     "name": "stdout",
     "output_type": "stream",
     "text": [
      "11101101\n",
      "2\n"
     ]
    }
   ],
   "source": [
    "S = input()\n",
    "\n",
    "print(min_cnt(S))"
   ]
  }
 ],
 "metadata": {
  "kernelspec": {
   "display_name": "Python 3 (ipykernel)",
   "language": "python",
   "name": "python3"
  },
  "language_info": {
   "codemirror_mode": {
    "name": "ipython",
    "version": 3
   },
   "file_extension": ".py",
   "mimetype": "text/x-python",
   "name": "python",
   "nbconvert_exporter": "python",
   "pygments_lexer": "ipython3",
   "version": "3.9.13"
  }
 },
 "nbformat": 4,
 "nbformat_minor": 5
}
