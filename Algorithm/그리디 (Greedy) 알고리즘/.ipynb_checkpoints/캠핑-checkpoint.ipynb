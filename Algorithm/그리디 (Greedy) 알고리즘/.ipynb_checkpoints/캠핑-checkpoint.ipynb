{
 "cells": [
  {
   "cell_type": "markdown",
   "id": "73357743",
   "metadata": {},
   "source": [
    "## 문제>\n",
    "    등산가 김강산은 가족들과 함께 캠핑을 떠났다. 하지만, 캠핑장에는 다음과 같은 경고문이 쓰여 있었다.\n",
    "\n",
    "    캠핑장은 연속하는 20일 중 10일동안만 사용할 수 있습니다.\n",
    "\n",
    "    강산이는 이제 막 28일 휴가를 시작했다. 이번 휴가 기간 동안 강산이는 캠핑장을 며칠동안 사용할 수 있을까?\n",
    "\n",
    "    강산이는 조금 더 일반화해서 문제를 풀려고 한다. \n",
    "\n",
    "    캠핑장을 연속하는 P일 중, L일동안만 사용할 수 있다. 강산이는 이제 막 V일짜리 휴가를 시작했다. 강산이가 캠핑장을 최대 며칠동안 사용할 수 있을까? (1 < L < P < V)\n",
    "\n",
    "## 입력>\n",
    "    입력은 여러 개의 테스트 케이스로 이루어져 있다. 각 테스트 케이스는 한 줄로 이루어져 있고, L, P, V를 순서대로 포함하고 있다. 모든 입력 정수는 int범위이다. 마지막 줄에는 0이 3개 주어진다.\n",
    "\n",
    "## 출력>\n",
    "    각 테스트 케이스에 대해서, 강산이가 캠핑장을 최대 며칠동안 사용할 수 있는지 예제 출력처럼 출력한다.\n",
    "    \n",
    "    https://www.acmicpc.net/problem/4796"
   ]
  },
  {
   "cell_type": "markdown",
   "id": "46b52196",
   "metadata": {},
   "source": [
    "## 예제\n",
    "### 입력\n",
    "    5 8 20\n",
    "    5 8 17\n",
    "    0 0 0\n",
    "### 출력\n",
    "    Case 1: 14\n",
    "    Case 2: 11"
   ]
  },
  {
   "cell_type": "code",
   "execution_count": 1,
   "id": "accc0c84",
   "metadata": {},
   "outputs": [],
   "source": [
    "# 최대 캠핑장을 사용하기 위해서는 V(휴가 총 일수)일을 P(연속하는 일수) 올림한 구간으로 나누어서 이용하는 것이 최대한 이용할 수 있는 조건임.\n",
    "## V = 20일, P = 8일 -> 20/8 -> 2구간 + 4일 -> 10일 + 4일 -> 14일\n",
    "## V/P의 나머지(4일)와 L값(5일) 중 최소값을 구간 수에 더하면 최대 이용 일 수 계산할 수 있음."
   ]
  },
  {
   "cell_type": "code",
   "execution_count": 5,
   "id": "5e85e095",
   "metadata": {},
   "outputs": [
    {
     "name": "stdout",
     "output_type": "stream",
     "text": [
      "5 8 20\n",
      "Case 1: 14\n",
      "5 8 17\n",
      "Case 2: 11\n",
      "0 0 0\n"
     ]
    }
   ],
   "source": [
    "i = 1\n",
    "while True:\n",
    "    L, P, V = map(int, input().split())\n",
    "\n",
    "    if L + P + V == 0:\n",
    "        break\n",
    "    \n",
    "    days = V//P * L + min(V%P, L)\n",
    "    print(f'Case {i}: {days}')\n",
    "    i += 1"
   ]
  }
 ],
 "metadata": {
  "kernelspec": {
   "display_name": "Python 3 (ipykernel)",
   "language": "python",
   "name": "python3"
  },
  "language_info": {
   "codemirror_mode": {
    "name": "ipython",
    "version": 3
   },
   "file_extension": ".py",
   "mimetype": "text/x-python",
   "name": "python",
   "nbconvert_exporter": "python",
   "pygments_lexer": "ipython3",
   "version": "3.9.13"
  }
 },
 "nbformat": 4,
 "nbformat_minor": 5
}
