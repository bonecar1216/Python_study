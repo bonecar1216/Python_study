{
 "cells": [
  {
   "cell_type": "markdown",
   "id": "f129ab84",
   "metadata": {},
   "source": [
    "## 문제>\n",
    "    숫자 카드 게임은 여러 개의 숫자 카드 중에서 가장 높은 숫자가 쓰인 카드 한 장을 뽑는 게임이다. 단, 게임의 룰을 지키며 카드를 뽑아야 하고 룰은 다음과 같다.\n",
    "\n",
    "    1. 숫자가 쓰인 카드들이 N x M 형태로 놓여 있다. 이때 N은 행의 개수를 의미하며, M은 열의 개수를 의미한다.\n",
    "    \n",
    "    2. 먼저 뽑고자 하는 카드가 포함되어 있는 행을 선택한다.\n",
    "    \n",
    "    3. 그다음 선택된 행에 포함된 카드들 중 가장 숫자가 낮은 카드를 뽑아야 한다.\n",
    "    \n",
    "    4. 따라서 처음에 카드를 골라낼 행을 선택할 때, 이후에 해당 행에서 가장 숫자가 낮은 카드를 뽑을 것을 고려하여 최종적으로 갖아 높은 숫자의 카드를 뽑을 수 있도록 전략을 세워야 한다.\n",
    "\n",
    "    예를 들어 3x3 형태로 카드들이 다음과 같이 놓여 있다고 가정하자.\n",
    "\n",
    "    여기서 카드를 골라낼 행을 고를 때 첫 번째 혹은 두 번째 행을 선택하는 경우, 최종적으로 뽑는 카드는 1이다. 하지만 세 번째 행을 선택하는 경우 최종적으로 뽑는 카드는 2이다. 따라서 이 예제에서는 세 번째 행을 선택하여 숫자 2가 쓰여진 카드를 뽑는 것이 정답이다.\n",
    "\n",
    "    카드 N x M 형태로 놓여 있을 때, 게임의 룰에 맞게 카드를 뽑는 프로그램을 만드시오.\n",
    "\n",
    " \n",
    "\n",
    "## 입력 조건>\n",
    "    첫째 줄에 숫자 카드들이 놓인 행의 개수 N과 열의 개수 M이 공백을 기준으로 하여 각각 자연수로 주어진다. (1 ≤ N.M ≤ 100)\n",
    "    둘째 줄에 N개의 줄에 걸쳐 각 카드에 적힌 숫자가 주어진다. 각 숫자는 1 이상 10,000 이하의 자연수이다.\n",
    "\n",
    "## 출력 조건>\n",
    "    첫째 줄에 게임의 룰에 맞게 선택한 카드가 적힌 숫자를 출력한다."
   ]
  },
  {
   "cell_type": "markdown",
   "id": "cb10c429",
   "metadata": {},
   "source": [
    "## 예제 1 (입력/출력)\n",
    "    3 3\n",
    "    3 1 2\n",
    "    4 1 4\n",
    "    2 2 2\n",
    "    / 2\n",
    "## 예제 2 (입력/출력)\n",
    "    2 4\n",
    "    7 3 1 8\n",
    "    3 3 3 4\n",
    "    / 3"
   ]
  },
  {
   "cell_type": "code",
   "execution_count": 3,
   "id": "d5283163",
   "metadata": {},
   "outputs": [
    {
     "name": "stdout",
     "output_type": "stream",
     "text": [
      "3 3\n",
      "3 1 2\n",
      "4 1 4\n",
      "2 2 2\n",
      "2\n"
     ]
    }
   ],
   "source": [
    "M, N = map(int,input().split())\n",
    "\n",
    "max_num = 0\n",
    "\n",
    "for _ in range(M):\n",
    "    A = list(map(int,input().split()))\n",
    "    min_num = max(min_num, min(A))\n",
    "\n",
    "print(min_num)"
   ]
  },
  {
   "cell_type": "code",
   "execution_count": 6,
   "id": "87e8fad9",
   "metadata": {},
   "outputs": [
    {
     "name": "stdout",
     "output_type": "stream",
     "text": [
      "2 4\n",
      "7 3 1 8\n",
      "3 3 3 4\n",
      "3\n"
     ]
    }
   ],
   "source": [
    "M, N = map(int,input().split())\n",
    "\n",
    "max_num = 0\n",
    "\n",
    "for _ in range(M):\n",
    "    A = list(map(int,input().split()))\n",
    "    min_num = max(min_num, min(A))\n",
    "\n",
    "print(min_num)"
   ]
  },
  {
   "cell_type": "code",
   "execution_count": 8,
   "id": "afdbb9c4",
   "metadata": {},
   "outputs": [
    {
     "name": "stdout",
     "output_type": "stream",
     "text": [
      "3 3\n",
      "3 1 2\n",
      "4 1 4\n",
      "2 2 2\n",
      "2\n"
     ]
    }
   ],
   "source": [
    "# 이중 for문 사용\n",
    "M, N = map(int,input().split())\n",
    "\n",
    "result = 0\n",
    "\n",
    "for i in range(N):\n",
    "    data = list(map(int,input().split()))\n",
    "    \n",
    "    # 행 내에서 가장 작은 값을 찾는 구문\n",
    "    min_value = 10001\n",
    "    for a in data:\n",
    "        min_value = min(min_value, a)\n",
    "    \n",
    "    # 작은 값들 중 제일 큰 값을 찾는 구문\n",
    "    result = max(result, min_value)\n",
    "\n",
    "print(result)"
   ]
  }
 ],
 "metadata": {
  "kernelspec": {
   "display_name": "Python 3 (ipykernel)",
   "language": "python",
   "name": "python3"
  },
  "language_info": {
   "codemirror_mode": {
    "name": "ipython",
    "version": 3
   },
   "file_extension": ".py",
   "mimetype": "text/x-python",
   "name": "python",
   "nbconvert_exporter": "python",
   "pygments_lexer": "ipython3",
   "version": "3.9.13"
  }
 },
 "nbformat": 4,
 "nbformat_minor": 5
}
