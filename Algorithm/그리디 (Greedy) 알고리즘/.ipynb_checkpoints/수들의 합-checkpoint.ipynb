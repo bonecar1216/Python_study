{
 "cells": [
  {
   "cell_type": "markdown",
   "id": "37056245",
   "metadata": {},
   "source": [
    "## 문제>\n",
    "    서로 다른 N개의 자연수의 합이 S라고 한다. S를 알 때, 자연수 N의 최댓값은 얼마일까?\n",
    "\n",
    "## 입력>\n",
    "    첫째 줄에 자연수 S(1 ≤ S ≤ 4,294,967,295)가 주어진다.\n",
    "\n",
    "## 출력>\n",
    "    첫째 줄에 자연수 N의 최댓값을 출력한다.\n",
    "    \n",
    "    https://www.acmicpc.net/problem/1789"
   ]
  },
  {
   "cell_type": "markdown",
   "id": "4e2a7e45",
   "metadata": {},
   "source": [
    "## 예제 (입력/출력)\n",
    "200 / 19"
   ]
  },
  {
   "cell_type": "code",
   "execution_count": 1,
   "id": "b70bd63b",
   "metadata": {},
   "outputs": [
    {
     "name": "stdout",
     "output_type": "stream",
     "text": [
      "200\n",
      "19\n"
     ]
    }
   ],
   "source": [
    "s = int(input())\n",
    "\n",
    "n = 0\n",
    "while (n+1)*n/2 <= s:\n",
    "    n += 1\n",
    "    \n",
    "print(n-1)"
   ]
  }
 ],
 "metadata": {
  "kernelspec": {
   "display_name": "Python 3 (ipykernel)",
   "language": "python",
   "name": "python3"
  },
  "language_info": {
   "codemirror_mode": {
    "name": "ipython",
    "version": 3
   },
   "file_extension": ".py",
   "mimetype": "text/x-python",
   "name": "python",
   "nbconvert_exporter": "python",
   "pygments_lexer": "ipython3",
   "version": "3.9.13"
  }
 },
 "nbformat": 4,
 "nbformat_minor": 5
}
