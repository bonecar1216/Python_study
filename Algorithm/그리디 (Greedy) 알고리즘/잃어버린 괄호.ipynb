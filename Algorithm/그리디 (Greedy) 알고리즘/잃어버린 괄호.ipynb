{
 "cells": [
  {
   "cell_type": "markdown",
   "id": "bacaee3b",
   "metadata": {},
   "source": [
    "## 문제>\n",
    "    세준이는 양수와 +, -, 그리고 괄호를 가지고 식을 만들었다. 그리고 나서 세준이는 괄호를 모두 지웠다.\n",
    "\n",
    "    그리고 나서 세준이는 괄호를 적절히 쳐서 이 식의 값을 최소로 만들려고 한다.\n",
    "\n",
    "    괄호를 적절히 쳐서 이 식의 값을 최소로 만드는 프로그램을 작성하시오.\n",
    "\n",
    "## 입력>\n",
    "    첫째 줄에 식이 주어진다. 식은 ‘0’~‘9’, ‘+’, 그리고 ‘-’만으로 이루어져 있고, 가장 처음과 마지막 문자는 숫자이다. 그리고 연속해서 두 개 이상의 연산자가 나타나지 않고, 5자리보다 많이 연속되는 숫자는 없다. 수는 0으로 시작할 수 있다. 입력으로 주어지는 식의 길이는 50보다 작거나 같다.\n",
    "\n",
    "## 출력>\n",
    "    첫째 줄에 정답을 출력한다.\n",
    "    \n",
    "    https://www.acmicpc.net/problem/1541"
   ]
  },
  {
   "cell_type": "markdown",
   "id": "1bb9b575",
   "metadata": {},
   "source": [
    "## 예제 1(입력/출력)\n",
    "    55-50+40\n",
    "    / -35\n",
    "## 예제 2(입력/출력)\n",
    "    10+20+30+40\n",
    "    / 100\n",
    "## 예제 3(입력/출력)\n",
    "    00009-00009\n",
    "    / 0"
   ]
  },
  {
   "cell_type": "code",
   "execution_count": 16,
   "id": "952a2a3f",
   "metadata": {},
   "outputs": [
    {
     "name": "stdout",
     "output_type": "stream",
     "text": [
      "55-50+40\n",
      "-35\n"
     ]
    }
   ],
   "source": [
    "arr = input().split('-')\n",
    "\n",
    "arr2 = []\n",
    "for a in arr:\n",
    "    num = 0\n",
    "    if '+' in a:\n",
    "        for b in a.split('+'):\n",
    "            num += int(b)\n",
    "        arr2.append(num)\n",
    "    else:\n",
    "        arr2.append(a)\n",
    "        \n",
    "res = int(arr2[0])\n",
    "for b in arr2[1:]:\n",
    "    res -= int(b)\n",
    "\n",
    "print(res)"
   ]
  },
  {
   "cell_type": "code",
   "execution_count": 17,
   "id": "6859047d",
   "metadata": {},
   "outputs": [
    {
     "name": "stdout",
     "output_type": "stream",
     "text": [
      "10+20+30+40\n",
      "100\n"
     ]
    }
   ],
   "source": [
    "arr = input().split('-')\n",
    "\n",
    "arr2 = []\n",
    "for a in arr:\n",
    "    num = 0\n",
    "    if '+' in a:\n",
    "        for b in a.split('+'):\n",
    "            num += int(b)\n",
    "        arr2.append(num)\n",
    "    else:\n",
    "        arr2.append(a)\n",
    "        \n",
    "res = int(arr2[0])\n",
    "for b in arr2[1:]:\n",
    "    res -= int(b)\n",
    "\n",
    "print(res)"
   ]
  },
  {
   "cell_type": "code",
   "execution_count": 18,
   "id": "3f9a1edf",
   "metadata": {},
   "outputs": [
    {
     "name": "stdout",
     "output_type": "stream",
     "text": [
      "00009-00009\n",
      "0\n"
     ]
    }
   ],
   "source": [
    "arr = input().split('-')\n",
    "\n",
    "arr2 = []\n",
    "for a in arr:\n",
    "    num = 0\n",
    "    if '+' in a:\n",
    "        for b in a.split('+'):\n",
    "            num += int(b)\n",
    "        arr2.append(num)\n",
    "    else:\n",
    "        arr2.append(a)\n",
    "        \n",
    "res = int(arr2[0])\n",
    "for b in arr2[1:]:\n",
    "    res -= int(b)\n",
    "\n",
    "print(res)"
   ]
  }
 ],
 "metadata": {
  "kernelspec": {
   "display_name": "Python 3 (ipykernel)",
   "language": "python",
   "name": "python3"
  },
  "language_info": {
   "codemirror_mode": {
    "name": "ipython",
    "version": 3
   },
   "file_extension": ".py",
   "mimetype": "text/x-python",
   "name": "python",
   "nbconvert_exporter": "python",
   "pygments_lexer": "ipython3",
   "version": "3.9.13"
  }
 },
 "nbformat": 4,
 "nbformat_minor": 5
}
