{
 "cells": [
  {
   "attachments": {},
   "cell_type": "markdown",
   "metadata": {},
   "source": [
    "## 문제\n",
    "    언제나 최고만을 지향하는 굴지의 대기업 진영 주식회사가 신규 사원 채용을 실시한다. 인재 선발 시험은 1차 서류심사와 2차 면접시험으로 이루어진다. 최고만을 지향한다는 기업의 이념에 따라 그들은 최고의 인재들만을 사원으로 선발하고 싶어 한다.\n",
    "\n",
    "    그래서 진영 주식회사는, 다른 모든 지원자와 비교했을 때 서류심사 성적과 면접시험 성적 중 적어도 하나가 다른 지원자보다 떨어지지 않는 자만 선발한다는 원칙을 세웠다. 즉, 어떤 지원자 A의 성적이 다른 어떤 지원자 B의 성적에 비해 서류 심사 결과와 면접 성적이 모두 떨어진다면 A는 결코 선발되지 않는다.\n",
    "\n",
    "    이러한 조건을 만족시키면서, 진영 주식회사가 이번 신규 사원 채용에서 선발할 수 있는 신입사원의 최대 인원수를 구하는 프로그램을 작성하시오.\n",
    "\n",
    "## 입력\n",
    "    첫째 줄에는 테스트 케이스의 개수 T(1 ≤ T ≤ 20)가 주어진다. 각 테스트 케이스의 첫째 줄에 지원자의 숫자 N(1 ≤ N ≤ 100,000)이 주어진다. 둘째 줄부터 N개 줄에는 각각의 지원자의 서류심사 성적, 면접 성적의 순위가 공백을 사이에 두고 한 줄에 주어진다. 두 성적 순위는 모두 1위부터 N위까지 동석차 없이 결정된다고 가정한다.\n",
    "\n",
    "## 출력\n",
    "    각 테스트 케이스에 대해서 진영 주식회사가 선발할 수 있는 신입사원의 최대 인원수를 한 줄에 하나씩 출력한다.\n",
    "\n",
    "    https://www.acmicpc.net/problem/1946"
   ]
  },
  {
   "attachments": {},
   "cell_type": "markdown",
   "metadata": {},
   "source": [
    "## 예제 (입력/출력)\n",
    "    2\n",
    "    5\n",
    "    3 2\n",
    "    1 4\n",
    "    4 1\n",
    "    2 3\n",
    "    5 5\n",
    "    7\n",
    "    3 6\n",
    "    7 3\n",
    "    4 2\n",
    "    1 4\n",
    "    5 7\n",
    "    2 5\n",
    "    6 1\n",
    "    / \n",
    "    4\n",
    "    3"
   ]
  },
  {
   "cell_type": "code",
   "execution_count": 6,
   "metadata": {},
   "outputs": [
    {
     "name": "stdout",
     "output_type": "stream",
     "text": [
      "4\n",
      "3\n"
     ]
    }
   ],
   "source": [
    "t = int(input())\n",
    "\n",
    "for _ in range(t):\n",
    "    n = int(input())\n",
    "    interview_result = []\n",
    "    for _ in range(n):\n",
    "        a,b = map(int,input().split())\n",
    "        interview_result.append([a,b])\n",
    "        \n",
    "    interview_result = sorted(interview_result, key = lambda a: a[0])\n",
    "\n",
    "    cnt = 1 # 서류에서 1등을 한 사람은 무조건 합격이므로 cnt 초기 값이 1이됨.\n",
    "    cut_line = interview_result[0][1] # 서류에서 1등을 한 사람의 면접 성적이 cut line이 됨.\n",
    "    for i in range(1,n):\n",
    "        if interview_result[i][1] < cut_line:\n",
    "            cnt += 1\n",
    "            cut_line = interview_result[i][1]\n",
    "    print(cnt)"
   ]
  },
  {
   "attachments": {},
   "cell_type": "markdown",
   "metadata": {},
   "source": [
    "    * 서류 성적을 정렬한 후에 면접 성적을 기준으로 판단을 하면되는 문제임.\n",
    "      서류 성적 1등은 무조건 합격이고, 그 다음 사람이 서류 성적 1등의 면접 점수 등수보다 더 나은 등수를 가져야 합격이 됨.\n",
    "      그 다음 사람이 합격을 했다면, 그 다다음 사람은 다음 사람의 면접 성적보다 높은 등수를 가져야 함. -> 다음 사람의 면접 성적이 새로운 커트 라인이 됨."
   ]
  }
 ],
 "metadata": {
  "kernelspec": {
   "display_name": "base",
   "language": "python",
   "name": "python3"
  },
  "language_info": {
   "codemirror_mode": {
    "name": "ipython",
    "version": 3
   },
   "file_extension": ".py",
   "mimetype": "text/x-python",
   "name": "python",
   "nbconvert_exporter": "python",
   "pygments_lexer": "ipython3",
   "version": "3.10.4"
  },
  "orig_nbformat": 4,
  "vscode": {
   "interpreter": {
    "hash": "c5e7ae27de7e676b977196ac8e997f52ed2b06660c7c04fca6a938abe3eb249e"
   }
  }
 },
 "nbformat": 4,
 "nbformat_minor": 2
}
