{
 "cells": [
  {
   "cell_type": "markdown",
   "id": "0c857956",
   "metadata": {},
   "source": [
    "## 문제>\n",
    "    항승이는 품질이 심각하게 나쁜 수도 파이프 회사의 수리공이다. 항승이는 세준 지하철 공사에서 물이 샌다는 소식을 듣고 수리를 하러 갔다.\n",
    "\n",
    "    파이프에서 물이 새는 곳은 신기하게도 가장 왼쪽에서 정수만큼 떨어진 거리만 물이 샌다.\n",
    "\n",
    "    항승이는 길이가 L인 테이프를 무한개 가지고 있다.\n",
    "\n",
    "    항승이는 테이프를 이용해서 물을 막으려고 한다. 항승이는 항상 물을 막을 때, 적어도 그 위치의 좌우 0.5만큼 간격을 줘야 물이 다시는 안 샌다고 생각한다.\n",
    "    \n",
    "    물이 새는 곳의 위치와, 항승이가 가지고 있는 테이프의 길이 L이 주어졌을 때, 항승이가 필요한 테이프의 최소 개수를 구하는 프로그램을 작성하시오. 테이프를 자를 수 없고, 테이프를 겹쳐서 붙이는 것도 가능하다.\n",
    "\n",
    "## 입력>\n",
    "    첫째 줄에 물이 새는 곳의 개수 N과 테이프의 길이 L이 주어진다. 둘째 줄에는 물이 새는 곳의 위치가 주어진다. N과 L은 1,000보다 작거나 같은 자연수이고, 물이 새는 곳의 위치는 1,000보다 작거나 같은 자연수이다.\n",
    "\n",
    "## 출력>\n",
    "    첫째 줄에 항승이가 필요한 테이프의 개수를 출력한다.\n",
    "    \n",
    "    https://www.acmicpc.net/problem/1449"
   ]
  },
  {
   "cell_type": "markdown",
   "id": "8d856cf1",
   "metadata": {},
   "source": [
    "## 예제1(입력/출력)\n",
    "    4 2\n",
    "    1 2 100 101\n",
    "    / 2\n",
    "## 예제2(입력/출력)\n",
    "    4 3\n",
    "    1 2 3 4\n",
    "    / 2\n",
    "## 예제3(입력/출력)\n",
    "    3 1\n",
    "    3 2 1\n",
    "    / 3"
   ]
  },
  {
   "cell_type": "code",
   "execution_count": 12,
   "id": "3e30e02d",
   "metadata": {},
   "outputs": [
    {
     "name": "stdout",
     "output_type": "stream",
     "text": [
      "4 2\n",
      "1 2 100 101\n",
      "2\n"
     ]
    }
   ],
   "source": [
    "from collections import deque\n",
    "\n",
    "n, l = map(int,input().split())\n",
    "\n",
    "crack = list(map(int,input().split()))\n",
    "crack.sort()\n",
    "\n",
    "queue = deque(crack)\n",
    "result = 1\n",
    "while queue:\n",
    "    x = queue.popleft()\n",
    "    l_remain = l\n",
    "    while queue:\n",
    "        y = queue.popleft()\n",
    "        if y-x < l_remain:\n",
    "            continue\n",
    "        else:\n",
    "            queue.appendleft(y)\n",
    "            result += 1\n",
    "            break\n",
    "\n",
    "print(result)"
   ]
  },
  {
   "cell_type": "code",
   "execution_count": 13,
   "id": "c5f52ff1",
   "metadata": {},
   "outputs": [
    {
     "name": "stdout",
     "output_type": "stream",
     "text": [
      "4 3\n",
      "1 2 3 4\n",
      "2\n"
     ]
    }
   ],
   "source": [
    "from collections import deque\n",
    "\n",
    "n, l = map(int,input().split())\n",
    "\n",
    "crack = list(map(int,input().split()))\n",
    "crack.sort()\n",
    "\n",
    "queue = deque(crack)\n",
    "result = 1\n",
    "while queue:\n",
    "    x = queue.popleft()\n",
    "    l_remain = l\n",
    "    while queue:\n",
    "        y = queue.popleft()\n",
    "        if y-x < l_remain:\n",
    "            continue\n",
    "        else:\n",
    "            queue.appendleft(y)\n",
    "            result += 1\n",
    "            break\n",
    "\n",
    "print(result)"
   ]
  },
  {
   "cell_type": "code",
   "execution_count": 14,
   "id": "47dec120",
   "metadata": {},
   "outputs": [
    {
     "name": "stdout",
     "output_type": "stream",
     "text": [
      "3 1\n",
      "3 2 1\n",
      "3\n"
     ]
    }
   ],
   "source": [
    "from collections import deque\n",
    "\n",
    "n, l = map(int,input().split())\n",
    "\n",
    "crack = list(map(int,input().split()))\n",
    "crack.sort()\n",
    "\n",
    "queue = deque(crack)\n",
    "result = 1\n",
    "while queue:\n",
    "    x = queue.popleft()\n",
    "    l_remain = l\n",
    "    while queue:\n",
    "        y = queue.popleft()\n",
    "        if y-x < l_remain:\n",
    "            continue\n",
    "        else:\n",
    "            queue.appendleft(y)\n",
    "            result += 1\n",
    "            break\n",
    "\n",
    "print(result)"
   ]
  },
  {
   "cell_type": "code",
   "execution_count": null,
   "id": "357cc814",
   "metadata": {},
   "outputs": [],
   "source": []
  }
 ],
 "metadata": {
  "kernelspec": {
   "display_name": "Python 3 (ipykernel)",
   "language": "python",
   "name": "python3"
  },
  "language_info": {
   "codemirror_mode": {
    "name": "ipython",
    "version": 3
   },
   "file_extension": ".py",
   "mimetype": "text/x-python",
   "name": "python",
   "nbconvert_exporter": "python",
   "pygments_lexer": "ipython3",
   "version": "3.9.13"
  }
 },
 "nbformat": 4,
 "nbformat_minor": 5
}
