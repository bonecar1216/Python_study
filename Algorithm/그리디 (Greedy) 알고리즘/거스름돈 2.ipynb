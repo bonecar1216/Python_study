{
 "cells": [
  {
   "attachments": {},
   "cell_type": "markdown",
   "metadata": {},
   "source": [
    "## 문제\n",
    "    춘향이는 편의점 카운터에서 일한다.\n",
    "\n",
    "    손님이 2원짜리와 5원짜리로만 거스름돈을 달라고 한다. 2원짜리 동전과 5원짜리 동전은 무한정 많이 가지고 있다. 동전의 개수가 최소가 되도록 거슬러 주어야 한다. 거스름돈이 n인 경우, 최소 동전의 개수가 몇 개인지 알려주는 프로그램을 작성하시오.\n",
    "\n",
    "    예를 들어, 거스름돈이 15원이면 5원짜리 3개를, 거스름돈이 14원이면 5원짜리 2개와 2원짜리 2개로 총 4개를, 거스름돈이 13원이면 5원짜리 1개와 2원짜리 4개로 총 5개를 주어야 동전의 개수가 최소가 된다.\n",
    "\n",
    "## 입력\n",
    "    첫째 줄에 거스름돈 액수 n(1 ≤ n ≤ 100,000)이 주어진다.\n",
    "\n",
    "## 출력\n",
    "    거스름돈 동전의 최소 개수를 출력한다. 만약 거슬러 줄 수 없으면 -1을 출력한다.\n",
    "\n",
    "    https://www.acmicpc.net/problem/14916"
   ]
  },
  {
   "attachments": {},
   "cell_type": "markdown",
   "metadata": {},
   "source": [
    "## 예제 1(입력/출력)\n",
    "    13/5\n",
    "## 예제 2(입력/출력)\n",
    "    14/4"
   ]
  },
  {
   "cell_type": "code",
   "execution_count": 3,
   "metadata": {},
   "outputs": [
    {
     "name": "stdout",
     "output_type": "stream",
     "text": [
      "5\n"
     ]
    }
   ],
   "source": [
    "n = int(input())\n",
    "\n",
    "cnt = 0\n",
    "# 거슬러 줄 수 없는 경우\n",
    "if n == 1 or n == 3:\n",
    "    cnt = -1\n",
    "else:\n",
    "    # 거스름돈을 5로 나누었을 때, \n",
    "    # 나머지 값이 짝수인 경우에는 나머지를 2로 나눈 몫이 2원 동전의 수\n",
    "    # 나머지 값이 홀수인 경우에는 나머지 + 5 (짝수)값을 2로 나눈 몫이 2원 동전의 수\n",
    "    \n",
    "    # 거스름돈을 5로 나눈 나머지 값이 짝수 인지 홀수 인지 판별\n",
    "    if (n%5)%2 == 0: # 나머지 값이 짝수인 경우\n",
    "        cnt += n//5  # 5원짜리 동전의 수\n",
    "        cnt += (n%5)//2  # 2원짜리 동전의 수\n",
    "    else: # 나머지 값이 홀수인 경우\n",
    "        cnt += (n//5)-1\n",
    "        cnt += ((n%5)+5)//2\n",
    "\n",
    "print(cnt)"
   ]
  },
  {
   "cell_type": "code",
   "execution_count": 4,
   "metadata": {},
   "outputs": [
    {
     "name": "stdout",
     "output_type": "stream",
     "text": [
      "4\n"
     ]
    }
   ],
   "source": [
    "n = int(input())\n",
    "\n",
    "cnt = 0\n",
    "# 거슬러 줄 수 없는 경우\n",
    "if n == 1 or n == 3:\n",
    "    cnt = -1\n",
    "else:\n",
    "    # 거스름돈을 5로 나누었을 때, \n",
    "    # 나머지 값이 짝수인 경우에는 나머지를 2로 나눈 몫이 2원 동전의 수\n",
    "    # 나머지 값이 홀수인 경우에는 나머지 + 5 (짝수)값을 2로 나눈 몫이 2원 동전의 수\n",
    "    \n",
    "    # 거스름돈을 5로 나눈 나머지 값이 짝수 인지 홀수 인지 판별\n",
    "    if (n%5)%2 == 0: # 나머지 값이 짝수인 경우\n",
    "        cnt += n//5  # 5원짜리 동전의 수\n",
    "        cnt += (n%5)//2  # 2원짜리 동전의 수\n",
    "    else: # 나머지 값이 홀수인 경우\n",
    "        cnt += (n//5)-1\n",
    "        cnt += ((n%5)+5)//2\n",
    "\n",
    "print(cnt)"
   ]
  }
 ],
 "metadata": {
  "kernelspec": {
   "display_name": "base",
   "language": "python",
   "name": "python3"
  },
  "language_info": {
   "codemirror_mode": {
    "name": "ipython",
    "version": 3
   },
   "file_extension": ".py",
   "mimetype": "text/x-python",
   "name": "python",
   "nbconvert_exporter": "python",
   "pygments_lexer": "ipython3",
   "version": "3.10.4"
  },
  "orig_nbformat": 4,
  "vscode": {
   "interpreter": {
    "hash": "c5e7ae27de7e676b977196ac8e997f52ed2b06660c7c04fca6a938abe3eb249e"
   }
  }
 },
 "nbformat": 4,
 "nbformat_minor": 2
}
