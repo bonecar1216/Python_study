{
 "cells": [
  {
   "attachments": {},
   "cell_type": "markdown",
   "metadata": {},
   "source": [
    "## 문제\n",
    "    한 개의 회의실이 있는데 이를 사용하고자 하는 N개의 회의에 대하여 회의실 사용표를 만들려고 한다. 각 회의 I에 대해 시작시간과 끝나는 시간이 주어져 있고, 각 회의가 겹치지 않게 하면서 회의실을 사용할 수 있는 회의의 최대 개수를 찾아보자. 단, 회의는 한번 시작하면 중간에 중단될 수 없으며 한 회의가 끝나는 것과 동시에 다음 회의가 시작될 수 있다. 회의의 시작시간과 끝나는 시간이 같을 수도 있다. 이 경우에는 시작하자마자 끝나는 것으로 생각하면 된다.\n",
    "\n",
    "## 입력\n",
    "    첫째 줄에 회의의 수 N(1 ≤ N ≤ 100,000)이 주어진다. 둘째 줄부터 N+1 줄까지 각 회의의 정보가 주어지는데 이것은 공백을 사이에 두고 회의의 시작시간과 끝나는 시간이 주어진다. 시작 시간과 끝나는 시간은 231-1보다 작거나 같은 자연수 또는 0이다.\n",
    "\n",
    "## 출력 \n",
    "    첫째 줄에 최대 사용할 수 있는 회의의 최대 개수를 출력한다.\n",
    "\n",
    "    https://www.acmicpc.net/problem/1931"
   ]
  },
  {
   "attachments": {},
   "cell_type": "markdown",
   "metadata": {},
   "source": [
    "## 예제 (입력/출력)\n",
    "    11\n",
    "    1 4\n",
    "    3 5\n",
    "    0 6\n",
    "    5 7\n",
    "    3 8\n",
    "    5 9\n",
    "    6 10\n",
    "    8 11\n",
    "    8 12\n",
    "    2 13\n",
    "    12 14\n",
    "    / 4"
   ]
  },
  {
   "cell_type": "code",
   "execution_count": 5,
   "metadata": {},
   "outputs": [
    {
     "name": "stdout",
     "output_type": "stream",
     "text": [
      "[[1, 4], [3, 5], [0, 6], [5, 7], [3, 8], [5, 9], [6, 10], [8, 11], [8, 12], [2, 13], [12, 14]]\n",
      "1 4 0\n",
      "5 7 4\n",
      "8 11 7\n",
      "12 14 11\n",
      "4\n"
     ]
    }
   ],
   "source": [
    "n = int(input())\n",
    "time = []\n",
    "\n",
    "for _ in range(n):\n",
    "    start, end = map(int,input().split())\n",
    "    time.append([start, end])\n",
    "    \n",
    "time = sorted(time, key = lambda a: a[0])\n",
    "time = sorted(time, key = lambda a: a[1])\n",
    "\n",
    "print(time)\n",
    "\n",
    "last = 0\n",
    "cnt = 0\n",
    "\n",
    "for start, end in time:\n",
    "    if last <= start:\n",
    "        print(start, end, last)\n",
    "        last = end\n",
    "        cnt += 1\n",
    "print(cnt)"
   ]
  },
  {
   "attachments": {},
   "cell_type": "markdown",
   "metadata": {},
   "source": [
    "    * 한 개의 회의실에서 가장 많은 회의를 하기 위해서는 빠르게 회의가 시작되고, 빠르게 종료되면 됨.\n",
    "      따라서 시작 시간을 오름차순으로 정렬한 후, 끝나는 시간을 오름차순으로 정렬해서 확인.\n",
    "    * 처음 회의 시간에서의 끝나는 시간과 다른 회의의 시작 시간을 비교하면서 답을 찾으면 됨."
   ]
  }
 ],
 "metadata": {
  "kernelspec": {
   "display_name": "base",
   "language": "python",
   "name": "python3"
  },
  "language_info": {
   "codemirror_mode": {
    "name": "ipython",
    "version": 3
   },
   "file_extension": ".py",
   "mimetype": "text/x-python",
   "name": "python",
   "nbconvert_exporter": "python",
   "pygments_lexer": "ipython3",
   "version": "3.10.4"
  },
  "orig_nbformat": 4,
  "vscode": {
   "interpreter": {
    "hash": "c5e7ae27de7e676b977196ac8e997f52ed2b06660c7c04fca6a938abe3eb249e"
   }
  }
 },
 "nbformat": 4,
 "nbformat_minor": 2
}
