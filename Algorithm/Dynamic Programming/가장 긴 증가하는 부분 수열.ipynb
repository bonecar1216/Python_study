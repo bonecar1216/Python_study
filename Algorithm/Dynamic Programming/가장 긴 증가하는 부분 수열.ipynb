{
 "cells": [
  {
   "cell_type": "markdown",
   "id": "e6d22209",
   "metadata": {},
   "source": [
    "## 문제>\n",
    "    수열 A가 주어졌을 때, 가장 긴 증가하는 부분 수열을 구하는 프로그램을 작성하시오.\n",
    "\n",
    "    예를 들어, 수열 A = {10, 20, 10, 30, 20, 50} 인 경우에 가장 긴 증가하는 부분 수열은 A = {10, 20, 10, 30, 20, 50} 이고, 길이는 4이다.\n",
    "\n",
    "## 입력>\n",
    "    첫째 줄에 수열 A의 크기 N (1 ≤ N ≤ 1,000)이 주어진다.\n",
    "\n",
    "    둘째 줄에는 수열 A를 이루고 있는 Ai가 주어진다. (1 ≤ Ai ≤ 1,000)\n",
    "\n",
    "## 출력>\n",
    "    첫째 줄에 수열 A의 가장 긴 증가하는 부분 수열의 길이를 출력한다.\n",
    "    \n",
    "    https://www.acmicpc.net/problem/11053"
   ]
  },
  {
   "cell_type": "markdown",
   "id": "7ce89a91",
   "metadata": {},
   "source": [
    "## 예제\n",
    "### 입력\n",
    "    6\n",
    "    10 20 10 30 20 50\n",
    "### 출력\n",
    "    4"
   ]
  },
  {
   "cell_type": "code",
   "execution_count": 14,
   "id": "faa4e904",
   "metadata": {},
   "outputs": [
    {
     "name": "stdout",
     "output_type": "stream",
     "text": [
      "6\n",
      "10 20 10 30 20 50\n",
      "4\n"
     ]
    }
   ],
   "source": [
    "N = int(input())\n",
    "A = list(map(int,input().split()))\n",
    "\n",
    "longest_len = 1\n",
    "while len(A) > 1:\n",
    "    series_len = 1\n",
    "    idx = [0]\n",
    "    front_num = A[0]\n",
    "    for i in range(1,len(A)):\n",
    "        if front_num < A[i]:\n",
    "            series_len += 1\n",
    "            idx.append(i)\n",
    "            front_num = A[i]\n",
    "    longest_len = max(series_len, longest_len)\n",
    "    new_A = []\n",
    "    for j in range(len(A)):\n",
    "        if j in idx:\n",
    "            continue\n",
    "        else:\n",
    "            new_A.append(A[j])\n",
    "    A = new_A\n",
    "\n",
    "print(longest_len)"
   ]
  }
 ],
 "metadata": {
  "kernelspec": {
   "display_name": "Python 3 (ipykernel)",
   "language": "python",
   "name": "python3"
  },
  "language_info": {
   "codemirror_mode": {
    "name": "ipython",
    "version": 3
   },
   "file_extension": ".py",
   "mimetype": "text/x-python",
   "name": "python",
   "nbconvert_exporter": "python",
   "pygments_lexer": "ipython3",
   "version": "3.9.13"
  }
 },
 "nbformat": 4,
 "nbformat_minor": 5
}
