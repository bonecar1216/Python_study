{
 "cells": [
  {
   "attachments": {},
   "cell_type": "markdown",
   "metadata": {},
   "source": [
    "## 문제\n",
    "    숫자 카드는 정수 하나가 적혀져 있는 카드이다. 상근이는 숫자 카드 N개를 가지고 있다. 정수 M개가 주어졌을 때, 이 수가 적혀있는 숫자 카드를 상근이가 몇 개 가지고 있는지 구하는 프로그램을 작성하시오.\n",
    "\n",
    "## 입력\n",
    "    첫째 줄에 상근이가 가지고 있는 숫자 카드의 개수 N(1 ≤ N ≤ 500,000)이 주어진다. 둘째 줄에는 숫자 카드에 적혀있는 정수가 주어진다. 숫자 카드에 적혀있는 수는 -10,000,000보다 크거나 같고, 10,000,000보다 작거나 같다.\n",
    "\n",
    "    셋째 줄에는 M(1 ≤ M ≤ 500,000)이 주어진다. 넷째 줄에는 상근이가 몇 개 가지고 있는 숫자 카드인지 구해야 할 M개의 정수가 주어지며, 이 수는 공백으로 구분되어져 있다. 이 수도 -10,000,000보다 크거나 같고, 10,000,000보다 작거나 같다.\n",
    "\n",
    "## 출력\n",
    "    첫째 줄에 입력으로 주어진 M개의 수에 대해서, 각 수가 적힌 숫자 카드를 상근이가 몇 개 가지고 있는지를 공백으로 구분해 출력한다.\n",
    "\n",
    "    https://www.acmicpc.net/problem/10816"
   ]
  },
  {
   "attachments": {},
   "cell_type": "markdown",
   "metadata": {},
   "source": [
    "## 예제 (입력/출력)\n",
    "    10\n",
    "    6 3 2 10 10 10 -10 -10 7 3\n",
    "    8\n",
    "    10 9 -5 2 3 4 5 -10\n",
    "    /\n",
    "    3 0 0 1 2 0 0 2"
   ]
  },
  {
   "cell_type": "code",
   "execution_count": 7,
   "metadata": {},
   "outputs": [
    {
     "name": "stdout",
     "output_type": "stream",
     "text": [
      "3 0 0 1 2 0 0 2"
     ]
    }
   ],
   "source": [
    "n = int(input())\n",
    "card_list = list(map(int,input().split()))\n",
    "card_dict = {}\n",
    "for card in card_list:\n",
    "    if card not in card_dict.keys():\n",
    "        card_dict[card] = 1\n",
    "    else:\n",
    "        card_dict[card] += 1\n",
    "\n",
    "m = int(input())\n",
    "cards = list(map(int,input().split()))\n",
    "ans = {}\n",
    "for i,c in enumerate(cards):\n",
    "    if c in card_dict.keys():\n",
    "        print(card_dict[c],end='')\n",
    "    else:\n",
    "        print(0,end='')\n",
    "    if i == len(cards)-1:\n",
    "        continue\n",
    "    else:\n",
    "        print(' ',end='')"
   ]
  }
 ],
 "metadata": {
  "kernelspec": {
   "display_name": "base",
   "language": "python",
   "name": "python3"
  },
  "language_info": {
   "codemirror_mode": {
    "name": "ipython",
    "version": 3
   },
   "file_extension": ".py",
   "mimetype": "text/x-python",
   "name": "python",
   "nbconvert_exporter": "python",
   "pygments_lexer": "ipython3",
   "version": "3.10.4"
  },
  "orig_nbformat": 4
 },
 "nbformat": 4,
 "nbformat_minor": 2
}
