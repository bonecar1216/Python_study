{
 "cells": [
  {
   "attachments": {},
   "cell_type": "markdown",
   "metadata": {},
   "source": [
    "## 문제\n",
    "    정수 A, B 가 주어진다. 세로 길이가 A cm, 가로 길이가 B cm 인 아래와 같은 직사각형의 넓이를 cm2 단위로 구하시오.\n",
    "\n",
    "## 입력\n",
    "표준 입력에 다음과 같은 형태로 입력이 주어진다.\n",
    "A\n",
    "B\n",
    "\n",
    "## 출력\n",
    "    세로 길이가 A cm, 가로 길이가 B cm인 직사각형의 넓이를 cm2 단위로 구하고, 단위 (cm2)를 생략하여 출력한다.\n",
    "\n",
    "## 제한\n",
    "    1 ≦ A ≦ 100.\n",
    "    1 ≦ B ≦ 100.\n",
    "    A, B 는 정수이다.\n",
    "\n",
    "    https://www.acmicpc.net/problem/27323"
   ]
  },
  {
   "attachments": {},
   "cell_type": "markdown",
   "metadata": {},
   "source": [
    "## 예제 1(입력/출력)\n",
    "    2\n",
    "    3\n",
    "    / 6 \n",
    "## 예제 2(입력/출력)\n",
    "    100\n",
    "    1\n",
    "    / 100\n",
    "## 예제 3(입력/출력)\n",
    "    4\n",
    "    4\n",
    "    /16"
   ]
  },
  {
   "cell_type": "code",
   "execution_count": 1,
   "metadata": {},
   "outputs": [
    {
     "name": "stdout",
     "output_type": "stream",
     "text": [
      "6\n"
     ]
    }
   ],
   "source": [
    "a = int(input())\n",
    "b = int(input())\n",
    "print(a*b)"
   ]
  }
 ],
 "metadata": {
  "kernelspec": {
   "display_name": "base",
   "language": "python",
   "name": "python3"
  },
  "language_info": {
   "codemirror_mode": {
    "name": "ipython",
    "version": 3
   },
   "file_extension": ".py",
   "mimetype": "text/x-python",
   "name": "python",
   "nbconvert_exporter": "python",
   "pygments_lexer": "ipython3",
   "version": "3.10.4"
  },
  "orig_nbformat": 4
 },
 "nbformat": 4,
 "nbformat_minor": 2
}
