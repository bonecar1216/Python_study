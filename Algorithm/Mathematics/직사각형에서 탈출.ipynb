{
 "cells": [
  {
   "cell_type": "markdown",
   "id": "59646ac4",
   "metadata": {},
   "source": [
    "## 문제>\n",
    "    한수는 지금 (x, y)에 있다. 직사각형은 각 변이 좌표축에 평행하고, 왼쪽 아래 꼭짓점은 (0, 0), 오른쪽 위 꼭짓점은 (w, h)에 있다. 직사각형의 경계선까지 가는 거리의 최솟값을 구하는 프로그램을 작성하시오.\n",
    "\n",
    "## 입력>\n",
    "    첫째 줄에 x, y, w, h가 주어진다.\n",
    "\n",
    "## 출력>\n",
    "    첫째 줄에 문제의 정답을 출력한다.\n",
    "\n",
    "    제한\n",
    "    1 ≤ w, h ≤ 1,000\n",
    "    1 ≤ x ≤ w-1\n",
    "    1 ≤ y ≤ h-1\n",
    "    x, y, w, h는 정수\n",
    "    \n",
    "    https://www.acmicpc.net/problem/1085"
   ]
  },
  {
   "cell_type": "markdown",
   "id": "6a17110c",
   "metadata": {},
   "source": [
    "## 예제 1(입력/출력)\n",
    "6 2 10 3   /   1\n",
    "## 예제 2(입력/출력)\n",
    "1 1 5 5   /   1\n",
    "## 예제 3(입력/출력)\n",
    "653 375 1000 1000   /   347\n",
    "## 예제 4(입력/출력)\n",
    "161 181 762 375   /   161"
   ]
  },
  {
   "cell_type": "code",
   "execution_count": 1,
   "id": "7a39e0fe",
   "metadata": {},
   "outputs": [
    {
     "name": "stdout",
     "output_type": "stream",
     "text": [
      "6 2 10 3\n",
      "1\n"
     ]
    }
   ],
   "source": [
    "x, y, w, h = map(int,input().split())\n",
    "\n",
    "# x: x축까지의 거리\n",
    "# w-x: x축과 평행한 다른 변까지의 거리 \n",
    "# y: y축까지의 거리\n",
    "# y-h: y축과 평행한 다른 변까지의 거리 \n",
    "print(min(x,(w-x),y,(h-y)))"
   ]
  },
  {
   "cell_type": "code",
   "execution_count": 2,
   "id": "13303be2",
   "metadata": {},
   "outputs": [
    {
     "name": "stdout",
     "output_type": "stream",
     "text": [
      "1 1 5 5\n",
      "1\n"
     ]
    }
   ],
   "source": [
    "x, y, w, h = map(int,input().split())\n",
    "\n",
    "print(min(x,(w-x),y,(h-y)))"
   ]
  },
  {
   "cell_type": "code",
   "execution_count": 3,
   "id": "d48795b8",
   "metadata": {},
   "outputs": [
    {
     "name": "stdout",
     "output_type": "stream",
     "text": [
      "653 375 1000 1000\n",
      "347\n"
     ]
    }
   ],
   "source": [
    "x, y, w, h = map(int,input().split())\n",
    "\n",
    "print(min(x,(w-x),y,(h-y)))"
   ]
  },
  {
   "cell_type": "code",
   "execution_count": 4,
   "id": "548b24a0",
   "metadata": {},
   "outputs": [
    {
     "name": "stdout",
     "output_type": "stream",
     "text": [
      "161 181 762 375\n",
      "161\n"
     ]
    }
   ],
   "source": [
    "x, y, w, h = map(int,input().split())\n",
    "\n",
    "print(min(x,(w-x),y,(h-y)))"
   ]
  }
 ],
 "metadata": {
  "kernelspec": {
   "display_name": "Python 3 (ipykernel)",
   "language": "python",
   "name": "python3"
  },
  "language_info": {
   "codemirror_mode": {
    "name": "ipython",
    "version": 3
   },
   "file_extension": ".py",
   "mimetype": "text/x-python",
   "name": "python",
   "nbconvert_exporter": "python",
   "pygments_lexer": "ipython3",
   "version": "3.9.13"
  }
 },
 "nbformat": 4,
 "nbformat_minor": 5
}
