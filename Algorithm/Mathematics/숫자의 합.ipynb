{
 "cells": [
  {
   "cell_type": "markdown",
   "id": "e1598d0c",
   "metadata": {},
   "source": [
    "## 문제>\n",
    "    N개의 숫자가 공백 없이 쓰여있다. 이 숫자를 모두 합해서 출력하는 프로그램을 작성하시오.\n",
    "\n",
    "## 입력>\n",
    "    첫째 줄에 숫자의 개수 N (1 ≤ N ≤ 100)이 주어진다. 둘째 줄에 숫자 N개가 공백없이 주어진다.\n",
    "\n",
    "## 출력>\n",
    "    입력으로 주어진 숫자 N개의 합을 출력한다."
   ]
  },
  {
   "cell_type": "markdown",
   "id": "62e4dedc",
   "metadata": {},
   "source": [
    "## 예제1 (입력/출력)\n",
    "    1\n",
    "    1\n",
    "    / 1\n",
    "## 예제2 (입력/출력)\n",
    "    5\n",
    "    54321\n",
    "    / 15\n",
    "## 예제3 (입력/출력)\n",
    "    25\n",
    "    7000000000000000000000000\n",
    "    / 7\n",
    "## 예제4 (입력/출력)\n",
    "    11\n",
    "    10987654321\n",
    "    / 46"
   ]
  },
  {
   "cell_type": "code",
   "execution_count": 5,
   "id": "cd4c70b5",
   "metadata": {},
   "outputs": [
    {
     "name": "stdout",
     "output_type": "stream",
     "text": [
      "1\n",
      "1\n",
      "1\n"
     ]
    }
   ],
   "source": [
    "N = int(input())\n",
    "num = input()\n",
    "\n",
    "ans = 0\n",
    "for i in range(N):\n",
    "    ans += int(num[i])\n",
    "print(ans)"
   ]
  },
  {
   "cell_type": "code",
   "execution_count": 6,
   "id": "69ec306a",
   "metadata": {},
   "outputs": [
    {
     "name": "stdout",
     "output_type": "stream",
     "text": [
      "5\n",
      "54321\n",
      "15\n"
     ]
    }
   ],
   "source": [
    "N = int(input())\n",
    "num = input()\n",
    "\n",
    "ans = 0\n",
    "for i in range(N):\n",
    "    ans += int(num[i])\n",
    "print(ans)"
   ]
  },
  {
   "cell_type": "code",
   "execution_count": 7,
   "id": "3bb0d6a5",
   "metadata": {},
   "outputs": [
    {
     "name": "stdout",
     "output_type": "stream",
     "text": [
      "25\n",
      "7000000000000000000000000\n",
      "7\n"
     ]
    }
   ],
   "source": [
    "N = int(input())\n",
    "num = input()\n",
    "\n",
    "ans = 0\n",
    "for i in range(N):\n",
    "    ans += int(num[i])\n",
    "print(ans)"
   ]
  },
  {
   "cell_type": "code",
   "execution_count": 8,
   "id": "a4d5a179",
   "metadata": {},
   "outputs": [
    {
     "name": "stdout",
     "output_type": "stream",
     "text": [
      "11\n",
      "10987654321\n",
      "46\n"
     ]
    }
   ],
   "source": [
    "N = int(input())\n",
    "num = input()\n",
    "\n",
    "ans = 0\n",
    "for i in range(N):\n",
    "    ans += int(num[i])\n",
    "print(ans)"
   ]
  }
 ],
 "metadata": {
  "kernelspec": {
   "display_name": "Python 3 (ipykernel)",
   "language": "python",
   "name": "python3"
  },
  "language_info": {
   "codemirror_mode": {
    "name": "ipython",
    "version": 3
   },
   "file_extension": ".py",
   "mimetype": "text/x-python",
   "name": "python",
   "nbconvert_exporter": "python",
   "pygments_lexer": "ipython3",
   "version": "3.9.13"
  }
 },
 "nbformat": 4,
 "nbformat_minor": 5
}
