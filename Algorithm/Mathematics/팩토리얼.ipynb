{
 "cells": [
  {
   "cell_type": "markdown",
   "id": "c1be9ef3",
   "metadata": {},
   "source": [
    "## 문제>\n",
    "    0보다 크거나 같은 정수 N이 주어진다. 이때, N!을 출력하는 프로그램을 작성하시오.\n",
    "\n",
    "## 입력>\n",
    "    첫째 줄에 정수 N(0 ≤ N ≤ 12)이 주어진다.\n",
    "\n",
    "## 출력>\n",
    "    첫째 줄에 N!을 출력한다."
   ]
  },
  {
   "cell_type": "markdown",
   "id": "c6495a25",
   "metadata": {},
   "source": [
    "## 예제1 (입력/출력)\n",
    "10  / 3628800\n",
    "## 예제2 (입력/출력)\n",
    "0  /  1"
   ]
  },
  {
   "cell_type": "code",
   "execution_count": 2,
   "id": "d161400e",
   "metadata": {},
   "outputs": [
    {
     "name": "stdout",
     "output_type": "stream",
     "text": [
      "10\n",
      "3628800\n"
     ]
    }
   ],
   "source": [
    "N = int(input())\n",
    "\n",
    "def factorial(N):\n",
    "    ans = 1\n",
    "    \n",
    "    # 0!일 경우, 1을 return\n",
    "    if N == 0:\n",
    "        return ans\n",
    "    \n",
    "    # 0이 아닌 경우의 값을 계산\n",
    "    else:\n",
    "        for i in range(1,N+1):\n",
    "            ans *= i\n",
    "    \n",
    "    return ans\n",
    "\n",
    "print(factorial(N))"
   ]
  },
  {
   "cell_type": "code",
   "execution_count": 3,
   "id": "edf16b0c",
   "metadata": {},
   "outputs": [
    {
     "name": "stdout",
     "output_type": "stream",
     "text": [
      "0\n",
      "1\n"
     ]
    }
   ],
   "source": [
    "N = int(input())\n",
    "\n",
    "print(factorial(N))"
   ]
  }
 ],
 "metadata": {
  "kernelspec": {
   "display_name": "Python 3 (ipykernel)",
   "language": "python",
   "name": "python3"
  },
  "language_info": {
   "codemirror_mode": {
    "name": "ipython",
    "version": 3
   },
   "file_extension": ".py",
   "mimetype": "text/x-python",
   "name": "python",
   "nbconvert_exporter": "python",
   "pygments_lexer": "ipython3",
   "version": "3.9.13"
  }
 },
 "nbformat": 4,
 "nbformat_minor": 5
}
