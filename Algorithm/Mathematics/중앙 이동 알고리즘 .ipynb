{
 "cells": [
  {
   "attachments": {},
   "cell_type": "markdown",
   "metadata": {},
   "source": [
    "## 문제\n",
    "    상근이는 친구들과 함께 SF영화를 찍으려고 한다. 이 영화는 외계 지형이 필요하다. 실제로 우주선을 타고 외계 행성에 가서 촬영을 할 수 없기 때문에, 컴퓨터 그래픽으로 CG처리를 하려고 한다.\n",
    "\n",
    "    외계 지형은 중앙 이동 알고리즘을 이용해서 만들려고 한다.\n",
    "\n",
    "    알고리즘을 시작하면서 상근이는 정사각형을 이루는 점 4개를 고른다. 그 후에는 다음과 같은 과정을 거쳐서 지형을 만든다.\n",
    "\n",
    "    정사각형의 각 변의 중앙에 점을 하나 추가한다.\n",
    "    정사각형의 중심에 점을 하나 추가한다.\n",
    "    초기 상태에서 위와 같은 과정을 한 번 거치면 총 4개의 정사각형이 새로 생긴다. 이와 같은 과정을 상근이가 만족할 때 까지 계속한다.\n",
    "\n",
    "    아래 그림은 과정을 총 2번 거쳤을 때까지의 모습이다.\n",
    "\n",
    "            \n",
    "    초기 상태 - 점 4개\t1번 - 점 9개\t2번 - 25개\n",
    "    상근이는 어떤 점은 한 개 보다 많은 정사각형에 포함될 수 있다는 사실을 알았다. 메모리 소모량을 줄이기 위해서 중복하는 점을 한 번만 저장하려고 한다. 과정을 N번 거친 후 점 몇 개를 저장해야 하는지 구하는 프로그램을 작성하시오.\n",
    "\n",
    "## 입력\n",
    "    첫째 줄에 N이 주어진다. (1 ≤ N ≤ 15)\n",
    "\n",
    "## 출력\n",
    "    첫째 줄에 과정을 N번 거친 후 점의 수를 출력한다.\n",
    "\n",
    "    https://www.acmicpc.net/problem/2903"
   ]
  },
  {
   "attachments": {},
   "cell_type": "markdown",
   "metadata": {},
   "source": [
    "## 예제 1(입력/출력)\n",
    "    1 / 9\n",
    "## 예제 2(입력/출력)\n",
    "    2 / 25\n",
    "## 예제 3(입력/출력)\n",
    "    5 / 1089"
   ]
  },
  {
   "cell_type": "code",
   "execution_count": 1,
   "metadata": {},
   "outputs": [],
   "source": [
    "# 한 번씩 각 변의 중앙에 점을 하나씩 추가할 때마다, \n",
    "# 변은 2**n개의 구역으로 나누어지며, 1+2**n개의 점이 생김.\n",
    "# 정사각형이므로 총 점의 수는 (1+2**n)**2개임.\n",
    "# n = 0 -> 1(2**0)개 구역 -> 2개의점/변 -> 총 4개의 점\n",
    "# n = 1 -> 2(2**1)개 구역 -> 3개의점/변 -> 총 9개의 점\n",
    "# n = 2 -> 4(2**2)개 구역 -> 5개의점/변 -> 총 25개의 점\n",
    "# n = 3 -> 8(2**3)개 구역 -> 9개의점/변 -> 총 81개의 점\n",
    "# n = 4 -> 16(2**4)개 구역 -> 17개의점/변 -> 총 289개의 점\n",
    "# n = 5 -> 32(2**5)개 구역 -> 33개의점/변 -> 총 1089개의 점"
   ]
  },
  {
   "cell_type": "code",
   "execution_count": 2,
   "metadata": {},
   "outputs": [
    {
     "name": "stdout",
     "output_type": "stream",
     "text": [
      "1089\n"
     ]
    }
   ],
   "source": [
    "n = int(input())\n",
    "\n",
    "# 변의 구역 수\n",
    "division_per_line = 2**n\n",
    "# 변의 점 갯수\n",
    "point_per_line = division_per_line + 1\n",
    "# 총 점 갯수\n",
    "total_point = point_per_line**2\n",
    "print(total_point)"
   ]
  }
 ],
 "metadata": {
  "kernelspec": {
   "display_name": "base",
   "language": "python",
   "name": "python3"
  },
  "language_info": {
   "codemirror_mode": {
    "name": "ipython",
    "version": 3
   },
   "file_extension": ".py",
   "mimetype": "text/x-python",
   "name": "python",
   "nbconvert_exporter": "python",
   "pygments_lexer": "ipython3",
   "version": "3.10.4"
  },
  "orig_nbformat": 4
 },
 "nbformat": 4,
 "nbformat_minor": 2
}
