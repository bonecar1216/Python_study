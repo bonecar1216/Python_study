{
 "cells": [
  {
   "attachments": {},
   "cell_type": "markdown",
   "metadata": {},
   "source": [
    "## 문제\n",
    "    10진법 수 N이 주어진다. 이 수를 B진법으로 바꿔 출력하는 프로그램을 작성하시오.\n",
    "\n",
    "    10진법을 넘어가는 진법은 숫자로 표시할 수 없는 자리가 있다. 이런 경우에는 다음과 같이 알파벳 대문자를 사용한다.\n",
    "\n",
    "    A: 10, B: 11, ..., F: 15, ..., Y: 34, Z: 35\n",
    "\n",
    "## 입력\n",
    "    첫째 줄에 N과 B가 주어진다. (2 ≤ B ≤ 36) N은 10억보다 작거나 같은 자연수이다.\n",
    "\n",
    "## 출력\n",
    "    첫째 줄에 10진법 수 N을 B진법으로 출력한다.\n",
    "\n",
    "    https://www.acmicpc.net/problem/11005"
   ]
  },
  {
   "attachments": {},
   "cell_type": "markdown",
   "metadata": {},
   "source": [
    "## 예제 (입력/출력)\n",
    "    60466175 36\n",
    "    / ZZZZZ"
   ]
  },
  {
   "cell_type": "code",
   "execution_count": 4,
   "metadata": {},
   "outputs": [
    {
     "name": "stdout",
     "output_type": "stream",
     "text": [
      "ZZZZZ\n"
     ]
    }
   ],
   "source": [
    "n, b = map(int,input().split())\n",
    "\n",
    "num = ''\n",
    "\n",
    "q = 1\n",
    "while q != 0:\n",
    "    q, r = divmod(n,b)\n",
    "    \n",
    "    if r < 10:\n",
    "        num += str(r)\n",
    "    else:\n",
    "        num += chr(r+55)\n",
    "    n = q\n",
    "\n",
    "print(num[::-1])"
   ]
  }
 ],
 "metadata": {
  "kernelspec": {
   "display_name": "base",
   "language": "python",
   "name": "python3"
  },
  "language_info": {
   "codemirror_mode": {
    "name": "ipython",
    "version": 3
   },
   "file_extension": ".py",
   "mimetype": "text/x-python",
   "name": "python",
   "nbconvert_exporter": "python",
   "pygments_lexer": "ipython3",
   "version": "3.10.4"
  },
  "orig_nbformat": 4
 },
 "nbformat": 4,
 "nbformat_minor": 2
}
