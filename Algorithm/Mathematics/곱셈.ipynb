{
 "cells": [
  {
   "cell_type": "markdown",
   "id": "4050d8e0",
   "metadata": {},
   "source": [
    "## 문제>\n",
    "    (세 자리 수) × (세 자리 수)는 다음과 같은 과정을 통하여 이루어진다.\n",
    "\n",
    "        https://www.acmicpc.net/problem/2588\n",
    "\n",
    "    (1)과 (2)위치에 들어갈 세 자리 자연수가 주어질 때 (3), (4), (5), (6)위치에 들어갈 값을 구하는 프로그램을 작성하시오.\n",
    "\n",
    "## 입력>\n",
    "    첫째 줄에 (1)의 위치에 들어갈 세 자리 자연수가, 둘째 줄에 (2)의 위치에 들어갈 세자리 자연수가 주어진다.\n",
    "\n",
    "## 출력>\n",
    "    첫째 줄부터 넷째 줄까지 차례대로 (3), (4), (5), (6)에 들어갈 값을 출력한다."
   ]
  },
  {
   "cell_type": "markdown",
   "id": "9216ecea",
   "metadata": {},
   "source": [
    "## 예제\n",
    "### 입력\n",
    "    472\n",
    "    385\n",
    "### 출력\n",
    "      2360\n",
    "     3776\n",
    "    1416\n",
    "    181720"
   ]
  },
  {
   "cell_type": "code",
   "execution_count": 4,
   "id": "de4fd8f5",
   "metadata": {},
   "outputs": [
    {
     "name": "stdout",
     "output_type": "stream",
     "text": [
      "472\n",
      "385\n",
      "2360\n",
      "3776\n",
      "1416\n",
      "181720\n"
     ]
    }
   ],
   "source": [
    "A = int(input())\n",
    "B = input()\n",
    "\n",
    "ans = 0\n",
    "for i, b in enumerate(B[::-1]):\n",
    "    n = A*int(b)\n",
    "    print(n)\n",
    "    ans += n *10**(i)\n",
    "print(ans)"
   ]
  }
 ],
 "metadata": {
  "kernelspec": {
   "display_name": "Python 3 (ipykernel)",
   "language": "python",
   "name": "python3"
  },
  "language_info": {
   "codemirror_mode": {
    "name": "ipython",
    "version": 3
   },
   "file_extension": ".py",
   "mimetype": "text/x-python",
   "name": "python",
   "nbconvert_exporter": "python",
   "pygments_lexer": "ipython3",
   "version": "3.9.13"
  }
 },
 "nbformat": 4,
 "nbformat_minor": 5
}
