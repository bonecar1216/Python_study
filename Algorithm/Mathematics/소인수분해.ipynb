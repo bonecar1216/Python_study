{
 "cells": [
  {
   "attachments": {},
   "cell_type": "markdown",
   "metadata": {},
   "source": [
    "## 문제\n",
    "    정수 N이 주어졌을 때, 소인수분해하는 프로그램을 작성하시오.\n",
    "\n",
    "## 입력\n",
    "    첫째 줄에 정수 N (1 ≤ N ≤ 10,000,000)이 주어진다.\n",
    "\n",
    "## 출력\n",
    "    N의 소인수분해 결과를 한 줄에 하나씩 오름차순으로 출력한다. N이 1인 경우 아무것도 출력하지 않는다.\n",
    "\n",
    "    https://www.acmicpc.net/problem/11653"
   ]
  },
  {
   "attachments": {},
   "cell_type": "markdown",
   "metadata": {},
   "source": [
    "## 예제 1(입력/출력)\n",
    "    72\n",
    "    /\n",
    "    2\n",
    "    2\n",
    "    2\n",
    "    3\n",
    "    3\n",
    "## 예제 2(입력/출력)\n",
    "    3\n",
    "    /\n",
    "    3\n",
    "## 예제 3(입력/출력)\n",
    "    6\n",
    "    /\n",
    "    2\n",
    "    3\n",
    "## 예제 4(입력/출력)\n",
    "    2\n",
    "    /\n",
    "    2\n",
    "## 예제 5(입력/출력)\n",
    "    9991\n",
    "    /\n",
    "    97\n",
    "    103"
   ]
  },
  {
   "cell_type": "code",
   "execution_count": 4,
   "metadata": {},
   "outputs": [
    {
     "name": "stdout",
     "output_type": "stream",
     "text": [
      "97\n",
      "103\n"
     ]
    }
   ],
   "source": [
    "n = int(input())\n",
    "\n",
    "def find_prime(n):\n",
    "    prime_num_list = []\n",
    "    prime = [True] * (n+1)\n",
    "    \n",
    "    for i in range(2,n+1):\n",
    "        if prime[i] == True:\n",
    "            prime_num_list.append(i)\n",
    "            for j in range(i+i,n+1,i):\n",
    "                prime[j] = False\n",
    "    \n",
    "    return prime_num_list\n",
    "\n",
    "num = n\n",
    "prime_num_list = find_prime(n)\n",
    "i = 0\n",
    "while num != 1:\n",
    "    if num%prime_num_list[i] == 0:\n",
    "        print(prime_num_list[i])\n",
    "        num //= prime_num_list[i]\n",
    "    else:\n",
    "        i += 1\n"
   ]
  },
  {
   "cell_type": "code",
   "execution_count": null,
   "metadata": {},
   "outputs": [],
   "source": []
  }
 ],
 "metadata": {
  "kernelspec": {
   "display_name": "base",
   "language": "python",
   "name": "python3"
  },
  "language_info": {
   "codemirror_mode": {
    "name": "ipython",
    "version": 3
   },
   "file_extension": ".py",
   "mimetype": "text/x-python",
   "name": "python",
   "nbconvert_exporter": "python",
   "pygments_lexer": "ipython3",
   "version": "3.10.4"
  },
  "orig_nbformat": 4
 },
 "nbformat": 4,
 "nbformat_minor": 2
}
