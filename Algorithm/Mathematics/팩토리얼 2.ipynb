{
 "cells": [
  {
   "attachments": {},
   "cell_type": "markdown",
   "metadata": {},
   "source": [
    "## 문제\n",
    "    0보다 크거나 같은 정수 N이 주어진다. 이때, N!을 출력하는 프로그램을 작성하시오.\n",
    "\n",
    "## 입력\n",
    "    첫째 줄에 정수 N(0 ≤ N ≤ 20)이 주어진다.\n",
    "\n",
    "## 출력\n",
    "    첫째 줄에 N!을 출력한다.\n",
    "\n",
    "    https://www.acmicpc.net/problem/27433"
   ]
  },
  {
   "attachments": {},
   "cell_type": "markdown",
   "metadata": {},
   "source": [
    "## 예제 1(입력/출력)\n",
    "    10 / 3628800\n",
    "## 예제 2(입력/출력)\n",
    "    0 / 1"
   ]
  },
  {
   "cell_type": "code",
   "execution_count": 17,
   "metadata": {},
   "outputs": [
    {
     "name": "stdout",
     "output_type": "stream",
     "text": [
      "3628800\n"
     ]
    }
   ],
   "source": [
    "n = int(input())\n",
    "\n",
    "def fact_num(n, res):\n",
    "    if n == 0:\n",
    "        return res\n",
    "    \n",
    "    res *= n\n",
    "    n -= 1\n",
    "    res = fact_num(n, res)\n",
    "    return res\n",
    "    \n",
    "res = 1    \n",
    "print(fact_num(n, res))"
   ]
  }
 ],
 "metadata": {
  "kernelspec": {
   "display_name": "base",
   "language": "python",
   "name": "python3"
  },
  "language_info": {
   "codemirror_mode": {
    "name": "ipython",
    "version": 3
   },
   "file_extension": ".py",
   "mimetype": "text/x-python",
   "name": "python",
   "nbconvert_exporter": "python",
   "pygments_lexer": "ipython3",
   "version": "3.10.4"
  },
  "orig_nbformat": 4
 },
 "nbformat": 4,
 "nbformat_minor": 2
}
