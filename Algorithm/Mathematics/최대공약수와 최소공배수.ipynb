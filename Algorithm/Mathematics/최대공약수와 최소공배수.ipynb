{
 "cells": [
  {
   "cell_type": "markdown",
   "id": "aa7751f3",
   "metadata": {},
   "source": [
    "## 문제>\n",
    "    두 개의 자연수를 입력받아 최대 공약수와 최소 공배수를 출력하는 프로그램을 작성하시오.\n",
    "\n",
    "## 입력>\n",
    "    첫째 줄에는 두 개의 자연수가 주어진다. 이 둘은 10,000이하의 자연수이며 사이에 한 칸의 공백이 주어진다.\n",
    "\n",
    "## 출력>\n",
    "    첫째 줄에는 입력으로 주어진 두 수의 최대공약수를, 둘째 줄에는 입력으로 주어진 두 수의 최소 공배수를 출력한다.\n",
    "    \n",
    "    https://www.acmicpc.net/problem/2609"
   ]
  },
  {
   "cell_type": "markdown",
   "id": "d6191304",
   "metadata": {},
   "source": [
    "## 예제 (입력/출력)\n",
    "    24 18/\n",
    "    6\n",
    "    72"
   ]
  },
  {
   "cell_type": "code",
   "execution_count": 1,
   "id": "06d4cfe2",
   "metadata": {},
   "outputs": [
    {
     "name": "stdout",
     "output_type": "stream",
     "text": [
      "24 18\n",
      "6\n",
      "72\n"
     ]
    }
   ],
   "source": [
    "from math import gcd, lcm\n",
    "a, b = map(int,input().split())\n",
    "print(gcd(a,b))\n",
    "print(lcm(a,b))"
   ]
  }
 ],
 "metadata": {
  "kernelspec": {
   "display_name": "Python 3 (ipykernel)",
   "language": "python",
   "name": "python3"
  },
  "language_info": {
   "codemirror_mode": {
    "name": "ipython",
    "version": 3
   },
   "file_extension": ".py",
   "mimetype": "text/x-python",
   "name": "python",
   "nbconvert_exporter": "python",
   "pygments_lexer": "ipython3",
   "version": "3.9.13"
  }
 },
 "nbformat": 4,
 "nbformat_minor": 5
}
