{
 "cells": [
  {
   "attachments": {},
   "cell_type": "markdown",
   "metadata": {},
   "source": [
    "## 문제\n",
    "    B진법 수 N이 주어진다. 이 수를 10진법으로 바꿔 출력하는 프로그램을 작성하시오.\n",
    "\n",
    "    10진법을 넘어가는 진법은 숫자로 표시할 수 없는 자리가 있다. 이런 경우에는 다음과 같이 알파벳 대문자를 사용한다.\n",
    "\n",
    "    A: 10, B: 11, ..., F: 15, ..., Y: 34, Z: 35\n",
    "\n",
    "## 입력\n",
    "    첫째 줄에 N과 B가 주어진다. (2 ≤ B ≤ 36)\n",
    "\n",
    "    B진법 수 N을 10진법으로 바꾸면, 항상 10억보다 작거나 같다.\n",
    "\n",
    "## 출력\n",
    "    첫째 줄에 B진법 수 N을 10진법으로 출력한다.\n",
    "\n",
    "    https://www.acmicpc.net/problem/2745"
   ]
  },
  {
   "attachments": {},
   "cell_type": "markdown",
   "metadata": {},
   "source": [
    "## 예제 (입력/출력)\n",
    "    ZZZZZ 36\n",
    "    / 60466175"
   ]
  },
  {
   "cell_type": "code",
   "execution_count": 6,
   "metadata": {},
   "outputs": [
    {
     "ename": "ValueError",
     "evalue": "not enough values to unpack (expected 2, got 0)",
     "output_type": "error",
     "traceback": [
      "\u001b[0;31m---------------------------------------------------------------------------\u001b[0m",
      "\u001b[0;31mValueError\u001b[0m                                Traceback (most recent call last)",
      "\u001b[0;32m/var/folders/tp/bw8ghd4j7xg_tty_47p898mh0000gn/T/ipykernel_9283/3941077981.py\u001b[0m in \u001b[0;36m<module>\u001b[0;34m\u001b[0m\n\u001b[0;32m----> 1\u001b[0;31m \u001b[0mn\u001b[0m\u001b[0;34m,\u001b[0m \u001b[0mb\u001b[0m \u001b[0;34m=\u001b[0m \u001b[0minput\u001b[0m\u001b[0;34m(\u001b[0m\u001b[0;34m)\u001b[0m\u001b[0;34m.\u001b[0m\u001b[0msplit\u001b[0m\u001b[0;34m(\u001b[0m\u001b[0;34m)\u001b[0m\u001b[0;34m\u001b[0m\u001b[0;34m\u001b[0m\u001b[0m\n\u001b[0m\u001b[1;32m      2\u001b[0m \u001b[0;34m\u001b[0m\u001b[0m\n\u001b[1;32m      3\u001b[0m \u001b[0;31m# 진법 수를 정수형으로 변환\u001b[0m\u001b[0;34m\u001b[0m\u001b[0;34m\u001b[0m\u001b[0m\n\u001b[1;32m      4\u001b[0m \u001b[0mb\u001b[0m \u001b[0;34m=\u001b[0m \u001b[0mint\u001b[0m\u001b[0;34m(\u001b[0m\u001b[0mb\u001b[0m\u001b[0;34m)\u001b[0m\u001b[0;34m\u001b[0m\u001b[0;34m\u001b[0m\u001b[0m\n\u001b[1;32m      5\u001b[0m \u001b[0;31m# 0~9 숫자를 문자형으로 변환하여 저장한 리스트\u001b[0m\u001b[0;34m\u001b[0m\u001b[0;34m\u001b[0m\u001b[0m\n",
      "\u001b[0;31mValueError\u001b[0m: not enough values to unpack (expected 2, got 0)"
     ]
    }
   ],
   "source": [
    "n, b = input().split()\n",
    "\n",
    "# 진법 수를 정수형으로 변환\n",
    "b = int(b)\n",
    "# 0~9 숫자를 문자형으로 변환하여 저장한 리스트\n",
    "num_list = [str(i) for i in range(10)]\n",
    "# n 문자열을 역순으로 저장\n",
    "n = n[::-1]\n",
    "\n",
    "num = 0\n",
    "for i in range(len(n)):\n",
    "    # 숫자에 해당하는 경우\n",
    "    if n[i] in num_list:\n",
    "        num += int(n[i]) * b**i\n",
    "    # 알파벳에 해당하는 경우\n",
    "    else:\n",
    "        # 아스키 코드를 활용해서 알파벳을 숫자로 변환\n",
    "        num += (ord(n[i])-55) * b**i\n",
    "\n",
    "print(num)"
   ]
  }
 ],
 "metadata": {
  "kernelspec": {
   "display_name": "base",
   "language": "python",
   "name": "python3"
  },
  "language_info": {
   "codemirror_mode": {
    "name": "ipython",
    "version": 3
   },
   "file_extension": ".py",
   "mimetype": "text/x-python",
   "name": "python",
   "nbconvert_exporter": "python",
   "pygments_lexer": "ipython3",
   "version": "3.10.4"
  },
  "orig_nbformat": 4
 },
 "nbformat": 4,
 "nbformat_minor": 2
}
