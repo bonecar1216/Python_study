{
 "cells": [
  {
   "cell_type": "markdown",
   "id": "40021a43",
   "metadata": {},
   "source": [
    "## 문제>\n",
    "    피보나치 수는 0과 1로 시작한다. 0번째 피보나치 수는 0이고, 1번째 피보나치 수는 1이다. 그 다음 2번째 부터는 바로 앞 두 피보나치 수의 합이 된다.\n",
    "\n",
    "    이를 식으로 써보면 Fn = Fn-1 + Fn-2 (n ≥ 2)가 된다.\n",
    "\n",
    "    n=17일때 까지 피보나치 수를 써보면 다음과 같다.\n",
    "\n",
    "    0, 1, 1, 2, 3, 5, 8, 13, 21, 34, 55, 89, 144, 233, 377, 610, 987, 1597\n",
    "\n",
    "    n이 주어졌을 때, n번째 피보나치 수를 구하는 프로그램을 작성하시오.\n",
    "\n",
    "## 입력>\n",
    "    첫째 줄에 n이 주어진다. n은 20보다 작거나 같은 자연수 또는 0이다.\n",
    "\n",
    "## 출력>\n",
    "    첫째 줄에 n번째 피보나치 수를 출력한다."
   ]
  },
  {
   "cell_type": "markdown",
   "id": "0cff1400",
   "metadata": {},
   "source": [
    "## 예제 (입력/출력)\n",
    "10   /   55"
   ]
  },
  {
   "cell_type": "code",
   "execution_count": 40,
   "id": "50ca0f10",
   "metadata": {},
   "outputs": [
    {
     "name": "stdout",
     "output_type": "stream",
     "text": [
      "10\n",
      "55\n"
     ]
    }
   ],
   "source": [
    "n = int(input())\n",
    "\n",
    "# 0번째 숫자 0\n",
    "if n == 0:\n",
    "    print(0)\n",
    "\n",
    "# 1번재 숫자 1\n",
    "elif n == 1:\n",
    "    print(1)\n",
    "\n",
    "else:\n",
    "    # 0번째 숫자 0, 1번째 숫자 1를 초기값으로 선정\n",
    "    f_front = 0\n",
    "    f_back = 1\n",
    "    cnt = 1\n",
    "    f_num = 0\n",
    "    while True:\n",
    "        f_num = f_front + f_back\n",
    "        cnt += 1\n",
    "        \n",
    "        # n번째에 해당하는 경우, f값을 출력\n",
    "        if cnt == n:\n",
    "            print(f_num)\n",
    "            break\n",
    "        \n",
    "        # n번째에 해당하지 않는 경우, k-2번째 수를 k-1번재 수(f_back)으로 변경하고, k-1번째 수를 k번째 수(f_num)으로 변경\n",
    "        else:\n",
    "            f_front = f_back\n",
    "            f_back = f_num"
   ]
  }
 ],
 "metadata": {
  "kernelspec": {
   "display_name": "Python 3 (ipykernel)",
   "language": "python",
   "name": "python3"
  },
  "language_info": {
   "codemirror_mode": {
    "name": "ipython",
    "version": 3
   },
   "file_extension": ".py",
   "mimetype": "text/x-python",
   "name": "python",
   "nbconvert_exporter": "python",
   "pygments_lexer": "ipython3",
   "version": "3.9.13"
  }
 },
 "nbformat": 4,
 "nbformat_minor": 5
}
