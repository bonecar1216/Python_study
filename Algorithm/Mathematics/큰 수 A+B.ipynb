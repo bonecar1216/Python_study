{
 "cells": [
  {
   "cell_type": "markdown",
   "id": "c120f1b4",
   "metadata": {},
   "source": [
    "## 문제>\n",
    "    두 정수 A와 B를 입력받은 다음, A+B를 출력하는 프로그램을 작성하시오.\n",
    "\n",
    "## 입력>\n",
    "    첫째 줄에 A와 B가 주어진다. (0 < A,B < 1010000)\n",
    "\n",
    "## 출력>\n",
    "    첫째 줄에 A+B를 출력한다.\n",
    "    \n",
    "    https://www.acmicpc.net/problem/10757"
   ]
  },
  {
   "cell_type": "markdown",
   "id": "9241292c",
   "metadata": {},
   "source": [
    "## 예제\n",
    "### 입력\n",
    "    9223372036854775807 9223372036854775808\n",
    "### 출력\n",
    "    18446744073709551615"
   ]
  },
  {
   "cell_type": "code",
   "execution_count": 1,
   "id": "8df21fa0",
   "metadata": {},
   "outputs": [
    {
     "name": "stdout",
     "output_type": "stream",
     "text": [
      "9223372036854775807 9223372036854775808\n",
      "18446744073709551615\n"
     ]
    }
   ],
   "source": [
    "A, B = map(int,input().split())\n",
    "\n",
    "print(A+B)"
   ]
  }
 ],
 "metadata": {
  "kernelspec": {
   "display_name": "Python 3 (ipykernel)",
   "language": "python",
   "name": "python3"
  },
  "language_info": {
   "codemirror_mode": {
    "name": "ipython",
    "version": 3
   },
   "file_extension": ".py",
   "mimetype": "text/x-python",
   "name": "python",
   "nbconvert_exporter": "python",
   "pygments_lexer": "ipython3",
   "version": "3.9.13"
  }
 },
 "nbformat": 4,
 "nbformat_minor": 5
}
