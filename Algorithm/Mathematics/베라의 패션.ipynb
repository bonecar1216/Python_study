{
 "cells": [
  {
   "attachments": {},
   "cell_type": "markdown",
   "metadata": {},
   "source": [
    "## 문제\n",
    "    베라는 상의 N 벌과 하의 N 벌이 있다. i 번째 상의와 i 번째 하의는 모두 색상 i를 가진다. N 개의 색상은 모두 서로 다르다.\n",
    "\n",
    "    상의와 하의가 서로 다른 색상인 조합은 총 몇 가지일까?\n",
    "\n",
    "## 입력\n",
    "    입력은 아래와 같이 주어진다.\n",
    "\n",
    "    N\n",
    "\n",
    "## 출력\n",
    "    상의와 하의가 서로 다른 색상인 조합의 가짓수를 출력한다.\n",
    "\n",
    "    https://www.acmicpc.net/problem/15439"
   ]
  },
  {
   "attachments": {},
   "cell_type": "markdown",
   "metadata": {},
   "source": [
    "## 예제 1(입력/출력)\n",
    "    1 / 0\n",
    "## 예제 2(입력/출력)\n",
    "    2 / 2\n",
    "## 예제 3(입력/출력)\n",
    "    5 / 20"
   ]
  },
  {
   "cell_type": "code",
   "execution_count": 3,
   "metadata": {},
   "outputs": [
    {
     "name": "stdout",
     "output_type": "stream",
     "text": [
      "20\n"
     ]
    }
   ],
   "source": [
    "# 총 n개의 색이 있을 경우,\n",
    "# 상의 1개를 선택 -> n-1개의 하의를 고르는 경우의 수가 있음.\n",
    "# 상의 n개를 선택시 -> n(n-1)의 조합이 있음.\n",
    "\n",
    "n = int(input())\n",
    "print(n*(n-1))"
   ]
  }
 ],
 "metadata": {
  "kernelspec": {
   "display_name": "base",
   "language": "python",
   "name": "python3"
  },
  "language_info": {
   "codemirror_mode": {
    "name": "ipython",
    "version": 3
   },
   "file_extension": ".py",
   "mimetype": "text/x-python",
   "name": "python",
   "nbconvert_exporter": "python",
   "pygments_lexer": "ipython3",
   "version": "3.10.4"
  },
  "orig_nbformat": 4
 },
 "nbformat": 4,
 "nbformat_minor": 2
}
