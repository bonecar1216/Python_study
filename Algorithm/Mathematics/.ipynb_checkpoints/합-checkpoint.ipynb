{
 "cells": [
  {
   "cell_type": "markdown",
   "id": "345654b2",
   "metadata": {},
   "source": [
    "## 문제>\n",
    "    n이 주어졌을 때, 1부터 n까지 합을 구하는 프로그램을 작성하시오.\n",
    "\n",
    "## 입력>\n",
    "    첫째 줄에 n (1 ≤ n ≤ 10,000)이 주어진다.\n",
    "\n",
    "## 출력>\n",
    "    1부터 n까지 합을 출력한다."
   ]
  },
  {
   "cell_type": "markdown",
   "id": "2e365076",
   "metadata": {},
   "source": [
    "## 예제\n",
    "### 입력\n",
    "3\n",
    "### 출력\n",
    "6"
   ]
  },
  {
   "cell_type": "code",
   "execution_count": null,
   "id": "c468a472",
   "metadata": {},
   "outputs": [],
   "source": [
    "n = int(input())\n",
    "\n"
   ]
  }
 ],
 "metadata": {
  "kernelspec": {
   "display_name": "Python 3 (ipykernel)",
   "language": "python",
   "name": "python3"
  },
  "language_info": {
   "codemirror_mode": {
    "name": "ipython",
    "version": 3
   },
   "file_extension": ".py",
   "mimetype": "text/x-python",
   "name": "python",
   "nbconvert_exporter": "python",
   "pygments_lexer": "ipython3",
   "version": "3.9.13"
  }
 },
 "nbformat": 4,
 "nbformat_minor": 5
}
