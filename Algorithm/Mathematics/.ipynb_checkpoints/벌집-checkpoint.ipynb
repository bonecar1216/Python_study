{
 "cells": [
  {
   "cell_type": "markdown",
   "id": "0c963433",
   "metadata": {},
   "source": [
    "## 문제>\n",
    "    https://www.acmicpc.net/problem/2292\n",
    "\n",
    "    위의 그림과 같이 육각형으로 이루어진 벌집이 있다. 그림에서 보는 바와 같이 중앙의 방 1부터 시작해서 이웃하는 방에 돌아가면서 1씩 증가하는 번호를 주소로 매길 수 있다. 숫자 N이 주어졌을 때, 벌집의 중앙 1에서 N번 방까지 최소 개수의 방을 지나서 갈 때 몇 개의 방을 지나가는지(시작과 끝을 포함하여)를 계산하는 프로그램을 작성하시오. 예를 들면, 13까지는 3개, 58까지는 5개를 지난다.\n",
    "\n",
    "## 입력>\n",
    "    첫째 줄에 N(1 ≤ N ≤ 1,000,000,000)이 주어진다.\n",
    "\n",
    "## 출력>\n",
    "    입력으로 주어진 방까지 최소 개수의 방을 지나서 갈 때 몇 개의 방을 지나는지 출력한다."
   ]
  },
  {
   "cell_type": "markdown",
   "id": "2903600a",
   "metadata": {},
   "source": [
    "## 예제 (입력/출력)\n",
    "13    /    3"
   ]
  },
  {
   "cell_type": "code",
   "execution_count": 13,
   "id": "92c8fc09",
   "metadata": {},
   "outputs": [],
   "source": [
    "# 1(1개) -> 2~7(6개) -> 8~19(12개) -> 20~37 (18개) -> ..... (6n개)\n",
    "# 방의 수가 증가할수록 그 방의 수는 6n개씩 증가함.\n",
    "# 방을 지나는 수는 n+1개임"
   ]
  },
  {
   "cell_type": "code",
   "execution_count": 12,
   "id": "85ff533c",
   "metadata": {},
   "outputs": [
    {
     "name": "stdout",
     "output_type": "stream",
     "text": [
      "13\n",
      "3\n"
     ]
    }
   ],
   "source": [
    "N = int(input())\n",
    "\n",
    "# 숫자가 1일 경우, 첫 번째 방이므로 1을 출력\n",
    "if N == 1:\n",
    "    print(1)\n",
    "    \n",
    "# 숫자가 2이상일 경우부터는 방 갯수를 계산\n",
    "else:\n",
    "    a = 2\n",
    "    b = 7\n",
    "    ans = 2\n",
    "    while True:\n",
    "        if a <= N <= b:\n",
    "            print(ans)\n",
    "            break\n",
    "        tmp = b\n",
    "        a = b\n",
    "        b += 6 * ans\n",
    "        ans += 1"
   ]
  }
 ],
 "metadata": {
  "kernelspec": {
   "display_name": "Python 3 (ipykernel)",
   "language": "python",
   "name": "python3"
  },
  "language_info": {
   "codemirror_mode": {
    "name": "ipython",
    "version": 3
   },
   "file_extension": ".py",
   "mimetype": "text/x-python",
   "name": "python",
   "nbconvert_exporter": "python",
   "pygments_lexer": "ipython3",
   "version": "3.9.13"
  }
 },
 "nbformat": 4,
 "nbformat_minor": 5
}
