{
 "cells": [
  {
   "cell_type": "markdown",
   "id": "edb4d3e1",
   "metadata": {},
   "source": [
    "## 문제>\n",
    "    두 정수 A와 B를 입력받은 다음, A/B를 출력하는 프로그램을 작성하시오.\n",
    "\n",
    "## 입력>\n",
    "    첫째 줄에 A와 B가 주어진다. (0 < A, B < 10)\n",
    "\n",
    "## 출력>\n",
    "    첫째 줄에 A/B를 출력한다. 실제 정답과 출력값의 절대오차 또는 상대오차가 10-9 이하이면 정답이다."
   ]
  },
  {
   "cell_type": "markdown",
   "id": "5995cbf9",
   "metadata": {},
   "source": [
    "## 예제1\n",
    "### 입력\n",
    "1 3\n",
    "### 출력\n",
    "0.33333333333333333333333333333333\n",
    "## 예제2\n",
    "### 입력\n",
    "4 5\n",
    "### 출력\n",
    "0.8"
   ]
  },
  {
   "cell_type": "code",
   "execution_count": 1,
   "id": "fc69f842",
   "metadata": {},
   "outputs": [
    {
     "name": "stdout",
     "output_type": "stream",
     "text": [
      "1 3\n",
      "0.3333333333333333\n"
     ]
    }
   ],
   "source": [
    "a, b = map(int,input().split(' '))\n",
    "\n",
    "print(a/b)"
   ]
  },
  {
   "cell_type": "code",
   "execution_count": 2,
   "id": "f57100c1",
   "metadata": {},
   "outputs": [
    {
     "name": "stdout",
     "output_type": "stream",
     "text": [
      "4 5\n",
      "0.8\n"
     ]
    }
   ],
   "source": [
    "a, b = map(int,input().split(' '))\n",
    "\n",
    "print(a/b)"
   ]
  }
 ],
 "metadata": {
  "kernelspec": {
   "display_name": "Python 3 (ipykernel)",
   "language": "python",
   "name": "python3"
  },
  "language_info": {
   "codemirror_mode": {
    "name": "ipython",
    "version": 3
   },
   "file_extension": ".py",
   "mimetype": "text/x-python",
   "name": "python",
   "nbconvert_exporter": "python",
   "pygments_lexer": "ipython3",
   "version": "3.9.13"
  }
 },
 "nbformat": 4,
 "nbformat_minor": 5
}
