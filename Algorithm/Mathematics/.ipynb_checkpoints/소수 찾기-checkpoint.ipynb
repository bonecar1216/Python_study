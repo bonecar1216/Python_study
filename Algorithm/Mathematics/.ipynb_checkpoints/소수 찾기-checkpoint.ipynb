{
 "cells": [
  {
   "cell_type": "markdown",
   "id": "e1ce54bd",
   "metadata": {},
   "source": [
    "## 문제>\n",
    "    주어진 수 N개 중에서 소수가 몇 개인지 찾아서 출력하는 프로그램을 작성하시오.\n",
    "\n",
    "## 입력>\n",
    "    첫 줄에 수의 개수 N이 주어진다. N은 100이하이다. 다음으로 N개의 수가 주어지는데 수는 1,000 이하의 자연수이다.\n",
    "\n",
    "## 출력>\n",
    "    주어진 수들 중 소수의 개수를 출력한다."
   ]
  },
  {
   "cell_type": "markdown",
   "id": "b6c2ec2d",
   "metadata": {},
   "source": [
    "## 예제\n",
    "### 입력\n",
    "    4\n",
    "    1 3 5 7\n",
    "### 출력\n",
    "    3"
   ]
  },
  {
   "cell_type": "code",
   "execution_count": 17,
   "id": "bd68f4bb",
   "metadata": {},
   "outputs": [
    {
     "name": "stdout",
     "output_type": "stream",
     "text": [
      "4\n",
      "1 3 5 7\n",
      "3\n"
     ]
    }
   ],
   "source": [
    "N = int(input())\n",
    "A_str = list(input().split())\n",
    "A_int = [int(a) for a in A_str]\n",
    "max_A = max(A_int)\n",
    "\n",
    "# 입력된 수 중 가장 큰 값을 기준으로 list를 생성\n",
    "prime = [0] * (max_A+1)\n",
    "\n",
    "# 소수가 아닌 0과 1 index의 값을 1로 변경\n",
    "prime[0] = 1\n",
    "prime[1] = 1\n",
    "\n",
    "# 소수가 아닌 index에 해당하는 list값을 0에서 1로 변경\n",
    "for i in range(2,max_A+1):\n",
    "    if prime[i] == 0:\n",
    "        for j in range(i+i,max_A+1,i):\n",
    "            prime[j] = 1\n",
    "\n",
    "# 입력된 값들 중 소수의 갯수를 카운팅\n",
    "ans = 0\n",
    "for a in A_int:\n",
    "    if prime[a] == 0:\n",
    "        ans += 1\n",
    "\n",
    "print(ans)"
   ]
  }
 ],
 "metadata": {
  "kernelspec": {
   "display_name": "Python 3 (ipykernel)",
   "language": "python",
   "name": "python3"
  },
  "language_info": {
   "codemirror_mode": {
    "name": "ipython",
    "version": 3
   },
   "file_extension": ".py",
   "mimetype": "text/x-python",
   "name": "python",
   "nbconvert_exporter": "python",
   "pygments_lexer": "ipython3",
   "version": "3.9.13"
  }
 },
 "nbformat": 4,
 "nbformat_minor": 5
}
