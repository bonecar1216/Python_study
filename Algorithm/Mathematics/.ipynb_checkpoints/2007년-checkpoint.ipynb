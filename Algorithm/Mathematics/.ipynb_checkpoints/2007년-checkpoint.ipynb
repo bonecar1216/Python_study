{
 "cells": [
  {
   "cell_type": "markdown",
   "id": "d219e3f2",
   "metadata": {},
   "source": [
    "## 문제>\n",
    "    오늘은 2007년 1월 1일 월요일이다. 그렇다면 2007년 x월 y일은 무슨 요일일까? 이를 알아내는 프로그램을 작성하시오.\n",
    "\n",
    "## 입력>\n",
    "    첫째 줄에 빈 칸을 사이에 두고 x(1 ≤ x ≤ 12)와 y(1 ≤ y ≤ 31)이 주어진다. 참고로 2007년에는 1, 3, 5, 7, 8, 10, 12월은 31일까지, 4, 6, 9, 11월은 30일까지, 2월은 28일까지 있다.\n",
    "\n",
    "## 출력>\n",
    "    첫째 줄에 x월 y일이 무슨 요일인지에 따라 SUN, MON, TUE, WED, THU, FRI, SAT중 하나를 출력한다.\n",
    "    \n",
    "    https://www.acmicpc.net/problem/1924"
   ]
  },
  {
   "cell_type": "markdown",
   "id": "a28f1e1d",
   "metadata": {},
   "source": [
    "## 예제 1(입력/출력)\n",
    "1 1   /   MON\n",
    "## 예제 2(입력/출력)\n",
    "3 14   /   WED\n",
    "## 예제 3(입력/출력)\n",
    "9 2   /   SUN\n",
    "## 예제 4(입력/출력)\n",
    "12 25   /   TUE"
   ]
  },
  {
   "cell_type": "code",
   "execution_count": 1,
   "id": "7b56d13b",
   "metadata": {},
   "outputs": [
    {
     "name": "stdout",
     "output_type": "stream",
     "text": [
      "1 1\n",
      "MON\n"
     ]
    }
   ],
   "source": [
    "x, y = map(int,input().split())\n",
    "\n",
    "def find_dayofweek(x,y):\n",
    "    # 각 월마다의 일 수\n",
    "    month_day = [0, 31, 28, 31, 30, 31, 30, 31, 31, 30, 31, 30, 31]\n",
    "    # 요일 리스트\n",
    "    dayofweek = ['MON', 'TUE', 'WED', 'THU', 'FRI', 'SAT', 'SUN']\n",
    "    \n",
    "    # 1월 1일부터 입력된 월/일까지의 총 일수를 계산한 후, 총 일수에서 1을 뺀 값의 나머지를 기준으로 요일을 출력\n",
    "    ## 나머지 0 -> 월요일, 1 -> 화요일 ....... 6 -> 일요일\n",
    "\n",
    "    # 입력된 달 이전 달까지의 일 수를 모두 합\n",
    "    days = 0\n",
    "    for i in range(1, x):\n",
    "        days += month_day[i]\n",
    "    \n",
    "    # 입력된 일수만큼 더한 후, 1을 빼줌\n",
    "    days = days + y - 1\n",
    "    \n",
    "    # days값을 7로 나눈 나머지 값으로 요일을 찾아서 출력함\n",
    "    return dayofweek[days%7]\n",
    "\n",
    "print(find_dayofweek(x,y))"
   ]
  },
  {
   "cell_type": "code",
   "execution_count": 3,
   "id": "954f744b",
   "metadata": {},
   "outputs": [
    {
     "name": "stdout",
     "output_type": "stream",
     "text": [
      "3 14\n",
      "WED\n"
     ]
    }
   ],
   "source": [
    "x, y = map(int,input().split())\n",
    "\n",
    "print(find_dayofweek(x,y))"
   ]
  },
  {
   "cell_type": "code",
   "execution_count": 4,
   "id": "33d8d930",
   "metadata": {},
   "outputs": [
    {
     "name": "stdout",
     "output_type": "stream",
     "text": [
      "9 2\n",
      "SUN\n"
     ]
    }
   ],
   "source": [
    "x, y = map(int,input().split())\n",
    "\n",
    "print(find_dayofweek(x,y))"
   ]
  },
  {
   "cell_type": "code",
   "execution_count": 5,
   "id": "2f3e6b43",
   "metadata": {},
   "outputs": [
    {
     "name": "stdout",
     "output_type": "stream",
     "text": [
      "12 25\n",
      "TUE\n"
     ]
    }
   ],
   "source": [
    "x, y = map(int,input().split())\n",
    "\n",
    "print(find_dayofweek(x,y))"
   ]
  }
 ],
 "metadata": {
  "kernelspec": {
   "display_name": "Python 3 (ipykernel)",
   "language": "python",
   "name": "python3"
  },
  "language_info": {
   "codemirror_mode": {
    "name": "ipython",
    "version": 3
   },
   "file_extension": ".py",
   "mimetype": "text/x-python",
   "name": "python",
   "nbconvert_exporter": "python",
   "pygments_lexer": "ipython3",
   "version": "3.9.13"
  }
 },
 "nbformat": 4,
 "nbformat_minor": 5
}
