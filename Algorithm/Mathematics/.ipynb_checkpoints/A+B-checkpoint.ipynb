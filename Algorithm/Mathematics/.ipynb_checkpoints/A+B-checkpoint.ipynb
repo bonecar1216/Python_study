{
 "cells": [
  {
   "cell_type": "markdown",
   "id": "501120f0",
   "metadata": {},
   "source": [
    "## 문제\n",
    "    두 정수 A와 B를 입력받은 다음, A+B를 출력하는 프로그램을 작성하시오.\n",
    "\n",
    "## 입력\n",
    "    첫째 줄에 A와 B가 주어진다. (0 < A, B < 10)\n",
    "\n",
    "## 출력\n",
    "    첫째 줄에 A+B를 출력한다."
   ]
  },
  {
   "cell_type": "markdown",
   "id": "de96aa94",
   "metadata": {},
   "source": [
    "### 예제1\n",
    "#### 입력\n",
    "1 2\n",
    "#### 출력\n",
    "3"
   ]
  },
  {
   "cell_type": "code",
   "execution_count": 1,
   "id": "11872e3b",
   "metadata": {},
   "outputs": [
    {
     "name": "stdout",
     "output_type": "stream",
     "text": [
      "1 2\n",
      "3\n"
     ]
    }
   ],
   "source": [
    "A, B = map(int,input().split(' '))\n",
    "\n",
    "print(A+B)"
   ]
  }
 ],
 "metadata": {
  "kernelspec": {
   "display_name": "Python 3 (ipykernel)",
   "language": "python",
   "name": "python3"
  },
  "language_info": {
   "codemirror_mode": {
    "name": "ipython",
    "version": 3
   },
   "file_extension": ".py",
   "mimetype": "text/x-python",
   "name": "python",
   "nbconvert_exporter": "python",
   "pygments_lexer": "ipython3",
   "version": "3.9.13"
  }
 },
 "nbformat": 4,
 "nbformat_minor": 5
}
