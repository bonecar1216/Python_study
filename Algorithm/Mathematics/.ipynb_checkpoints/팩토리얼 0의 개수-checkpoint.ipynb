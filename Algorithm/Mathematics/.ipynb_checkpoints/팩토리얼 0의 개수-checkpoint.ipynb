{
 "cells": [
  {
   "cell_type": "markdown",
   "id": "cd3864fa",
   "metadata": {},
   "source": [
    "## 문제>\n",
    "    N!에서 뒤에서부터 처음 0이 아닌 숫자가 나올 때까지 0의 개수를 구하는 프로그램을 작성하시오.\n",
    "\n",
    "## 입력>\n",
    "    첫째 줄에 N이 주어진다. (0 ≤ N ≤ 500)\n",
    "\n",
    "## 출력>\n",
    "    첫째 줄에 구한 0의 개수를 출력한다.\n",
    "    \n",
    "    https://www.acmicpc.net/problem/1676"
   ]
  },
  {
   "cell_type": "markdown",
   "id": "81965724",
   "metadata": {},
   "source": [
    "## 예제 1(입력/출력)\n",
    "10 / 2\n",
    "## 예제 2(입력/출력)\n",
    "3 / 0"
   ]
  },
  {
   "cell_type": "code",
   "execution_count": 5,
   "id": "80697d30",
   "metadata": {},
   "outputs": [
    {
     "name": "stdout",
     "output_type": "stream",
     "text": [
      "10\n",
      "2\n"
     ]
    }
   ],
   "source": [
    "import math\n",
    "\n",
    "n = int(input())\n",
    "\n",
    "num = math.factorial(n)\n",
    "num_str = str(num)\n",
    "num_str = num_str[::-1]\n",
    "cnt = 0\n",
    "for a in num_str:\n",
    "    if a == '0':\n",
    "        cnt += 1\n",
    "    else:\n",
    "        break\n",
    "print(cnt)"
   ]
  },
  {
   "cell_type": "code",
   "execution_count": 6,
   "id": "2c1837f6",
   "metadata": {},
   "outputs": [
    {
     "name": "stdout",
     "output_type": "stream",
     "text": [
      "3\n",
      "0\n"
     ]
    }
   ],
   "source": [
    "import math\n",
    "\n",
    "n = int(input())\n",
    "\n",
    "num = math.factorial(n)\n",
    "num_str = str(num)\n",
    "num_str = num_str[::-1]\n",
    "cnt = 0\n",
    "for a in num_str:\n",
    "    if a == '0':\n",
    "        cnt += 1\n",
    "    else:\n",
    "        break\n",
    "print(cnt)"
   ]
  }
 ],
 "metadata": {
  "kernelspec": {
   "display_name": "Python 3 (ipykernel)",
   "language": "python",
   "name": "python3"
  },
  "language_info": {
   "codemirror_mode": {
    "name": "ipython",
    "version": 3
   },
   "file_extension": ".py",
   "mimetype": "text/x-python",
   "name": "python",
   "nbconvert_exporter": "python",
   "pygments_lexer": "ipython3",
   "version": "3.9.13"
  }
 },
 "nbformat": 4,
 "nbformat_minor": 5
}
