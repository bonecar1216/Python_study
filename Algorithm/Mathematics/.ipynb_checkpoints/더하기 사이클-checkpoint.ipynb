{
 "cells": [
  {
   "cell_type": "markdown",
   "id": "0ea006f9",
   "metadata": {},
   "source": [
    "## 문제>\n",
    "    0보다 크거나 같고, 99보다 작거나 같은 정수가 주어질 때 다음과 같은 연산을 할 수 있다. 먼저 주어진 수가 10보다 작다면 앞에 0을 붙여 두 자리 수로 만들고, 각 자리의 숫자를 더한다. 그 다음, 주어진 수의 가장 오른쪽 자리 수와 앞에서 구한 합의 가장 오른쪽 자리 수를 이어 붙이면 새로운 수를 만들 수 있다. 다음 예를 보자.\n",
    "\n",
    "    26부터 시작한다. 2+6 = 8이다. 새로운 수는 68이다. 6+8 = 14이다. 새로운 수는 84이다. 8+4 = 12이다. 새로운 수는 42이다. 4+2 = 6이다. 새로운 수는 26이다.\n",
    "\n",
    "    위의 예는 4번만에 원래 수로 돌아올 수 있다. 따라서 26의 사이클의 길이는 4이다.\n",
    "\n",
    "    N이 주어졌을 때, N의 사이클의 길이를 구하는 프로그램을 작성하시오.\n",
    "\n",
    "## 입력>\n",
    "    첫째 줄에 N이 주어진다. N은 0보다 크거나 같고, 99보다 작거나 같은 정수이다.\n",
    "\n",
    "## 출력>\n",
    "    첫째 줄에 N의 사이클 길이를 출력한다."
   ]
  },
  {
   "cell_type": "markdown",
   "id": "bc81d6ef",
   "metadata": {},
   "source": [
    "## 예제1 (입력/출력)\n",
    "26  /  4\n",
    "## 예제2 (입력/출력)\n",
    "55  /  3\n",
    "## 예제3 (입력/출력)\n",
    "1  /  60\n",
    "## 예제4 (입력/출력)\n",
    "0  /  1\n",
    "## 예제5 (입력/출력)\n",
    "71  /  12"
   ]
  },
  {
   "cell_type": "code",
   "execution_count": 32,
   "id": "35aaea80",
   "metadata": {
    "scrolled": false
   },
   "outputs": [
    {
     "name": "stdout",
     "output_type": "stream",
     "text": [
      "26\n",
      "4\n"
     ]
    }
   ],
   "source": [
    "N = input()\n",
    "\n",
    "# 사이클 수를 구하는 함수\n",
    "def find_cycle(N):\n",
    "    # 주어진 수가 10보다 작다면 앞에 0을 붙여 두 자리 수로 변환\n",
    "    N = transform_to_double(N)\n",
    "    num = N\n",
    "    ans = 0\n",
    "    \n",
    "    while True:\n",
    "        # 각 자리의 숫자를 더한고, 주어진 수의 가장 오른쪽 자리 수와 앞에서 구한 합의 가장 오른쪽 자리 수를 이어 붙이면 새로운 수를 생성    \n",
    "        result_str = str(int(num[0])+int(num[1]))\n",
    "        \n",
    "        # 새로운 수가 10보다 작다면 앞에 0을 붙여 두 자리 수로 변환\n",
    "        result_str = transform_to_double(result_str)\n",
    "        num = num[1] + result_str[1]\n",
    "        ans += 1\n",
    "        \n",
    "        # 원래 수와 비교\n",
    "        if num == N:\n",
    "            break\n",
    "        \n",
    "    return ans\n",
    "\n",
    "# 주어진 수가 10보다 작다면 앞에 0을 붙여 두 자리 수로 변환하는 함수\n",
    "def transform_to_double(N):\n",
    "    if len(N) < 2:\n",
    "        return '0'+ N\n",
    "    else:\n",
    "        return N\n",
    "\n",
    "print(find_cycle(N))"
   ]
  },
  {
   "cell_type": "code",
   "execution_count": 33,
   "id": "bfb12d78",
   "metadata": {},
   "outputs": [
    {
     "name": "stdout",
     "output_type": "stream",
     "text": [
      "55\n",
      "3\n"
     ]
    }
   ],
   "source": [
    "N = input()\n",
    "\n",
    "print(find_cycle(N))"
   ]
  },
  {
   "cell_type": "code",
   "execution_count": 34,
   "id": "89099e87",
   "metadata": {},
   "outputs": [
    {
     "name": "stdout",
     "output_type": "stream",
     "text": [
      "1\n",
      "60\n"
     ]
    }
   ],
   "source": [
    "N = input()\n",
    "\n",
    "print(find_cycle(N))"
   ]
  },
  {
   "cell_type": "code",
   "execution_count": 35,
   "id": "de30c1c3",
   "metadata": {},
   "outputs": [
    {
     "name": "stdout",
     "output_type": "stream",
     "text": [
      "0\n",
      "1\n"
     ]
    }
   ],
   "source": [
    "N = input()\n",
    "\n",
    "print(find_cycle(N))"
   ]
  },
  {
   "cell_type": "code",
   "execution_count": 36,
   "id": "9e905775",
   "metadata": {},
   "outputs": [
    {
     "name": "stdout",
     "output_type": "stream",
     "text": [
      "71\n",
      "12\n"
     ]
    }
   ],
   "source": [
    "N = input()\n",
    "\n",
    "print(find_cycle(N))"
   ]
  }
 ],
 "metadata": {
  "kernelspec": {
   "display_name": "Python 3 (ipykernel)",
   "language": "python",
   "name": "python3"
  },
  "language_info": {
   "codemirror_mode": {
    "name": "ipython",
    "version": 3
   },
   "file_extension": ".py",
   "mimetype": "text/x-python",
   "name": "python",
   "nbconvert_exporter": "python",
   "pygments_lexer": "ipython3",
   "version": "3.9.13"
  }
 },
 "nbformat": 4,
 "nbformat_minor": 5
}
