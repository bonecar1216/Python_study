{
 "cells": [
  {
   "cell_type": "markdown",
   "id": "6b17acec",
   "metadata": {},
   "source": [
    "## 문제>\n",
    "    M이상 N이하의 소수를 모두 출력하는 프로그램을 작성하시오.\n",
    "\n",
    "## 입력>\n",
    "    첫째 줄에 자연수 M과 N이 빈 칸을 사이에 두고 주어진다. (1 ≤ M ≤ N ≤ 1,000,000) M이상 N이하의 소수가 하나 이상 있는 입력만 주어진다.\n",
    "\n",
    "## 출력>\n",
    "    한 줄에 하나씩, 증가하는 순서대로 소수를 출력한다.\n",
    "    \n",
    "    https://www.acmicpc.net/problem/1929"
   ]
  },
  {
   "cell_type": "markdown",
   "id": "d5ab0ad6",
   "metadata": {},
   "source": [
    "## 예제\n",
    "### 입력\n",
    "    3 16\n",
    "### 출력\n",
    "    3\n",
    "    5\n",
    "    7\n",
    "    11\n",
    "    13"
   ]
  },
  {
   "cell_type": "code",
   "execution_count": 4,
   "id": "f357190b",
   "metadata": {},
   "outputs": [
    {
     "name": "stdout",
     "output_type": "stream",
     "text": [
      "3 16\n",
      "3\n",
      "5\n",
      "7\n",
      "11\n",
      "13\n"
     ]
    }
   ],
   "source": [
    "M, N = map(int,input().split())\n",
    "\n",
    "num = [0]*(N+1)\n",
    "num[0] = 1\n",
    "num[1] = 1\n",
    "\n",
    "for i in range(2,N+1):\n",
    "    for j in range(i+i,N+1,i):\n",
    "        num[j] = 1\n",
    "\n",
    "for k, a in enumerate(num):\n",
    "    if a == 0:\n",
    "        if k >= M:\n",
    "            print(k)"
   ]
  }
 ],
 "metadata": {
  "kernelspec": {
   "display_name": "Python 3 (ipykernel)",
   "language": "python",
   "name": "python3"
  },
  "language_info": {
   "codemirror_mode": {
    "name": "ipython",
    "version": 3
   },
   "file_extension": ".py",
   "mimetype": "text/x-python",
   "name": "python",
   "nbconvert_exporter": "python",
   "pygments_lexer": "ipython3",
   "version": "3.9.13"
  }
 },
 "nbformat": 4,
 "nbformat_minor": 5
}
