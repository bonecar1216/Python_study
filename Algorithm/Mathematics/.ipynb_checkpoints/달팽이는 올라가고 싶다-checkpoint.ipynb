{
 "cells": [
  {
   "cell_type": "markdown",
   "id": "9b3e565d",
   "metadata": {},
   "source": [
    "## 문제>\n",
    "    땅 위에 달팽이가 있다. 이 달팽이는 높이가 V미터인 나무 막대를 올라갈 것이다.\n",
    "\n",
    "    달팽이는 낮에 A미터 올라갈 수 있다. 하지만, 밤에 잠을 자는 동안 B미터 미끄러진다. 또, 정상에 올라간 후에는 미끄러지지 않는다.\n",
    "\n",
    "    달팽이가 나무 막대를 모두 올라가려면, 며칠이 걸리는지 구하는 프로그램을 작성하시오.\n",
    "\n",
    "## 입력>\n",
    "    첫째 줄에 세 정수 A, B, V가 공백으로 구분되어서 주어진다. (1 ≤ B < A ≤ V ≤ 1,000,000,000)\n",
    "\n",
    "## 출력>\n",
    "    첫째 줄에 달팽이가 나무 막대를 모두 올라가는데 며칠이 걸리는지 출력한다.\n",
    "    \n",
    "    https://www.acmicpc.net/problem/2869"
   ]
  },
  {
   "cell_type": "markdown",
   "id": "c9cb9454",
   "metadata": {},
   "source": [
    "## 예제1 (입력/출력)\n",
    "2 1 5  /  4\n",
    "## 예제2 (입력/출력)\n",
    "5 1 6  /  2\n",
    "## 예제3 (입력/출력)\n",
    "100 99 1000000000  /  999999901"
   ]
  },
  {
   "cell_type": "code",
   "execution_count": 6,
   "id": "8bfd1c2f",
   "metadata": {},
   "outputs": [
    {
     "name": "stdout",
     "output_type": "stream",
     "text": [
      "2 1 5\n",
      "4\n"
     ]
    }
   ],
   "source": [
    "A, B, V = map(int,input().split())\n",
    "\n",
    "def print_days(A, B, V):\n",
    "    # 초기값 설정\n",
    "    day = 0\n",
    "    height = 0\n",
    "    \n",
    "    # 며칠 걸리는지 계산\n",
    "    while True:\n",
    "        height += A\n",
    "        day += 1\n",
    "        \n",
    "        # 낮에 올라간 후, 막대의 높이보다 높은 경우 일 수를 출력\n",
    "        if height >= V:\n",
    "            return day\n",
    "            break\n",
    "        # 달팽이의 높이가 막대 높이보다 낮을 경우, 밤이 되어서 높이가 감소\n",
    "        else:\n",
    "            height -= B\n",
    "\n",
    "print(print_days(A, B, V))\n",
    "\n",
    "# 이 계산 방법은 V값이 큰 경우에는 많은 계산 시간이 걸림."
   ]
  },
  {
   "cell_type": "code",
   "execution_count": 14,
   "id": "53eefcca",
   "metadata": {},
   "outputs": [],
   "source": [
    "# V값에서 A~1까지 뺀 값 중에서 (A-B)값으로 나눈 몫이 가장 작은 값을 찾아서 구하는 방법 사용 (A-B는 하루에 이동하는 높이)\n",
    "## ex) 2 1 5\n",
    "## A-B = 1\n",
    "## 5-2 = 3 -> A-B로 나눈 몫: 3: 3일동안 3의 높이를 올라간 후, 4일째에 2의 높이를 올라가면 막대 정상에 도착\n",
    "## 5-1 = 4 -> A-B로 나눈 몫: 4"
   ]
  },
  {
   "cell_type": "code",
   "execution_count": 11,
   "id": "4ce2cac7",
   "metadata": {},
   "outputs": [
    {
     "name": "stdout",
     "output_type": "stream",
     "text": [
      "2 1 5\n",
      "4\n"
     ]
    }
   ],
   "source": [
    "A, B, V = map(int,input().split())\n",
    "\n",
    "def cal_days(A, B, V):\n",
    "    min_day = 10000000000\n",
    "    # 하루동안 올라가는 높이\n",
    "    height_per_day = A - B\n",
    "    \n",
    "    # V값에서 A~1까지 뺀 값 중에서 (A-B)값으로 나눈 몫이 가장 작은 값을 찾아서 구하는 방법 사용 \n",
    "    for i in range(A,0,-1):\n",
    "        rest_height = V - i\n",
    "        if rest_height%height_per_day == 0:\n",
    "            min_day = min(rest_height/height_per_day, min_day)\n",
    "    \n",
    "    return int(min_day + 1)\n",
    "\n",
    "print(cal_days(A, B, V))\n",
    "\n",
    "## 이전 코드에 비해 계산 시간이 짧지먄, 제출시에 시간 초과됨."
   ]
  },
  {
   "cell_type": "code",
   "execution_count": 12,
   "id": "7e8fcba1",
   "metadata": {},
   "outputs": [
    {
     "name": "stdout",
     "output_type": "stream",
     "text": [
      "5 1 6\n",
      "2\n"
     ]
    }
   ],
   "source": [
    "A, B, V = map(int,input().split())\n",
    "\n",
    "print(cal_days(A, B, V))"
   ]
  },
  {
   "cell_type": "code",
   "execution_count": 13,
   "id": "9a0284e6",
   "metadata": {
    "scrolled": true
   },
   "outputs": [
    {
     "name": "stdout",
     "output_type": "stream",
     "text": [
      "100 99 1000000000\n",
      "999999901\n"
     ]
    }
   ],
   "source": [
    "A, B, V = map(int,input().split())\n",
    "\n",
    "print(cal_days(A, B, V))"
   ]
  },
  {
   "cell_type": "code",
   "execution_count": null,
   "id": "b09d8089",
   "metadata": {},
   "outputs": [],
   "source": [
    "## x일동안 달팽이가 막대를 올라간다고 하면, x번동안 A의 높이를 올라가고 (x-1)번동안 B의 높이를 내려옴.\n",
    "## Ax - B(x-1) = V\n",
    "## x = (V-B)/(A-B)\n",
    "## 단 x가 소수인 경우는 올림처리 해서 일 수에 반영"
   ]
  },
  {
   "cell_type": "code",
   "execution_count": 15,
   "id": "880cddc3",
   "metadata": {},
   "outputs": [
    {
     "name": "stdout",
     "output_type": "stream",
     "text": [
      "2 1 5\n",
      "4\n"
     ]
    }
   ],
   "source": [
    "import math\n",
    "A, B, V = map(int,input().split())\n",
    "print(math.ceil((V-B)/(A-B)))"
   ]
  },
  {
   "cell_type": "code",
   "execution_count": 16,
   "id": "79da47cd",
   "metadata": {},
   "outputs": [
    {
     "name": "stdout",
     "output_type": "stream",
     "text": [
      "5 1 6\n",
      "2\n"
     ]
    }
   ],
   "source": [
    "import math\n",
    "A, B, V = map(int,input().split())\n",
    "print(math.ceil((V-B)/(A-B)))"
   ]
  },
  {
   "cell_type": "code",
   "execution_count": 17,
   "id": "15119308",
   "metadata": {},
   "outputs": [
    {
     "name": "stdout",
     "output_type": "stream",
     "text": [
      "100 99 1000000000\n",
      "999999901\n"
     ]
    }
   ],
   "source": [
    "import math\n",
    "A, B, V = map(int,input().split())\n",
    "print(math.ceil((V-B)/(A-B)))"
   ]
  }
 ],
 "metadata": {
  "kernelspec": {
   "display_name": "Python 3 (ipykernel)",
   "language": "python",
   "name": "python3"
  },
  "language_info": {
   "codemirror_mode": {
    "name": "ipython",
    "version": 3
   },
   "file_extension": ".py",
   "mimetype": "text/x-python",
   "name": "python",
   "nbconvert_exporter": "python",
   "pygments_lexer": "ipython3",
   "version": "3.9.13"
  }
 },
 "nbformat": 4,
 "nbformat_minor": 5
}
