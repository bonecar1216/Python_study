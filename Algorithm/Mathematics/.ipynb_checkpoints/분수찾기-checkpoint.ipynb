{
 "cells": [
  {
   "cell_type": "markdown",
   "id": "dd5542e7",
   "metadata": {},
   "source": [
    "## 문제>\n",
    "    무한히 큰 배열에 다음과 같이 분수들이 적혀있다.\n",
    "\n",
    "    1/1\t1/2\t1/3\t1/4\t1/5\t…\n",
    "    2/1\t2/2\t2/3\t2/4\t…\t…\n",
    "    3/1\t3/2\t3/3\t…\t…\t…\n",
    "    4/1\t4/2\t…\t…\t…\t…\n",
    "    5/1\t…\t…\t…\t…\t…\n",
    "    …\t…\t…\t…\t…\t…\n",
    "    이와 같이 나열된 분수들을 1/1 → 1/2 → 2/1 → 3/1 → 2/2 → … 과 같은 지그재그 순서로 차례대로 1번, 2번, 3번, 4번, 5번, … 분수라고 하자.\n",
    "\n",
    "    X가 주어졌을 때, X번째 분수를 구하는 프로그램을 작성하시오.\n",
    "\n",
    "## 입력>\n",
    "    첫째 줄에 X(1 ≤ X ≤ 10,000,000)가 주어진다.\n",
    "\n",
    "## 출력>\n",
    "    첫째 줄에 분수를 출력한다.\n",
    "    \n",
    "    https://www.acmicpc.net/problem/1193"
   ]
  },
  {
   "cell_type": "markdown",
   "id": "35d1e39f",
   "metadata": {},
   "source": [
    "## 예제 1(입력/출력)\n",
    "1  /  1/1\n",
    "## 예제 2(입력/출력)\n",
    "2  /  1/2\n",
    "## 예제 3(입력/출력)\n",
    "3  /  2/1\n",
    "## 예제 4(입력/출력)\n",
    "4  /  3/1\n",
    "## 예제 5(입력/출력)\n",
    "5  /  2/2\n",
    "## 예제 6(입력/출력)\n",
    "6  /  1/3\n",
    "## 예제 7(입력/출력)\n",
    "7  /  1/4\n",
    "## 예제 8(입력/출력)\n",
    "8  /  2/3\n",
    "## 예제 9(입력/출력)\n",
    "9  /  3/2\n",
    "## 예제 10(입력/출력)\n",
    "14  /  2/4\n",
    "\n"
   ]
  },
  {
   "cell_type": "code",
   "execution_count": 1,
   "id": "becb069e",
   "metadata": {},
   "outputs": [],
   "source": [
    "## 1/1: 분모 분자 합 2(짝수)인 수 1개\n",
    "## 1/2, 2/1: 분모 분자 합 3(홀수)인 수 2개\n",
    "## 3/1, 2/2, 1/3: 분모 분자 합 4(짝수)인 수 3개\n",
    "## ...\n",
    "## => (2n-1)/1, (2n-2)/2....1/(2n-1): 분모 분자 합 2n(짝수)인 수 2n-1개\n",
    "## => 1/2n, 2/(2n-1)....2n/1: 분모 분자 합 2n+1(홀수)인 수 2n개"
   ]
  },
  {
   "cell_type": "code",
   "execution_count": 18,
   "id": "f9aa9af3",
   "metadata": {},
   "outputs": [],
   "source": [
    "## 분모 분자 합이 짝수인 경우, 분모값이 1인 분수부터 시작해서 분자값이 1인 분수로 끝나는 그룹을 형성\n",
    "## 분모 분자 합이 홀수인 경우, 분자값이 1인 분수부터 시작해서 분모값이 1인 분수로 끝나는 그룹을 형성"
   ]
  },
  {
   "cell_type": "code",
   "execution_count": 19,
   "id": "a447e318",
   "metadata": {},
   "outputs": [],
   "source": [
    "## X가 5인 경우, 3번째 그룹에 위치해 있으며, 그룹내 2번째 분수임\n",
    "## 3번째 그룹의 분모와 분자의 합이 4이므로, 이 그룹은 분모가 1인 분수로 시작됨\n",
    "## 해당 그룹에서 2번째 분수이므로, (4-2)/2 = 2/2가 답이 됨."
   ]
  },
  {
   "cell_type": "code",
   "execution_count": 31,
   "id": "8cc2de52",
   "metadata": {
    "scrolled": true
   },
   "outputs": [
    {
     "name": "stdout",
     "output_type": "stream",
     "text": [
      "1\n",
      "1/1\n"
     ]
    }
   ],
   "source": [
    "X = int(input())\n",
    "\n",
    "def find_fraction(X):\n",
    "    # 주어진 숫자가 포함되는 그룹 찾기\n",
    "    a = 0    \n",
    "    # i값은 몇 번재 그룹인지를 의미하는 수\n",
    "    i = 1\n",
    "    while True:\n",
    "        if a < X <= (a+i):\n",
    "            # 해당 그룹에서 몇 번째 위치하는지 계산 \n",
    "            ## X가 5인 경우, i값이 3이므로 3번째 그룹이며 분모와 분자의 합이 4 (i+1)인 그룹에 포함됨.\n",
    "            ## 그리고 3번째 그룹에서 2번째 (n값) 분수에 해당됨.\n",
    "            n = X - a\n",
    "            break\n",
    "        else:\n",
    "            # a값을 i값만큼 늘려감. (1->3->6->....)\n",
    "            ## a값은 이전 그룹까지의 분수 갯수의 합이 됨.\n",
    "            a += i\n",
    "            i += 1\n",
    "    \n",
    "    \n",
    "    # 분수 구하기\n",
    "    ## 분모 분자의 합이 i+1인 그룹에서 n번째의 분수를 찾으면 됨.\n",
    "    ## 분모 분자합이 짝수인 경우와 홀수인 경우에 따라 다르게 출력\n",
    "    if (i+1)%2 == 0:\n",
    "        return f'{i+1-n}/{n}'\n",
    "    else: \n",
    "        return f'{n}/{i+1-n}'\n",
    "\n",
    "print(find_fraction(X))"
   ]
  },
  {
   "cell_type": "code",
   "execution_count": 32,
   "id": "95b61f1e",
   "metadata": {},
   "outputs": [
    {
     "name": "stdout",
     "output_type": "stream",
     "text": [
      "2\n",
      "1/2\n"
     ]
    }
   ],
   "source": [
    "X = int(input())\n",
    "\n",
    "print(find_fraction(X))"
   ]
  },
  {
   "cell_type": "code",
   "execution_count": 33,
   "id": "7ac2af79",
   "metadata": {},
   "outputs": [
    {
     "name": "stdout",
     "output_type": "stream",
     "text": [
      "3\n",
      "2/1\n"
     ]
    }
   ],
   "source": [
    "X = int(input())\n",
    "\n",
    "print(find_fraction(X))"
   ]
  },
  {
   "cell_type": "code",
   "execution_count": 34,
   "id": "be7be910",
   "metadata": {},
   "outputs": [
    {
     "name": "stdout",
     "output_type": "stream",
     "text": [
      "4\n",
      "3/1\n"
     ]
    }
   ],
   "source": [
    "X = int(input())\n",
    "\n",
    "print(find_fraction(X))"
   ]
  },
  {
   "cell_type": "code",
   "execution_count": 35,
   "id": "02218c92",
   "metadata": {},
   "outputs": [
    {
     "name": "stdout",
     "output_type": "stream",
     "text": [
      "5\n",
      "2/2\n"
     ]
    }
   ],
   "source": [
    "X = int(input())\n",
    "\n",
    "print(find_fraction(X))"
   ]
  },
  {
   "cell_type": "code",
   "execution_count": 36,
   "id": "e861474b",
   "metadata": {},
   "outputs": [
    {
     "name": "stdout",
     "output_type": "stream",
     "text": [
      "6\n",
      "1/3\n"
     ]
    }
   ],
   "source": [
    "X = int(input())\n",
    "\n",
    "print(find_fraction(X))"
   ]
  },
  {
   "cell_type": "code",
   "execution_count": 37,
   "id": "d3eaad2d",
   "metadata": {},
   "outputs": [
    {
     "name": "stdout",
     "output_type": "stream",
     "text": [
      "7\n",
      "1/4\n"
     ]
    }
   ],
   "source": [
    "X = int(input())\n",
    "\n",
    "print(find_fraction(X))"
   ]
  },
  {
   "cell_type": "code",
   "execution_count": 38,
   "id": "4411abe1",
   "metadata": {},
   "outputs": [
    {
     "name": "stdout",
     "output_type": "stream",
     "text": [
      "8\n",
      "2/3\n"
     ]
    }
   ],
   "source": [
    "X = int(input())\n",
    "\n",
    "print(find_fraction(X))"
   ]
  },
  {
   "cell_type": "code",
   "execution_count": 39,
   "id": "a677826d",
   "metadata": {},
   "outputs": [
    {
     "name": "stdout",
     "output_type": "stream",
     "text": [
      "9\n",
      "3/2\n"
     ]
    }
   ],
   "source": [
    "X = int(input())\n",
    "\n",
    "print(find_fraction(X))"
   ]
  },
  {
   "cell_type": "code",
   "execution_count": 40,
   "id": "9590a103",
   "metadata": {},
   "outputs": [
    {
     "name": "stdout",
     "output_type": "stream",
     "text": [
      "14\n",
      "2/4\n"
     ]
    }
   ],
   "source": [
    "X = int(input())\n",
    "\n",
    "print(find_fraction(X))"
   ]
  }
 ],
 "metadata": {
  "kernelspec": {
   "display_name": "Python 3 (ipykernel)",
   "language": "python",
   "name": "python3"
  },
  "language_info": {
   "codemirror_mode": {
    "name": "ipython",
    "version": 3
   },
   "file_extension": ".py",
   "mimetype": "text/x-python",
   "name": "python",
   "nbconvert_exporter": "python",
   "pygments_lexer": "ipython3",
   "version": "3.9.13"
  }
 },
 "nbformat": 4,
 "nbformat_minor": 5
}
