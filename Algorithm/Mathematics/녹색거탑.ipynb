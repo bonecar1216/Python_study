{
 "cells": [
  {
   "attachments": {},
   "cell_type": "markdown",
   "metadata": {},
   "source": [
    "## 문제\n",
    "\n",
    "    Naver D2를 아시나요? D2는 For Developers, By Developers의 약자로, 개발자들을 위해 개발자들이 직접 만들어 가고 있는 네이버 개발자 지원 프로그램입니다. 네이버가 축적한 기술과 지식을 공유하고, 외부 개발자들을 지원해 대한민국 개발자 역량 강화를 이끌고, 이를 통해 업계 전체와 네이버가 함께 성장하는 선순환 구조를 만들고자 합니다.\n",
    "\n",
    "    사실 네이버의 개발자 지원은 오랜 기간 꾸준히 이어져 왔습니다. 개발자 컨퍼런스 DEVIEW를 비롯, 오픈 소스와 개발 도구 공개, 학회 및 커뮤니티 지원 등 여러 지원 프로그램이 있었습니다. 이런 다양한 프로그램을 하나로 통합한 것이 바로 Naver D2입니다.\n",
    "\n",
    "    2022년 봄 어느 날.\n",
    "\n",
    "    전 세계에 코딩괴물이 나타났다.\n",
    "\n",
    "    그리고 코딩괴물과 함께 갑작스레 등장한 '그것'...\n",
    "\n",
    "    바로 녹색거탑이다.\n",
    "\n",
    "    녹색거탑의 정상에서는 매년 NAVER가 개최하는 개발자 컨퍼런스 DEVIEW가 열린다. 이 DEVIEW에 참여하면, 코딩에 깊은 깨달음을 얻어 코딩괴물이 될 수 있다고 전해진다. 그리고 코딩괴물은 녹색거탑의 정상에서 내려온다. 예전부터 전해 내려오는 D2 비전서에 의하면, 코딩괴물이 녹색거탑의 정상에서 내려오는 경우의 수를 파악한 사람은, 개발자 컨퍼런스 DEVIEW에 참여할 수 있다 한다. 그리고 DEVIEW에 참여해 본인도 코딩괴물이 될 수 있다!\n",
    "\n",
    "\n",
    "\n",
    "    녹색거탑은 위 그림과 같이 규칙적으로 쌓여있다.\n",
    "\n",
    "    그림의 시야에 보이지 않는 블록은 없다.\n",
    "    그림의 시야에 보이는 블록의 윗면만 이용해 녹색거탑을 내려올 수 있다.\n",
    "    녹색거탑이 \n",
    "    $N$층이면, 총 \n",
    "    $N$개의 블록을 이용한 최단 경로로만 내려온다.\n",
    "    녹색거탑을 내려올 때는 정상에서 시작해 노란색 바닥까지, 항상 인접한 아래층의 블록으로만 내려온다.\n",
    "    녹색거탑을 정복하고 DEVIEW에 참여하자.\n",
    "\n",
    "## 입력\n",
    "    녹색거탑의 높이를 나타내는 정수 N이 주어진다. (1 <= N <= 5)\n",
    "\n",
    "## 출력\n",
    "    녹색거탑의 정상에서 바닥으로 내려오는 경우의 수를 출력한다.\n",
    "\n",
    "    https://www.acmicpc.net/problem/24723"
   ]
  },
  {
   "attachments": {},
   "cell_type": "markdown",
   "metadata": {},
   "source": [
    "## 예제 1(입력/출력)\n",
    "    1 / 2\n",
    "## 예제 2(입력/출력)\n",
    "    2 / 4"
   ]
  },
  {
   "cell_type": "code",
   "execution_count": 2,
   "metadata": {},
   "outputs": [
    {
     "name": "stdout",
     "output_type": "stream",
     "text": [
      "4\n"
     ]
    }
   ],
   "source": [
    "# 최단 경로: 옆으로 이동하거나 위로 이동하는 경우 없이, 오직 아래로만 이동\n",
    "# 각 블록에서는 오른쪽 왼쪽의 2가지 이동할 수 있는 경우의 수만 있음.\n",
    "# n층일 경우, 경우의 수는 2**n개\n",
    "\n",
    "n = int(input())\n",
    "print(2**n)"
   ]
  }
 ],
 "metadata": {
  "kernelspec": {
   "display_name": "base",
   "language": "python",
   "name": "python3"
  },
  "language_info": {
   "codemirror_mode": {
    "name": "ipython",
    "version": 3
   },
   "file_extension": ".py",
   "mimetype": "text/x-python",
   "name": "python",
   "nbconvert_exporter": "python",
   "pygments_lexer": "ipython3",
   "version": "3.10.4"
  },
  "orig_nbformat": 4
 },
 "nbformat": 4,
 "nbformat_minor": 2
}
