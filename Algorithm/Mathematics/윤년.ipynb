{
 "cells": [
  {
   "cell_type": "markdown",
   "id": "5d3dce7e",
   "metadata": {},
   "source": [
    "## 문제>\n",
    "    연도가 주어졌을 때, 윤년이면 1, 아니면 0을 출력하는 프로그램을 작성하시오.\n",
    "    \n",
    "    윤년은 연도가 4의 배수이면서, 100의 배수가 아닐 때 또는 400의 배수일 때이다.\n",
    "    \n",
    "    예를 들어, 2012년은 4의 배수이면서 100의 배수가 아니라서 윤년이다. 1900년은 100의 배수이고 400의 배수는 아니기 때문에 윤년이 아니다. 하지만, 2000년은 400의 배수이기 때문에 윤년이다.\n",
    "\n",
    "## 입력>\n",
    "    첫째 줄에 연도가 주어진다. 연도는 1보다 크거나 같고, 4000보다 작거나 같은 자연수이다.\n",
    "\n",
    "## 출력>\n",
    "    첫째 줄에 윤년이면 1, 아니면 0을 출력한다."
   ]
  },
  {
   "cell_type": "markdown",
   "id": "72326f22",
   "metadata": {},
   "source": [
    "## 예제1 (입력/출력)\n",
    "2000 / 1\n",
    "## 예제2 (입력/출력)\n",
    "1999 / 0"
   ]
  },
  {
   "cell_type": "code",
   "execution_count": 4,
   "id": "eec0ea52",
   "metadata": {},
   "outputs": [
    {
     "name": "stdout",
     "output_type": "stream",
     "text": [
      "2000\n",
      "1\n"
     ]
    }
   ],
   "source": [
    "N = int(input())\n",
    "\n",
    "def find_leap_year(N):\n",
    "    if N % 400 == 0:\n",
    "        ans = 1\n",
    "    elif N % 4 == 0 and N % 100 != 0:\n",
    "        ans = 1\n",
    "    else:\n",
    "        ans = 0\n",
    "    return ans\n",
    "\n",
    "print(find_leap_year(N))"
   ]
  },
  {
   "cell_type": "code",
   "execution_count": 5,
   "id": "d78bea85",
   "metadata": {},
   "outputs": [
    {
     "name": "stdout",
     "output_type": "stream",
     "text": [
      "1999\n",
      "0\n"
     ]
    }
   ],
   "source": [
    "N = int(input())\n",
    "\n",
    "print(find_leap_year(N))"
   ]
  }
 ],
 "metadata": {
  "kernelspec": {
   "display_name": "Python 3 (ipykernel)",
   "language": "python",
   "name": "python3"
  },
  "language_info": {
   "codemirror_mode": {
    "name": "ipython",
    "version": 3
   },
   "file_extension": ".py",
   "mimetype": "text/x-python",
   "name": "python",
   "nbconvert_exporter": "python",
   "pygments_lexer": "ipython3",
   "version": "3.9.13"
  }
 },
 "nbformat": 4,
 "nbformat_minor": 5
}
