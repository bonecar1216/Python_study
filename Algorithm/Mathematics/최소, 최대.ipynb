{
 "cells": [
  {
   "cell_type": "markdown",
   "id": "167d60ff",
   "metadata": {},
   "source": [
    "## 문제>\n",
    "    N개의 정수가 주어진다. 이때, 최솟값과 최댓값을 구하는 프로그램을 작성하시오.\n",
    "\n",
    "## 입력>\n",
    "    첫째 줄에 정수의 개수 N (1 ≤ N ≤ 1,000,000)이 주어진다. 둘째 줄에는 N개의 정수를 공백으로 구분해서 주어진다. 모든 정수는 -1,000,000보다 크거나 같고, 1,000,000보다 작거나 같은 정수이다.\n",
    "\n",
    "## 출력>\n",
    "    첫째 줄에 주어진 정수 N개의 최솟값과 최댓값을 공백으로 구분해 출력한다."
   ]
  },
  {
   "cell_type": "markdown",
   "id": "e30bfec4",
   "metadata": {},
   "source": [
    "## 예제\n",
    "### 입력\n",
    "    5\n",
    "    20 10 35 30 7\n",
    "### 출력\n",
    "    7 35"
   ]
  },
  {
   "cell_type": "code",
   "execution_count": 10,
   "id": "c495060a",
   "metadata": {},
   "outputs": [
    {
     "name": "stdout",
     "output_type": "stream",
     "text": [
      "5\n",
      "20 10 35 30 7\n",
      "7 35\n"
     ]
    }
   ],
   "source": [
    "N = int(input())\n",
    "A = list(map(int, input().split()))\n",
    "A = sorted(A, reverse = False)\n",
    "print(A[0], A[-1])"
   ]
  }
 ],
 "metadata": {
  "kernelspec": {
   "display_name": "Python 3 (ipykernel)",
   "language": "python",
   "name": "python3"
  },
  "language_info": {
   "codemirror_mode": {
    "name": "ipython",
    "version": 3
   },
   "file_extension": ".py",
   "mimetype": "text/x-python",
   "name": "python",
   "nbconvert_exporter": "python",
   "pygments_lexer": "ipython3",
   "version": "3.9.13"
  }
 },
 "nbformat": 4,
 "nbformat_minor": 5
}
