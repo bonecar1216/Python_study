{
 "cells": [
  {
   "attachments": {},
   "cell_type": "markdown",
   "metadata": {},
   "source": [
    "## 문제\n",
    "    매일 아침 9시에 학교에서 측정한 온도가 어떤 정수의 수열로 주어졌을 때, 연속적인 며칠 동안의 온도의 합이 가장 큰 값을 알아보고자 한다.\n",
    "\n",
    "    예를 들어, 아래와 같이 10일 간의 온도가 주어졌을 때, \n",
    "\n",
    "    3 -2 -4 -9 0 3 7 13 8 -3\n",
    "\n",
    "    모든 연속적인 이틀간의 온도의 합은 아래와 같다.\n",
    "\n",
    "    이때, 온도의 합이 가장 큰 값은 21이다. \n",
    "\n",
    "    또 다른 예로 위와 같은 온도가 주어졌을 때, 모든 연속적인 5일 간의 온도의 합은 아래와 같으며, \n",
    "\n",
    "    이때, 온도의 합이 가장 큰 값은 31이다.\n",
    "\n",
    "    매일 측정한 온도가 정수의 수열로 주어졌을 때, 연속적인 며칠 동안의 온도의 합이 가장 큰 값을 계산하는 프로그램을 작성하시오. \n",
    "\n",
    "## 입력\n",
    "    첫째 줄에는 두 개의 정수 N과 K가 한 개의 공백을 사이에 두고 순서대로 주어진다. 첫 번째 정수 N은 온도를 측정한 전체 날짜의 수이다. N은 2 이상 100,000 이하이다. 두 번째 정수 K는 합을 구하기 위한 연속적인 날짜의 수이다. K는 1과 N 사이의 정수이다. 둘째 줄에는 매일 측정한 온도를 나타내는 N개의 정수가 빈칸을 사이에 두고 주어진다. 이 수들은 모두 -100 이상 100 이하이다. \n",
    "\n",
    "## 출력\n",
    "    첫째 줄에는 입력되는 온도의 수열에서 연속적인 K일의 온도의 합이 최대가 되는 값을 출력한다.\n",
    "\n",
    "    https://www.acmicpc.net/problem/2559"
   ]
  },
  {
   "attachments": {},
   "cell_type": "markdown",
   "metadata": {},
   "source": [
    "## 예제 1(입력/출력)\n",
    "    10 2\n",
    "    3 -2 -4 -9 0 3 7 13 8 -3\n",
    "    / 21\n",
    "## 예제 2(입력/출력)\n",
    "    10 5\n",
    "    3 -2 -4 -9 0 3 7 13 8 -3\n",
    "    / 31"
   ]
  },
  {
   "cell_type": "code",
   "execution_count": 7,
   "metadata": {},
   "outputs": [
    {
     "name": "stdout",
     "output_type": "stream",
     "text": [
      "31\n"
     ]
    }
   ],
   "source": [
    "n, k = map(int,input().split())\n",
    "\n",
    "num_list = list(map(int,input().split()))\n",
    "sum_list = []\n",
    "\n",
    "for i in range(n-k+1):\n",
    "    sum_list.append(sum(num_list[i:i+k]))\n",
    "print(max(sum_list))"
   ]
  }
 ],
 "metadata": {
  "kernelspec": {
   "display_name": "base",
   "language": "python",
   "name": "python3"
  },
  "language_info": {
   "codemirror_mode": {
    "name": "ipython",
    "version": 3
   },
   "file_extension": ".py",
   "mimetype": "text/x-python",
   "name": "python",
   "nbconvert_exporter": "python",
   "pygments_lexer": "ipython3",
   "version": "3.10.4"
  },
  "orig_nbformat": 4
 },
 "nbformat": 4,
 "nbformat_minor": 2
}
