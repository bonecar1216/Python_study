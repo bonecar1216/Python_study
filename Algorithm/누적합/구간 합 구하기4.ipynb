{
 "cells": [
  {
   "attachments": {},
   "cell_type": "markdown",
   "metadata": {},
   "source": [
    "## 문제\n",
    "    수 N개가 주어졌을 때, i번째 수부터 j번째 수까지 합을 구하는 프로그램을 작성하시오.\n",
    "\n",
    "## 입력\n",
    "    첫째 줄에 수의 개수 N과 합을 구해야 하는 횟수 M이 주어진다. 둘째 줄에는 N개의 수가 주어진다. 수는 1,000보다 작거나 같은 자연수이다. 셋째 줄부터 M개의 줄에는 합을 구해야 하는 구간 i와 j가 주어진다.\n",
    "\n",
    "## 출력\n",
    "    총 M개의 줄에 입력으로 주어진 i번째 수부터 j번째 수까지 합을 출력한다.\n",
    "\n",
    "    https://www.acmicpc.net/problem/11659"
   ]
  },
  {
   "attachments": {},
   "cell_type": "markdown",
   "metadata": {},
   "source": [
    "## 예제 (입력/출력)\n",
    "    5 3\n",
    "    5 4 3 2 1\n",
    "    1 3\n",
    "    2 4\n",
    "    5 5\n",
    "    /\n",
    "    12\n",
    "    9\n",
    "    1"
   ]
  },
  {
   "cell_type": "code",
   "execution_count": 2,
   "metadata": {},
   "outputs": [
    {
     "name": "stdout",
     "output_type": "stream",
     "text": [
      "12\n",
      "9\n",
      "1\n"
     ]
    }
   ],
   "source": [
    "n, m = map(int,input().split())\n",
    "\n",
    "num_list = list(map(int,input().split()))\n",
    "\n",
    "for _ in range(m):\n",
    "    i, j = map(int,input().split())\n",
    "    sum = 0\n",
    "    for a in range(i,j+1):\n",
    "        sum += num_list[a-1]\n",
    "    print(sum)\n"
   ]
  },
  {
   "attachments": {},
   "cell_type": "markdown",
   "metadata": {},
   "source": [
    "    * 위 코드로 계산을 수행하면 이중 for문을 돌면서 많은 메모리를 수행하게 됨. (숫자가 큰 경우에는 계산에 많은 시간이 소요됨.)"
   ]
  },
  {
   "cell_type": "code",
   "execution_count": 3,
   "metadata": {},
   "outputs": [
    {
     "name": "stdout",
     "output_type": "stream",
     "text": [
      "12\n",
      "9\n",
      "1\n"
     ]
    }
   ],
   "source": [
    "n, m = map(int,input().split())\n",
    "\n",
    "num_list = list(map(int,input().split()))\n",
    "\n",
    "sum_list = [0]\n",
    "total = 0\n",
    "# 해당 인덱스까지의 누적합을 계산한 리스트를 생성\n",
    "for i in range(len(num_list)):\n",
    "    total += num_list[i]\n",
    "    sum_list.append(total)\n",
    "    \n",
    "# 인덱스 구간에 맞는 누적합 간의 차를 계산하여 값을 구함\n",
    "for _ in range(m):\n",
    "    i, j = map(int,input().split())\n",
    "    print(sum_list[j]-sum_list[i-1])"
   ]
  },
  {
   "cell_type": "code",
   "execution_count": null,
   "metadata": {},
   "outputs": [],
   "source": [
    "# 백준 제출용\n",
    "import sys\n",
    "n, m = map(int,sys.stdin.readline().split())\n",
    "\n",
    "num_list = list(map(int,sys.stdin.readline().split()))\n",
    "\n",
    "sum_list = [0]\n",
    "total = 0\n",
    "# 해당 인덱스까지의 누적합을 계산한 리스트를 생성\n",
    "for i in range(len(num_list)):\n",
    "    total += num_list[i]\n",
    "    sum_list.append(total)\n",
    "    \n",
    "# 인덱스 구간에 맞는 누적합 간의 차를 계산하여 값을 구함\n",
    "for _ in range(m):\n",
    "    i, j = map(int,input().split())\n",
    "    print(sum_list[j]-sum_list[i-1])"
   ]
  }
 ],
 "metadata": {
  "kernelspec": {
   "display_name": "base",
   "language": "python",
   "name": "python3"
  },
  "language_info": {
   "codemirror_mode": {
    "name": "ipython",
    "version": 3
   },
   "file_extension": ".py",
   "mimetype": "text/x-python",
   "name": "python",
   "nbconvert_exporter": "python",
   "pygments_lexer": "ipython3",
   "version": "3.10.4"
  },
  "orig_nbformat": 4
 },
 "nbformat": 4,
 "nbformat_minor": 2
}
