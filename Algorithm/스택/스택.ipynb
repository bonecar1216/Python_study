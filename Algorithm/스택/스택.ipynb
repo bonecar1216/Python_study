{
 "cells": [
  {
   "attachments": {},
   "cell_type": "markdown",
   "metadata": {},
   "source": [
    "## 문제\n",
    "    정수를 저장하는 스택을 구현한 다음, 입력으로 주어지는 명령을 처리하는 프로그램을 작성하시오.\n",
    "\n",
    "    명령은 총 다섯 가지이다.\n",
    "\n",
    "    push X: 정수 X를 스택에 넣는 연산이다.\n",
    "    pop: 스택에서 가장 위에 있는 정수를 빼고, 그 수를 출력한다. 만약 스택에 들어있는 정수가 없는 경우에는 -1을 출력한다.\n",
    "    size: 스택에 들어있는 정수의 개수를 출력한다.\n",
    "    empty: 스택이 비어있으면 1, 아니면 0을 출력한다.\n",
    "    top: 스택의 가장 위에 있는 정수를 출력한다. 만약 스택에 들어있는 정수가 없는 경우에는 -1을 출력한다.\n",
    "\n",
    "## 입력\n",
    "    첫째 줄에 주어지는 명령의 수 N (1 ≤ N ≤ 10,000)이 주어진다. 둘째 줄부터 N개의 줄에는 명령이 하나씩 주어진다. 주어지는 정수는 1보다 크거나 같고, 100,000보다 작거나 같다. 문제에 나와있지 않은 명령이 주어지는 경우는 없다.\n",
    "\n",
    "## 출력\n",
    "    출력해야하는 명령이 주어질 때마다, 한 줄에 하나씩 출력한다.\n",
    "\n",
    "    https://www.acmicpc.net/problem/10828"
   ]
  },
  {
   "attachments": {},
   "cell_type": "markdown",
   "metadata": {},
   "source": [
    "## 예제 1(입력/출력)\n",
    "    14\n",
    "    push 1\n",
    "    push 2\n",
    "    top\n",
    "    size\n",
    "    empty\n",
    "    pop\n",
    "    pop\n",
    "    pop\n",
    "    size\n",
    "    emp ty\n",
    "    pop\n",
    "    push 3\n",
    "    empty\n",
    "    top\n",
    "    /\n",
    "    2\n",
    "    2\n",
    "    0\n",
    "    2\n",
    "    1\n",
    "    -1\n",
    "    0\n",
    "    1\n",
    "    -1\n",
    "    0\n",
    "    3\n",
    "## 예제 2(입력/출력)\n",
    "    7\n",
    "    pop\n",
    "    top\n",
    "    push 123\n",
    "    top\n",
    "    pop\n",
    "    top\n",
    "    pop\n",
    "    /\n",
    "    -1\n",
    "    -1\n",
    "    123\n",
    "    123\n",
    "    -1\n",
    "    -1"
   ]
  },
  {
   "cell_type": "code",
   "execution_count": null,
   "metadata": {},
   "outputs": [],
   "source": [
    "n = int(input())\n",
    "stack = []\n",
    "index = -1\n",
    "\n",
    "for _ in range(n):\n",
    "    order = input()\n",
    "    if 'push' in order:\n",
    "        index += 1\n",
    "        stack.append()\n",
    "    elif order == 'pop':\n",
    "        "
   ]
  }
 ],
 "metadata": {
  "language_info": {
   "name": "python"
  },
  "orig_nbformat": 4
 },
 "nbformat": 4,
 "nbformat_minor": 2
}
