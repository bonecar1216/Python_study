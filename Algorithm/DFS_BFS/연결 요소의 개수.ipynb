{
 "cells": [
  {
   "attachments": {},
   "cell_type": "markdown",
   "metadata": {},
   "source": [
    "## 문제\n",
    "    방향 없는 그래프가 주어졌을 때, 연결 요소 (Connected Component)의 개수를 구하는 프로그램을 작성하시오.\n",
    "\n",
    "## 입력\n",
    "    첫째 줄에 정점의 개수 N과 간선의 개수 M이 주어진다. (1 ≤ N ≤ 1,000, 0 ≤ M ≤ N×(N-1)/2) 둘째 줄부터 M개의 줄에 간선의 양 끝점 u와 v가 주어진다. (1 ≤ u, v ≤ N, u ≠ v) 같은 간선은 한 번만 주어진다.\n",
    "\n",
    "## 출력\n",
    "    첫째 줄에 연결 요소의 개수를 출력한다.\n",
    "\n",
    "    https://www.acmicpc.net/problem/11724"
   ]
  },
  {
   "attachments": {},
   "cell_type": "markdown",
   "metadata": {},
   "source": [
    "## 예제 1(입력/출력)\n",
    "    6 5\n",
    "    1 2\n",
    "    2 5\n",
    "    5 1\n",
    "    3 4\n",
    "    4 6\n",
    "    / 2\n",
    "## 예제 2(입력/출력)\n",
    "    6 8\n",
    "    1 2\n",
    "    2 5\n",
    "    5 1\n",
    "    3 4\n",
    "    4 6\n",
    "    5 4\n",
    "    2 4\n",
    "    2 3\n",
    "    / 1"
   ]
  },
  {
   "cell_type": "code",
   "execution_count": 1,
   "metadata": {},
   "outputs": [
    {
     "name": "stdout",
     "output_type": "stream",
     "text": [
      "2\n"
     ]
    }
   ],
   "source": [
    "import sys\n",
    "sys.setrecursionlimit(10**8)\n",
    "\n",
    "n, m = map(int,input().split())\n",
    "\n",
    "graph = [[] for _ in range(n+1)]\n",
    "for _ in range(m):\n",
    "    a,b = map(int,input().split())\n",
    "    graph[a].append(b)\n",
    "    graph[b].append(a)\n",
    "\n",
    "visited = [False] * (n+1)\n",
    "    \n",
    "def dfs(node):\n",
    "    visited[node] = True\n",
    "    \n",
    "    for i in graph[node]:\n",
    "        if not visited[i]:\n",
    "            visited[i] = True\n",
    "            dfs( i)\n",
    "\n",
    "cnt = 0\n",
    "for i in range(1,n+1):\n",
    "    if not visited[i]:\n",
    "        dfs(i)\n",
    "        cnt += 1\n",
    "\n",
    "print(cnt)"
   ]
  },
  {
   "cell_type": "code",
   "execution_count": 2,
   "metadata": {},
   "outputs": [
    {
     "name": "stdout",
     "output_type": "stream",
     "text": [
      "1\n"
     ]
    }
   ],
   "source": [
    "import sys\n",
    "sys.setrecursionlimit(10**8)\n",
    "\n",
    "n, m = map(int,input().split())\n",
    "\n",
    "graph = [[] for _ in range(n+1)]\n",
    "for _ in range(m):\n",
    "    a,b = map(int,input().split())\n",
    "    graph[a].append(b)\n",
    "    graph[b].append(a)\n",
    "\n",
    "visited = [False] * (n+1)\n",
    "    \n",
    "def dfs(node):\n",
    "    visited[node] = True\n",
    "    \n",
    "    for i in graph[node]:\n",
    "        if not visited[i]:\n",
    "            visited[i] = True\n",
    "            dfs( i)\n",
    "\n",
    "cnt = 0\n",
    "for i in range(1,n+1):\n",
    "    if not visited[i]:\n",
    "        dfs(i)\n",
    "        cnt += 1\n",
    "\n",
    "print(cnt)"
   ]
  },
  {
   "attachments": {},
   "cell_type": "markdown",
   "metadata": {},
   "source": [
    "    * 기본적인 dfs로 해결하는 문제였음. 다만 초반에 문제를 잘못 이해해서 문제 풀이를 잘못 생각한 부분이 있음."
   ]
  },
  {
   "cell_type": "code",
   "execution_count": null,
   "metadata": {},
   "outputs": [],
   "source": [
    "# 백준 제출용\n",
    "import sys\n",
    "sys.setrecursionlimit(10**8)\n",
    "input = sys.stdin.readline\n",
    "\n",
    "n, m = map(int,input().split())\n",
    "\n",
    "graph = [[] for _ in range(n+1)]\n",
    "for _ in range(m):\n",
    "    a,b = map(int,input().split())\n",
    "    graph[a].append(b)\n",
    "    graph[b].append(a)\n",
    "\n",
    "visited = [False] * (n+1)\n",
    "    \n",
    "def dfs(node):\n",
    "    visited[node] = True\n",
    "    \n",
    "    for i in graph[node]:\n",
    "        if not visited[i]:\n",
    "            visited[i] = True\n",
    "            dfs( i)\n",
    "\n",
    "cnt = 0\n",
    "for i in range(1,n+1):\n",
    "    if not visited[i]:\n",
    "        dfs(i)\n",
    "        cnt += 1\n",
    "\n",
    "print(cnt)"
   ]
  }
 ],
 "metadata": {
  "kernelspec": {
   "display_name": "base",
   "language": "python",
   "name": "python3"
  },
  "language_info": {
   "codemirror_mode": {
    "name": "ipython",
    "version": 3
   },
   "file_extension": ".py",
   "mimetype": "text/x-python",
   "name": "python",
   "nbconvert_exporter": "python",
   "pygments_lexer": "ipython3",
   "version": "3.10.4"
  },
  "orig_nbformat": 4,
  "vscode": {
   "interpreter": {
    "hash": "c5e7ae27de7e676b977196ac8e997f52ed2b06660c7c04fca6a938abe3eb249e"
   }
  }
 },
 "nbformat": 4,
 "nbformat_minor": 2
}
