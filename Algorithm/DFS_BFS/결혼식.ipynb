{
 "cells": [
  {
   "cell_type": "markdown",
   "id": "6b33dddc",
   "metadata": {},
   "source": [
    "## 문제>\n",
    "    상근이는 자신의 결혼식에 학교 동기 중 자신의 친구와 친구의 친구를 초대하기로 했다. 상근이의 동기는 모두 N명이고, 이 학생들의 학번은 모두 1부터 N까지이다. 상근이의 학번은 1이다.\n",
    "\n",
    "    상근이는 동기들의 친구 관계를 모두 조사한 리스트를 가지고 있다. 이 리스트를 바탕으로 결혼식에 초대할 사람의 수를 구하는 프로그램을 작성하시오.\n",
    "\n",
    "## 입력>\n",
    "    첫째 줄에 상근이의 동기의 수 n (2 ≤ n ≤ 500)이 주어진다. 둘째 줄에는 리스트의 길이 m (1 ≤ m ≤ 10000)이 주어진다. 다음 줄부터 m개 줄에는 친구 관계 ai bi가 주어진다. (1 ≤ ai < bi ≤ n) ai와 bi가 친구라는 뜻이며, bi와 ai도 친구관계이다. \n",
    "\n",
    "## 출력>\n",
    "    첫째 줄에 상근이의 결혼식에 초대하는 동기의 수를 출력한다.\n",
    "    \n",
    "    https://www.acmicpc.net/problem/5567"
   ]
  },
  {
   "cell_type": "markdown",
   "id": "ad5bd705",
   "metadata": {},
   "source": [
    "## 예제 1(입력/출력)\n",
    "    6\n",
    "    5\n",
    "    1 2\n",
    "    1 3\n",
    "    3 4\n",
    "    2 3\n",
    "    4 5\n",
    "    / 3\n",
    "## 예제 2(입력/출력)\n",
    "    6\n",
    "    5\n",
    "    2 3\n",
    "    3 4\n",
    "    4 5\n",
    "    5 6\n",
    "    2 5\n",
    "    / 0"
   ]
  },
  {
   "cell_type": "code",
   "execution_count": 22,
   "id": "27009000",
   "metadata": {
    "scrolled": true
   },
   "outputs": [
    {
     "name": "stdout",
     "output_type": "stream",
     "text": [
      "6\n",
      "5\n",
      "1 2\n",
      "1 3\n",
      "3 4\n",
      "2 3\n",
      "4 5\n",
      "3\n"
     ]
    }
   ],
   "source": [
    "from collections import deque\n",
    "\n",
    "n = int(input())\n",
    "m = int(input())\n",
    "\n",
    "graph = [[] for _ in range(n+1)]\n",
    "\n",
    "for _ in range(m):\n",
    "    a,b = map(int,input().split())\n",
    "    graph[a].append(b)\n",
    "    graph[b].append(a)\n",
    "\n",
    "visited = [-1] * (n+1)\n",
    "\n",
    "def bfs():\n",
    "    q = deque()\n",
    "    q.append(1)\n",
    "    visited[1] = 0\n",
    "    dist = 1\n",
    "    while q:\n",
    "        x = q.popleft()\n",
    "        for i in graph[x]:\n",
    "            if visited[i] == -1:\n",
    "                visited[i] = visited[x] + 1\n",
    "                q.append(i)\n",
    "   \n",
    "    return visited\n",
    "\n",
    "bfs()\n",
    "cnt = 0\n",
    "for a in visited:\n",
    "    if a == 1 or a == 2:\n",
    "        cnt += 1\n",
    "print(cnt)"
   ]
  },
  {
   "cell_type": "code",
   "execution_count": 23,
   "id": "65f2c003",
   "metadata": {},
   "outputs": [
    {
     "name": "stdout",
     "output_type": "stream",
     "text": [
      "6\n",
      "5\n",
      "2 3\n",
      "3 4\n",
      "4 5\n",
      "5 6\n",
      "2 5\n",
      "0\n"
     ]
    }
   ],
   "source": [
    "from collections import deque\n",
    "\n",
    "n = int(input())\n",
    "m = int(input())\n",
    "\n",
    "graph = [[] for _ in range(n+1)]\n",
    "\n",
    "for _ in range(m):\n",
    "    a,b = map(int,input().split())\n",
    "    graph[a].append(b)\n",
    "    graph[b].append(a)\n",
    "\n",
    "visited = [-1] * (n+1)\n",
    "\n",
    "def bfs():\n",
    "    q = deque()\n",
    "    q.append(1)\n",
    "    visited[1] = 0\n",
    "    dist = 1\n",
    "    while q:\n",
    "        x = q.popleft()\n",
    "        for i in graph[x]:\n",
    "            if visited[i] == -1:\n",
    "                visited[i] = visited[x] + 1\n",
    "                q.append(i)\n",
    "   \n",
    "    return visited\n",
    "\n",
    "bfs()\n",
    "cnt = 0\n",
    "for a in visited:\n",
    "    if a == 1 or a == 2:\n",
    "        cnt += 1\n",
    "print(cnt)"
   ]
  }
 ],
 "metadata": {
  "kernelspec": {
   "display_name": "Python 3 (ipykernel)",
   "language": "python",
   "name": "python3"
  },
  "language_info": {
   "codemirror_mode": {
    "name": "ipython",
    "version": 3
   },
   "file_extension": ".py",
   "mimetype": "text/x-python",
   "name": "python",
   "nbconvert_exporter": "python",
   "pygments_lexer": "ipython3",
   "version": "3.9.13"
  }
 },
 "nbformat": 4,
 "nbformat_minor": 5
}
