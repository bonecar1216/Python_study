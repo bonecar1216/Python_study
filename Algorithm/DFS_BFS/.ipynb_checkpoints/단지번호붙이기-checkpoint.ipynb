{
 "cells": [
  {
   "cell_type": "markdown",
   "id": "9722cda0",
   "metadata": {},
   "source": [
    "## 문제>\n",
    "    <그림 1>과 같이 정사각형 모양의 지도가 있다. 1은 집이 있는 곳을, 0은 집이 없는 곳을 나타낸다. 철수는 이 지도를 가지고 연결된 집의 모임인 단지를 정의하고, 단지에 번호를 붙이려 한다. 여기서 연결되었다는 것은 어떤 집이 좌우, 혹은 아래위로 다른 집이 있는 경우를 말한다. 대각선상에 집이 있는 경우는 연결된 것이 아니다. <그림 2>는 <그림 1>을 단지별로 번호를 붙인 것이다. 지도를 입력하여 단지수를 출력하고, 각 단지에 속하는 집의 수를 오름차순으로 정렬하여 출력하는 프로그램을 작성하시오.\n",
    "\n",
    "## 입력>\n",
    "    첫 번째 줄에는 지도의 크기 N(정사각형이므로 가로와 세로의 크기는 같으며 5≤N≤25)이 입력되고, 그 다음 N줄에는 각각 N개의 자료(0혹은 1)가 입력된다.\n",
    "\n",
    "## 출력>\n",
    "    첫 번째 줄에는 총 단지수를 출력하시오. 그리고 각 단지내 집의 수를 오름차순으로 정렬하여 한 줄에 하나씩 출력하시오.\n",
    "    \n",
    "    https://www.acmicpc.net/problem/2667"
   ]
  },
  {
   "cell_type": "markdown",
   "id": "b1363e73",
   "metadata": {},
   "source": [
    "## 예제 (입력/출력)\n",
    "    7\n",
    "    0110100\n",
    "    0110101\n",
    "    1110101\n",
    "    0000111\n",
    "    0100000\n",
    "    0111110\n",
    "    0111000\n",
    "    /\n",
    "    3\n",
    "    7\n",
    "    8\n",
    "    9"
   ]
  },
  {
   "cell_type": "code",
   "execution_count": 8,
   "id": "382af20a",
   "metadata": {},
   "outputs": [
    {
     "name": "stdout",
     "output_type": "stream",
     "text": [
      "7\n",
      "0110100\n",
      "0110101\n",
      "1110101\n",
      "0000111\n",
      "0100000\n",
      "0111110\n",
      "0111000\n",
      "3\n",
      "7\n",
      "8\n",
      "9\n"
     ]
    }
   ],
   "source": [
    "# dfs 이용\n",
    "n = int(input())\n",
    "\n",
    "graph = []\n",
    "for _ in range(n):\n",
    "    a = input()\n",
    "    graph.append([int(i) for i in a])\n",
    "\n",
    "def dfs(x,y):\n",
    "    if x < 0 or x >= n or y < 0 or y >= n:\n",
    "        return False\n",
    "    \n",
    "    dx = [1,-1,0,0]\n",
    "    dy = [0,0,1,-1]\n",
    "    \n",
    "    if graph[x][y] == 1:\n",
    "        graph[x][y] = 0\n",
    "        global cnt\n",
    "        cnt += 1\n",
    "        for i in range(4):\n",
    "            dfs(x+dx[i],y+dy[i])\n",
    "            \n",
    "        return True    \n",
    "    return False\n",
    "\n",
    "\n",
    "result = 0\n",
    "cnt = 0\n",
    "result_list = []\n",
    "for i in range(n):\n",
    "    for j in range(n):\n",
    "        if dfs(i,j) == True:\n",
    "            result += 1\n",
    "            result_list.append(cnt)\n",
    "            cnt = 0\n",
    "\n",
    "print(result)\n",
    "result_list.sort()\n",
    "for i in result_list:\n",
    "    print(i)"
   ]
  },
  {
   "cell_type": "code",
   "execution_count": 21,
   "id": "f63f27c8",
   "metadata": {},
   "outputs": [
    {
     "name": "stdout",
     "output_type": "stream",
     "text": [
      "7\n",
      "0110100\n",
      "0110101\n",
      "1110101\n",
      "0000111\n",
      "0100000\n",
      "0111110\n",
      "0111000\n",
      "3\n",
      "7\n",
      "8\n",
      "9\n"
     ]
    }
   ],
   "source": [
    "# bfs 이용\n",
    "from collections import deque\n",
    "\n",
    "n = int(input())\n",
    "\n",
    "graph = []\n",
    "for _ in range(n):\n",
    "    a = input()\n",
    "    graph.append([int(i) for i in a])\n",
    "\n",
    "dx = [1,-1,0,0]\n",
    "dy = [0,0,1,-1]\n",
    "\n",
    "def bfs(graph, x, y):\n",
    "    n = len(graph)\n",
    "    queue = deque()\n",
    "    queue.append((x,y))\n",
    "    graph[x][y] = 0\n",
    "    cnt = 1\n",
    "    \n",
    "    while queue:\n",
    "        x,y = queue.popleft()\n",
    "        for i in range(4):\n",
    "            nx = x + dx[i]\n",
    "            ny = y + dy[i]\n",
    "            if nx < 0 or nx >= n or ny < 0 or ny >= n:\n",
    "                continue\n",
    "            \n",
    "            if graph[nx][ny] == 1:\n",
    "                graph[nx][ny] = 0\n",
    "                queue.append((nx,ny))\n",
    "                cnt += 1\n",
    "    return cnt\n",
    "\n",
    "cnt = []\n",
    "for i in range(n):\n",
    "    for j in range(n):\n",
    "        if graph[i][j] == 1:\n",
    "            cnt.append(bfs(graph,i,j))\n",
    "            \n",
    "cnt.sort()\n",
    "print(len(cnt))\n",
    "for i in cnt:\n",
    "    print(i)"
   ]
  }
 ],
 "metadata": {
  "kernelspec": {
   "display_name": "Python 3 (ipykernel)",
   "language": "python",
   "name": "python3"
  },
  "language_info": {
   "codemirror_mode": {
    "name": "ipython",
    "version": 3
   },
   "file_extension": ".py",
   "mimetype": "text/x-python",
   "name": "python",
   "nbconvert_exporter": "python",
   "pygments_lexer": "ipython3",
   "version": "3.9.13"
  }
 },
 "nbformat": 4,
 "nbformat_minor": 5
}
