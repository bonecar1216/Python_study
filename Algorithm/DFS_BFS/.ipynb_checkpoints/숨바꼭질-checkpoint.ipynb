{
 "cells": [
  {
   "cell_type": "markdown",
   "id": "3ea8c391",
   "metadata": {},
   "source": [
    "## 문제>\n",
    "    수빈이는 동생과 숨바꼭질을 하고 있다. 수빈이는 현재 점 N(0 ≤ N ≤ 100,000)에 있고, 동생은 점 K(0 ≤ K ≤ 100,000)에 있다. 수빈이는 걷거나 순간이동을 할 수 있다. 만약, 수빈이의 위치가 X일 때 걷는다면 1초 후에 X-1 또는 X+1로 이동하게 된다. 순간이동을 하는 경우에는 1초 후에 2*X의 위치로 이동하게 된다.\n",
    "\n",
    "    수빈이와 동생의 위치가 주어졌을 때, 수빈이가 동생을 찾을 수 있는 가장 빠른 시간이 몇 초 후인지 구하는 프로그램을 작성하시오.\n",
    "\n",
    "## 입력>\n",
    "    첫 번째 줄에 수빈이가 있는 위치 N과 동생이 있는 위치 K가 주어진다. N과 K는 정수이다.\n",
    "\n",
    "## 출력>\n",
    "    수빈이가 동생을 찾는 가장 빠른 시간을 출력한다.\n",
    "    \n",
    "    https://www.acmicpc.net/problem/1697"
   ]
  },
  {
   "cell_type": "markdown",
   "id": "82c9bef6",
   "metadata": {},
   "source": [
    "## 예제 (입력/출력)\n",
    "    5 17 \n",
    "    / 4"
   ]
  },
  {
   "cell_type": "code",
   "execution_count": 2,
   "id": "88f6433f",
   "metadata": {},
   "outputs": [
    {
     "name": "stdout",
     "output_type": "stream",
     "text": [
      "5 17\n",
      "4\n"
     ]
    }
   ],
   "source": [
    "from collections import deque\n",
    "\n",
    "n,k = map(int,input().split())\n",
    "max_num = 100000\n",
    "visited = [0] * (max_num+1)\n",
    "\n",
    "def bfs():\n",
    "    q = deque()\n",
    "    q.append(n)\n",
    "\n",
    "    while q:\n",
    "        x = q.popleft()\n",
    "        if x == k:\n",
    "            print(visited[x])\n",
    "        else:\n",
    "            for j in (x-1,x+1,x*2):\n",
    "                # x에서 이동한 값이 0~100000 범위에 있고, 방문한 적이 없으면 (방문하지 않은 경우 0값이 있기 때문에 not 0은 1이 됨. => True)\n",
    "                if 0<= j <= max_num and not visited[j]:\n",
    "                    # 이전 위치에서의 시간에 1초를 더해줌\n",
    "                    visited[j] = visited[x] + 1\n",
    "                    # q에 추가해서 다음 계산을 진행\n",
    "                    q.append(j)\n",
    "\n",
    "bfs()"
   ]
  }
 ],
 "metadata": {
  "kernelspec": {
   "display_name": "Python 3 (ipykernel)",
   "language": "python",
   "name": "python3"
  },
  "language_info": {
   "codemirror_mode": {
    "name": "ipython",
    "version": 3
   },
   "file_extension": ".py",
   "mimetype": "text/x-python",
   "name": "python",
   "nbconvert_exporter": "python",
   "pygments_lexer": "ipython3",
   "version": "3.9.13"
  }
 },
 "nbformat": 4,
 "nbformat_minor": 5
}
