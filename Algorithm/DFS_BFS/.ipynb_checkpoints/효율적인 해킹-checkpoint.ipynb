{
 "cells": [
  {
   "cell_type": "markdown",
   "id": "5a471fcb",
   "metadata": {},
   "source": [
    "## 문제>\n",
    "    해커 김지민은 잘 알려진 어느 회사를 해킹하려고 한다. 이 회사는 N개의 컴퓨터로 이루어져 있다. 김지민은 귀찮기 때문에, 한 번의 해킹으로 여러 개의 컴퓨터를 해킹 할 수 있는 컴퓨터를 해킹하려고 한다.\n",
    "\n",
    "    이 회사의 컴퓨터는 신뢰하는 관계와, 신뢰하지 않는 관계로 이루어져 있는데, A가 B를 신뢰하는 경우에는 B를 해킹하면, A도 해킹할 수 있다는 소리다.\n",
    "\n",
    "    이 회사의 컴퓨터의 신뢰하는 관계가 주어졌을 때, 한 번에 가장 많은 컴퓨터를 해킹할 수 있는 컴퓨터의 번호를 출력하는 프로그램을 작성하시오.\n",
    "    \n",
    "## 입력>\n",
    "    첫째 줄에, N과 M이 들어온다. N은 10,000보다 작거나 같은 자연수, M은 100,000보다 작거나 같은 자연수이다. 둘째 줄부터 M개의 줄에 신뢰하는 관계가 A B와 같은 형식으로 들어오며, \"A가 B를 신뢰한다\"를 의미한다. 컴퓨터는 1번부터 N번까지 번호가 하나씩 매겨져 있다.\n",
    "\n",
    "## 출력>\n",
    "    첫째 줄에, 김지민이 한 번에 가장 많은 컴퓨터를 해킹할 수 있는 컴퓨터의 번호를 오름차순으로 출력한다.\n",
    "    \n",
    "    https://www.acmicpc.net/problem/1325"
   ]
  },
  {
   "cell_type": "markdown",
   "id": "8aac3b94",
   "metadata": {},
   "source": [
    "## 예제 (입력/출력)\n",
    "    5 4\n",
    "    3 1\n",
    "    3 2\n",
    "    4 3\n",
    "    5 3\n",
    "    / 1 2"
   ]
  },
  {
   "cell_type": "code",
   "execution_count": 34,
   "id": "160a6b4d",
   "metadata": {
    "scrolled": true
   },
   "outputs": [
    {
     "name": "stdout",
     "output_type": "stream",
     "text": [
      "5 4\n",
      "3 1\n",
      "3 2\n",
      "4 3\n",
      "5 3\n",
      "1 2\n"
     ]
    }
   ],
   "source": [
    "n, m = map(int,input().split())\n",
    "\n",
    "graph = [[] for _ in range(n+1)]\n",
    "\n",
    "for _ in range(m):\n",
    "    a,b = map(int,input().split())\n",
    "    graph[b].append(a)\n",
    "\n",
    "def dfs(graph, visited, x):\n",
    "    \n",
    "    visited[x] = True\n",
    "    for i in graph[x]:\n",
    "        if not visited[i]:\n",
    "            global cnt\n",
    "            cnt += 1\n",
    "            dfs(graph, visited,i)\n",
    "            \n",
    "ans = []\n",
    "max_cnt = 0\n",
    "for i in range(1,n+1):\n",
    "    cnt = 1\n",
    "    visited = [False]*(n+1)\n",
    "    dfs(graph,visited,i)\n",
    "    \n",
    "    if cnt > max_cnt:\n",
    "        max_cnt = cnt\n",
    "        ans.clear()\n",
    "        ans.append(i)\n",
    "    elif cnt == max_cnt:\n",
    "        ans.append(i)\n",
    "        \n",
    "print(*ans)"
   ]
  },
  {
   "cell_type": "markdown",
   "id": "cd7fa2a3",
   "metadata": {},
   "source": [
    "    * 문제 제출시 시간 초과 발생함. DFS가 아닌 BFS 접근 시도해보기로 함."
   ]
  },
  {
   "cell_type": "code",
   "execution_count": null,
   "id": "7759200a",
   "metadata": {},
   "outputs": [],
   "source": []
  }
 ],
 "metadata": {
  "kernelspec": {
   "display_name": "Python 3 (ipykernel)",
   "language": "python",
   "name": "python3"
  },
  "language_info": {
   "codemirror_mode": {
    "name": "ipython",
    "version": 3
   },
   "file_extension": ".py",
   "mimetype": "text/x-python",
   "name": "python",
   "nbconvert_exporter": "python",
   "pygments_lexer": "ipython3",
   "version": "3.9.13"
  }
 },
 "nbformat": 4,
 "nbformat_minor": 5
}
