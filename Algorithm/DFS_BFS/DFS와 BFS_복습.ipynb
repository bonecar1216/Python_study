{
 "cells": [
  {
   "attachments": {},
   "cell_type": "markdown",
   "metadata": {},
   "source": [
    "## 문제\n",
    "    그래프를 DFS로 탐색한 결과와 BFS로 탐색한 결과를 출력하는 프로그램을 작성하시오. 단, 방문할 수 있는 정점이 여러 개인 경우에는 정점 번호가 작은 것을 먼저 방문하고, 더 이상 방문할 수 있는 점이 없는 경우 종료한다. 정점 번호는 1번부터 N번까지이다.\n",
    "\n",
    "## 입력\n",
    "    첫째 줄에 정점의 개수 N(1 ≤ N ≤ 1,000), 간선의 개수 M(1 ≤ M ≤ 10,000), 탐색을 시작할 정점의 번호 V가 주어진다. 다음 M개의 줄에는 간선이 연결하는 두 정점의 번호가 주어진다. 어떤 두 정점 사이에 여러 개의 간선이 있을 수 있다. 입력으로 주어지는 간선은 양방향이다.\n",
    "\n",
    "## 출력\n",
    "    첫째 줄에 DFS를 수행한 결과를, 그 다음 줄에는 BFS를 수행한 결과를 출력한다. V부터 방문된 점을 순서대로 출력하면 된다.\n",
    "\n",
    "    https://www.acmicpc.net/problem/1260"
   ]
  },
  {
   "attachments": {},
   "cell_type": "markdown",
   "metadata": {},
   "source": [
    "## 예제 1(입력/출력)\n",
    "    4 5 1\n",
    "    1 2\n",
    "    1 3\n",
    "    1 4\n",
    "    2 4\n",
    "    3 4/\n",
    "    1 2 4 3\n",
    "    1 2 3 4\n",
    "## 예제 2(입력/출력)\n",
    "    5 5 3\n",
    "    5 4\n",
    "    5 2\n",
    "    1 2\n",
    "    3 4\n",
    "    3 1/\n",
    "    3 1 2 5 4\n",
    "    3 1 4 2 5\n",
    "## 예제 3(입력/출력)\n",
    "    1000 1 1000\n",
    "    999 1000/\n",
    "    1000 999\n",
    "    1000 999"
   ]
  },
  {
   "cell_type": "code",
   "execution_count": 17,
   "metadata": {},
   "outputs": [
    {
     "name": "stdout",
     "output_type": "stream",
     "text": [
      "1 2 4 3 \n",
      "1 2 3 4 "
     ]
    }
   ],
   "source": [
    "from collections import deque\n",
    "\n",
    "n, m, v = map(int,input().split())\n",
    "graph = [[] for _ in range(n+1)]\n",
    "visited = [False] * (n+1)\n",
    "visited2 = [False] * (n+1)\n",
    "\n",
    "for _ in range(m):\n",
    "    i, j = map(int,input().split())\n",
    "    graph[i].append(j)\n",
    "    graph[j].append(i)\n",
    "\n",
    "def dfs(visited, v):\n",
    "    visited[v] = True\n",
    "    print(v, end = ' ')\n",
    "    graph[v].sort()\n",
    "    for a in graph[v]:\n",
    "        if not visited[a]:\n",
    "            dfs(visited,a)\n",
    "\n",
    "def bfs(visited,v):\n",
    "    q = deque()\n",
    "    q.append(v)\n",
    "    visited[v] = True\n",
    "    print(v, end=' ')\n",
    "    while q:\n",
    "        b = q.popleft()\n",
    "        graph[b].sort()\n",
    "        for c in graph[b]:\n",
    "            if not visited[c]:\n",
    "                q.append(c)\n",
    "                visited[c] = True\n",
    "                print(c, end=' ')\n",
    "\n",
    "dfs(visited,v)\n",
    "print()\n",
    "bfs(visited2,v)"
   ]
  },
  {
   "cell_type": "code",
   "execution_count": null,
   "metadata": {},
   "outputs": [],
   "source": [
    "   "
   ]
  },
  {
   "cell_type": "code",
   "execution_count": 14,
   "metadata": {},
   "outputs": [
    {
     "name": "stdout",
     "output_type": "stream",
     "text": [
      "[[], [2, 3], [5, 1], [4, 1], [5, 3], [4, 2]]\n"
     ]
    }
   ],
   "source": [
    "print(graph) "
   ]
  }
 ],
 "metadata": {
  "kernelspec": {
   "display_name": "base",
   "language": "python",
   "name": "python3"
  },
  "language_info": {
   "codemirror_mode": {
    "name": "ipython",
    "version": 3
   },
   "file_extension": ".py",
   "mimetype": "text/x-python",
   "name": "python",
   "nbconvert_exporter": "python",
   "pygments_lexer": "ipython3",
   "version": "3.10.4"
  },
  "orig_nbformat": 4
 },
 "nbformat": 4,
 "nbformat_minor": 2
}
